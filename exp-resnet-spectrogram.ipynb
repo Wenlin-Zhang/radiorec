{
 "cells": [
  {
   "cell_type": "code",
   "execution_count": 1,
   "id": "515b93c1",
   "metadata": {},
   "outputs": [],
   "source": [
    "from pytorch_lightning.callbacks import ModelCheckpoint\n",
    "from pytorch_lightning import LightningModule, Trainer\n",
    "from sklearn.metrics import classification_report\n",
    "from torch.utils.data import DataLoader\n",
    "from matplotlib import pyplot as plt\n",
    "from torch import optim\n",
    "from tqdm import tqdm\n",
    "import torch.nn.functional as F\n",
    "import numpy as np\n",
    "import torch\n",
    "import math\n",
    "import timm\n",
    "\n",
    "import transforms.eft as Eft\n",
    "from datasets.transformed_dataset import TransformedDataset\n",
    "from utils import plot_confusion_matrix\n",
    "from models.radio_rec_model import RadioRecNetwork\n",
    "from models.resnet import create_resnet_2d\n",
    "import datasets.signal_file_dataset as sfds\n",
    "import os.path"
   ]
  },
  {
   "cell_type": "code",
   "execution_count": 2,
   "id": "2d2f00b2",
   "metadata": {},
   "outputs": [
    {
     "data": {
      "text/plain": [
       "'2.0.9'"
      ]
     },
     "execution_count": 2,
     "metadata": {},
     "output_type": "execute_result"
    }
   ],
   "source": [
    "import pytorch_lightning as pl\n",
    "pl.__version__"
   ]
  },
  {
   "cell_type": "code",
   "execution_count": 3,
   "id": "d410306a",
   "metadata": {},
   "outputs": [
    {
     "data": {
      "text/plain": [
       "'2.0.1+cu118'"
      ]
     },
     "execution_count": 3,
     "metadata": {},
     "output_type": "execute_result"
    }
   ],
   "source": [
    "torch.__version__"
   ]
  },
  {
   "cell_type": "code",
   "execution_count": 2,
   "id": "e8ab3a04",
   "metadata": {},
   "outputs": [
    {
     "name": "stdout",
     "output_type": "stream",
     "text": [
      "True\n"
     ]
    }
   ],
   "source": [
    "print(torch.cuda.is_available())"
   ]
  },
  {
   "cell_type": "code",
   "execution_count": 3,
   "id": "ebf0acbe",
   "metadata": {},
   "outputs": [],
   "source": [
    "data_root_dir = \"d:/data/duijiangji\"\n",
    "checkpoint_dir=f'./exp/radiorec/duijiangji-spectrogram-checkpoints'"
   ]
  },
  {
   "cell_type": "code",
   "execution_count": 6,
   "id": "840635b6",
   "metadata": {},
   "outputs": [
    {
     "name": "stdout",
     "output_type": "stream",
     "text": [
      "data path: d:/data/duijiangji\\train\n",
      "classes: ['A', 'B', 'C']\n",
      "class dict: {'A': 0, 'B': 1, 'C': 2}\n",
      "{'A': 24, 'B': 24, 'C': 23}\n",
      "data path: d:/data/duijiangji\\test\n",
      "classes: ['A', 'B', 'C']\n",
      "class dict: {'A': 0, 'B': 1, 'C': 2}\n",
      "{'A': 10, 'B': 10, 'C': 10}\n"
     ]
    }
   ],
   "source": [
    "train_dir = os.path.join(data_root_dir, 'train')\n",
    "train_file_set = sfds.SignalFileSet(train_dir, 'bin')\n",
    "train_file_set.print_info()\n",
    "\n",
    "test_dir = os.path.join(data_root_dir, 'test')\n",
    "test_file_set = sfds.SignalFileSet(test_dir, 'bin')\n",
    "test_file_set.print_info()"
   ]
  },
  {
   "cell_type": "code",
   "execution_count": 7,
   "id": "53949e25",
   "metadata": {},
   "outputs": [
    {
     "name": "stdout",
     "output_type": "stream",
     "text": [
      "class list: ['A', 'B', 'C']\n",
      "class dict: {'A': 0, 'B': 1, 'C': 2}\n",
      "seg count for each class: {'A': 5846, 'B': 5549, 'C': 5730}\n",
      "class list: ['A', 'B', 'C']\n",
      "class dict: {'A': 0, 'B': 1, 'C': 2}\n",
      "seg count for each class: {'A': 2327, 'B': 2413, 'C': 2468}\n"
     ]
    }
   ],
   "source": [
    "import datasets.signal_file_dataset as sfds\n",
    "sig_file_conf = sfds.SignalFileConfig()\n",
    "sig_file_conf.fs = 256000      # 64K Hz sample rate\n",
    "sig_file_conf.seg_len = 200   # 200ms ???\n",
    "sig_file_conf.seg_shift = 200 # 200 ms, no overlap\n",
    "sig_file_conf.max_num = 4000\n",
    "sig_file_conf.is_complex = True\n",
    "sig_file_conf.energy_threshold = 1.0\n",
    "\n",
    "train_dataset = sfds.SignalDataSet(train_file_set, sig_file_conf)\n",
    "train_dataset.print_info()\n",
    "\n",
    "test_dataset = sfds.SignalDataSet(test_file_set, sig_file_conf)\n",
    "test_dataset.print_info()"
   ]
  },
  {
   "cell_type": "code",
   "execution_count": 8,
   "id": "a5f984c4",
   "metadata": {},
   "outputs": [],
   "source": [
    "train_dataset.save(os.path.join(data_root_dir, 'train.hdf5'))\n",
    "test_dataset.save(os.path.join(data_root_dir, 'test.hdf5'))"
   ]
  },
  {
   "cell_type": "code",
   "execution_count": 4,
   "id": "69af87f1",
   "metadata": {
    "scrolled": true
   },
   "outputs": [
    {
     "name": "stdout",
     "output_type": "stream",
     "text": [
      "class list: ['A', 'B', 'C']\n",
      "class dict: {'A': 0, 'B': 1, 'C': 2}\n",
      "seg count for each class: {'A': 5846, 'B': 5549, 'C': 5730}\n",
      "class list: ['A', 'B', 'C']\n",
      "class dict: {'A': 0, 'B': 1, 'C': 2}\n",
      "seg count for each class: {'A': 2327, 'B': 2413, 'C': 2468}\n"
     ]
    }
   ],
   "source": [
    "train_dataset = sfds.SignalDataSet()\n",
    "train_dataset.load(os.path.join(data_root_dir, 'train.hdf5'))\n",
    "train_dataset.print_info()\n",
    "\n",
    "test_dataset = sfds.SignalDataSet()\n",
    "test_dataset.load(os.path.join(data_root_dir, 'test.hdf5'))\n",
    "test_dataset.print_info()"
   ]
  },
  {
   "cell_type": "code",
   "execution_count": 10,
   "id": "f932d64d",
   "metadata": {},
   "outputs": [
    {
     "data": {
      "text/plain": [
       "(17125, 51200, 2)"
      ]
     },
     "execution_count": 10,
     "metadata": {},
     "output_type": "execute_result"
    }
   ],
   "source": [
    "train_dataset.data.shape"
   ]
  },
  {
   "cell_type": "code",
   "execution_count": 11,
   "id": "71c79dcd",
   "metadata": {},
   "outputs": [
    {
     "data": {
      "text/plain": [
       "(17125,)"
      ]
     },
     "execution_count": 11,
     "metadata": {},
     "output_type": "execute_result"
    }
   ],
   "source": [
    "train_dataset.labels.shape"
   ]
  },
  {
   "cell_type": "code",
   "execution_count": 5,
   "id": "26929281",
   "metadata": {},
   "outputs": [],
   "source": [
    "class_list = train_dataset.class_list\n",
    "num_classes = len(class_list)"
   ]
  },
  {
   "cell_type": "code",
   "execution_count": 13,
   "id": "fd39ed2c",
   "metadata": {},
   "outputs": [
    {
     "data": {
      "image/png": "[encoded data removed]",
      "text/plain": [
       "<Figure size 1400x900 with 6 Axes>"
      ]
     },
     "metadata": {},
     "output_type": "display_data"
    }
   ],
   "source": [
    "# Repeat but plot andom sampling of the data\n",
    "from datasets.visualize import IQVisualizer\n",
    "\n",
    "example_dataloader = DataLoader(\n",
    "    dataset=train_dataset,\n",
    "    batch_size=6,\n",
    "    num_workers=0,\n",
    "    shuffle=True,\n",
    "    drop_last=True,\n",
    ")\n",
    "visualizer = IQVisualizer(\n",
    "    data_loader = example_dataloader,\n",
    "    visualize_target_transform = lambda target: [class_list[int(index)] for index in target]\n",
    ")\n",
    "\n",
    "for figure in iter(visualizer):\n",
    "    figure.set_size_inches(14, 9)\n",
    "    plt.show()\n",
    "    break"
   ]
  },
  {
   "cell_type": "code",
   "execution_count": 6,
   "id": "9a99683d",
   "metadata": {},
   "outputs": [],
   "source": [
    "from transforms.transforms import Compose\n",
    "from transforms.spectrogram_transform import SpectrogramConfig, Spectrogram\n",
    "from transforms.impairment import Normalize, AddNoise\n",
    "\n",
    "#normalize_transform = Normalize(norm=2)\n",
    "\n",
    "interleave_to_complex = Eft.InterleaveComplex()\n",
    "\n",
    "add_noise = AddNoise((-40, -20)) # Added AWGN power range is (-40, -20) dB\n",
    "\n",
    "spectrogram_config = SpectrogramConfig()\n",
    "spectrogram_config.nperseg = 256\n",
    "spectrogram_config.noverlap = 128\n",
    "spectrogram_config.nfft = 256\n",
    "spectrogram_config.window = 'hann'\n",
    "spectrogram_config.return_onesided = False\n",
    "spectrogram_config.mode = 'magnitude'\n",
    "spectorgram_transform = Spectrogram(spectrogram_config)\n",
    "\n",
    "train_dataset = TransformedDataset(train_dataset, transform = Compose([interleave_to_complex, add_noise, spectorgram_transform]))\n",
    "test_dataset = TransformedDataset(test_dataset, transform = Compose([interleave_to_complex, spectorgram_transform]))\n",
    "\n",
    "# interleave_to_2d = Eft.InterleaveTo2D()\n",
    "# train_dataset = TransformedDataset(train_dataset, transform = interleave_to_2d)\n",
    "# test_dataset = TransformedDataset(test_dataset, transform = interleave_to_2d)"
   ]
  },
  {
   "cell_type": "code",
   "execution_count": 7,
   "id": "ac6b9c56",
   "metadata": {},
   "outputs": [
    {
     "name": "stdout",
     "output_type": "stream",
     "text": [
      "Train dataset length: 17125\n",
      "Val dataset length: 3604\n",
      "Test dataset length: 3604\n",
      "Data shape: (1, 256, 399)\n",
      "Channels: 1\n",
      "Label Index: 0\n",
      "Label Class: A\n"
     ]
    }
   ],
   "source": [
    "num = len(test_dataset)\n",
    "num_test = math.floor(0.5 * num)\n",
    "num_val = num - num_test\n",
    "\n",
    "test_dataset, val_dataset = torch.utils.data.random_split(test_dataset, [num_test, num_val],\n",
    "                                                                         generator = torch.Generator().manual_seed(42))\n",
    "idx = np.random.randint(len(test_dataset))\n",
    "data, label = test_dataset[idx]\n",
    "channels = data.shape[0]\n",
    "print(\"Train dataset length: {}\".format(len(train_dataset)))\n",
    "print(\"Val dataset length: {}\".format(len(val_dataset)))\n",
    "print(\"Test dataset length: {}\".format(len(test_dataset)))\n",
    "\n",
    "print(\"Data shape: {}\".format(data.shape))\n",
    "print(f\"Channels: {channels}\")\n",
    "print(\"Label Index: {}\".format(label))\n",
    "print(\"Label Class: {}\".format(class_list[label]))\n",
    "\n"
   ]
  },
  {
   "cell_type": "code",
   "execution_count": 8,
   "id": "42f8fa70",
   "metadata": {},
   "outputs": [],
   "source": [
    "# ----\n",
    "# ### Format Dataset for Training\n",
    "# Next, the datasets are then wrapped as `DataLoaders` to prepare for training.\n",
    "\n",
    "# Create dataloaders\n",
    "train_dataloader = DataLoader(\n",
    "    dataset=train_dataset,\n",
    "    batch_size=32,\n",
    "    num_workers=0,\n",
    "    shuffle=True,\n",
    "    drop_last=True,\n",
    ")\n",
    "val_dataloader = DataLoader(\n",
    "    dataset=val_dataset,\n",
    "    batch_size=16,\n",
    "    num_workers=0,\n",
    "    shuffle=False,\n",
    "    drop_last=True,\n",
    ")\n",
    "test_dataloader = DataLoader(\n",
    "    dataset=test_dataset,\n",
    "    batch_size=16,\n",
    "    num_workers=0,\n",
    "    shuffle=False,\n",
    "    drop_last=False,\n",
    ")"
   ]
  },
  {
   "cell_type": "code",
   "execution_count": 9,
   "id": "e857a18a",
   "metadata": {},
   "outputs": [
    {
     "data": {
      "text/plain": [
       "ResNet(\n",
       "  (conv1): Conv2d(1, 64, kernel_size=(7, 7), stride=(2, 2), padding=(3, 3), bias=False)\n",
       "  (bn1): BatchNorm2d(64, eps=1e-05, momentum=0.1, affine=True, track_running_stats=True)\n",
       "  (act1): ReLU(inplace=True)\n",
       "  (maxpool): MaxPool2d(kernel_size=3, stride=2, padding=1, dilation=1, ceil_mode=False)\n",
       "  (layer1): Sequential(\n",
       "    (0): BasicBlock(\n",
       "      (conv1): Conv2d(64, 64, kernel_size=(3, 3), stride=(1, 1), padding=(1, 1), bias=False)\n",
       "      (bn1): BatchNorm2d(64, eps=1e-05, momentum=0.1, affine=True, track_running_stats=True)\n",
       "      (act1): ReLU(inplace=True)\n",
       "      (conv2): Conv2d(64, 64, kernel_size=(3, 3), stride=(1, 1), padding=(1, 1), bias=False)\n",
       "      (bn2): BatchNorm2d(64, eps=1e-05, momentum=0.1, affine=True, track_running_stats=True)\n",
       "      (act2): ReLU(inplace=True)\n",
       "    )\n",
       "    (1): BasicBlock(\n",
       "      (conv1): Conv2d(64, 64, kernel_size=(3, 3), stride=(1, 1), padding=(1, 1), bias=False)\n",
       "      (bn1): BatchNorm2d(64, eps=1e-05, momentum=0.1, affine=True, track_running_stats=True)\n",
       "      (act1): ReLU(inplace=True)\n",
       "      (conv2): Conv2d(64, 64, kernel_size=(3, 3), stride=(1, 1), padding=(1, 1), bias=False)\n",
       "      (bn2): BatchNorm2d(64, eps=1e-05, momentum=0.1, affine=True, track_running_stats=True)\n",
       "      (act2): ReLU(inplace=True)\n",
       "    )\n",
       "  )\n",
       "  (layer2): Sequential(\n",
       "    (0): BasicBlock(\n",
       "      (conv1): Conv2d(64, 128, kernel_size=(3, 3), stride=(2, 2), padding=(1, 1), bias=False)\n",
       "      (bn1): BatchNorm2d(128, eps=1e-05, momentum=0.1, affine=True, track_running_stats=True)\n",
       "      (act1): ReLU(inplace=True)\n",
       "      (conv2): Conv2d(128, 128, kernel_size=(3, 3), stride=(1, 1), padding=(1, 1), bias=False)\n",
       "      (bn2): BatchNorm2d(128, eps=1e-05, momentum=0.1, affine=True, track_running_stats=True)\n",
       "      (act2): ReLU(inplace=True)\n",
       "      (downsample): Sequential(\n",
       "        (0): Conv2d(64, 128, kernel_size=(1, 1), stride=(2, 2), bias=False)\n",
       "        (1): BatchNorm2d(128, eps=1e-05, momentum=0.1, affine=True, track_running_stats=True)\n",
       "      )\n",
       "    )\n",
       "    (1): BasicBlock(\n",
       "      (conv1): Conv2d(128, 128, kernel_size=(3, 3), stride=(1, 1), padding=(1, 1), bias=False)\n",
       "      (bn1): BatchNorm2d(128, eps=1e-05, momentum=0.1, affine=True, track_running_stats=True)\n",
       "      (act1): ReLU(inplace=True)\n",
       "      (conv2): Conv2d(128, 128, kernel_size=(3, 3), stride=(1, 1), padding=(1, 1), bias=False)\n",
       "      (bn2): BatchNorm2d(128, eps=1e-05, momentum=0.1, affine=True, track_running_stats=True)\n",
       "      (act2): ReLU(inplace=True)\n",
       "    )\n",
       "  )\n",
       "  (layer3): Sequential(\n",
       "    (0): BasicBlock(\n",
       "      (conv1): Conv2d(128, 256, kernel_size=(3, 3), stride=(2, 2), padding=(1, 1), bias=False)\n",
       "      (bn1): BatchNorm2d(256, eps=1e-05, momentum=0.1, affine=True, track_running_stats=True)\n",
       "      (act1): ReLU(inplace=True)\n",
       "      (conv2): Conv2d(256, 256, kernel_size=(3, 3), stride=(1, 1), padding=(1, 1), bias=False)\n",
       "      (bn2): BatchNorm2d(256, eps=1e-05, momentum=0.1, affine=True, track_running_stats=True)\n",
       "      (act2): ReLU(inplace=True)\n",
       "      (downsample): Sequential(\n",
       "        (0): Conv2d(128, 256, kernel_size=(1, 1), stride=(2, 2), bias=False)\n",
       "        (1): BatchNorm2d(256, eps=1e-05, momentum=0.1, affine=True, track_running_stats=True)\n",
       "      )\n",
       "    )\n",
       "    (1): BasicBlock(\n",
       "      (conv1): Conv2d(256, 256, kernel_size=(3, 3), stride=(1, 1), padding=(1, 1), bias=False)\n",
       "      (bn1): BatchNorm2d(256, eps=1e-05, momentum=0.1, affine=True, track_running_stats=True)\n",
       "      (act1): ReLU(inplace=True)\n",
       "      (conv2): Conv2d(256, 256, kernel_size=(3, 3), stride=(1, 1), padding=(1, 1), bias=False)\n",
       "      (bn2): BatchNorm2d(256, eps=1e-05, momentum=0.1, affine=True, track_running_stats=True)\n",
       "      (act2): ReLU(inplace=True)\n",
       "    )\n",
       "  )\n",
       "  (layer4): Sequential(\n",
       "    (0): BasicBlock(\n",
       "      (conv1): Conv2d(256, 512, kernel_size=(3, 3), stride=(2, 2), padding=(1, 1), bias=False)\n",
       "      (bn1): BatchNorm2d(512, eps=1e-05, momentum=0.1, affine=True, track_running_stats=True)\n",
       "      (act1): ReLU(inplace=True)\n",
       "      (conv2): Conv2d(512, 512, kernel_size=(3, 3), stride=(1, 1), padding=(1, 1), bias=False)\n",
       "      (bn2): BatchNorm2d(512, eps=1e-05, momentum=0.1, affine=True, track_running_stats=True)\n",
       "      (act2): ReLU(inplace=True)\n",
       "      (downsample): Sequential(\n",
       "        (0): Conv2d(256, 512, kernel_size=(1, 1), stride=(2, 2), bias=False)\n",
       "        (1): BatchNorm2d(512, eps=1e-05, momentum=0.1, affine=True, track_running_stats=True)\n",
       "      )\n",
       "    )\n",
       "    (1): BasicBlock(\n",
       "      (conv1): Conv2d(512, 512, kernel_size=(3, 3), stride=(1, 1), padding=(1, 1), bias=False)\n",
       "      (bn1): BatchNorm2d(512, eps=1e-05, momentum=0.1, affine=True, track_running_stats=True)\n",
       "      (act1): ReLU(inplace=True)\n",
       "      (conv2): Conv2d(512, 512, kernel_size=(3, 3), stride=(1, 1), padding=(1, 1), bias=False)\n",
       "      (bn2): BatchNorm2d(512, eps=1e-05, momentum=0.1, affine=True, track_running_stats=True)\n",
       "      (act2): ReLU(inplace=True)\n",
       "    )\n",
       "  )\n",
       "  (global_pool): SelectAdaptivePool2d (pool_type=avg, flatten=Flatten(start_dim=1, end_dim=-1))\n",
       "  (fc): Linear(in_features=512, out_features=3, bias=True)\n",
       ")"
      ]
     },
     "execution_count": 9,
     "metadata": {},
     "output_type": "execute_result"
    }
   ],
   "source": [
    "model = create_resnet_2d(name = 'resnet18', pretrained = False, num_classes = num_classes, in_chans = channels)\n",
    "# model = create_resnet(name = 'resnet18', pretrained = False, num_classes = num_classes, in_chans = channels)\n",
    "model"
   ]
  },
  {
   "cell_type": "code",
   "execution_count": 10,
   "id": "acc1c241",
   "metadata": {},
   "outputs": [],
   "source": [
    "device = torch.device(\"cuda\" if torch.cuda.is_available() else \"cpu\")\n",
    "model = model.to(device)"
   ]
  },
  {
   "cell_type": "code",
   "execution_count": 11,
   "id": "6cf4ab2e",
   "metadata": {},
   "outputs": [],
   "source": [
    "# Training Config\n",
    "learning_rate=0.002\n",
    "epochs = 10\n",
    "\n",
    "radiorec_model = RadioRecNetwork(model, learning_rate = learning_rate)"
   ]
  },
  {
   "cell_type": "code",
   "execution_count": 12,
   "id": "f7b3577a",
   "metadata": {},
   "outputs": [],
   "source": [
    "# ----\n",
    "# ### Train the Model\n",
    "# To train the model, we first create a `ModelCheckpoint` to monitor the validation loss over time and save the best model as we go. The network is then instantiated and passed into a `Trainer` to kick off training.\n",
    "import os\n",
    "\n",
    "if not os.path.exists(checkpoint_dir):\n",
    "    print(f'mkdir: {checkpoint_dir}')\n",
    "    os.makedirs(checkpoint_dir)"
   ]
  },
  {
   "cell_type": "code",
   "execution_count": 13,
   "id": "96c7a092",
   "metadata": {},
   "outputs": [],
   "source": [
    "# Setup checkpoint callbacks\n",
    "checkpoint_callback = ModelCheckpoint(\n",
    "    dirpath=checkpoint_dir,\n",
    "    filename='{epoch}-{val_loss:.2f}',\n",
    "    save_top_k=3,\n",
    "    save_last=True,\n",
    "    verbose=True,\n",
    "    monitor=\"val_loss\",\n",
    "    mode=\"min\",\n",
    ")"
   ]
  },
  {
   "cell_type": "code",
   "execution_count": 14,
   "id": "3ea7ff9c",
   "metadata": {},
   "outputs": [
    {
     "name": "stderr",
     "output_type": "stream",
     "text": [
      "GPU available: True (cuda), used: True\n",
      "TPU available: False, using: 0 TPU cores\n",
      "IPU available: False, using: 0 IPUs\n",
      "HPU available: False, using: 0 HPUs\n",
      "D:\\anaconda3\\envs\\pytorch\\lib\\site-packages\\pytorch_lightning\\callbacks\\model_checkpoint.py:617: UserWarning: Checkpoint directory D:\\radiorec\\exp\\radiorec\\duijiangji-spectrogram-checkpoints exists and is not empty.\n",
      "  rank_zero_warn(f\"Checkpoint directory {dirpath} exists and is not empty.\")\n",
      "LOCAL_RANK: 0 - CUDA_VISIBLE_DEVICES: [0]\n",
      "\n",
      "  | Name | Type   | Params\n",
      "--------------------------------\n",
      "0 | mdl  | ResNet | 11.2 M\n",
      "--------------------------------\n",
      "11.2 M    Trainable params\n",
      "0         Non-trainable params\n",
      "11.2 M    Total params\n",
      "44.687    Total estimated model params size (MB)\n"
     ]
    },
    {
     "data": {
      "application/vnd.jupyter.widget-view+json": {
       "model_id": "",
       "version_major": 2,
       "version_minor": 0
      },
      "text/plain": [
       "Sanity Checking: 0it [00:00, ?it/s]"
      ]
     },
     "metadata": {},
     "output_type": "display_data"
    },
    {
     "name": "stderr",
     "output_type": "stream",
     "text": [
      "D:\\anaconda3\\envs\\pytorch\\lib\\site-packages\\pytorch_lightning\\trainer\\connectors\\data_connector.py:442: PossibleUserWarning: The dataloader, val_dataloader, does not have many workers which may be a bottleneck. Consider increasing the value of the `num_workers` argument` (try 12 which is the number of cpus on this machine) in the `DataLoader` init to improve performance.\n",
      "  rank_zero_warn(\n",
      "D:\\anaconda3\\envs\\pytorch\\lib\\site-packages\\pytorch_lightning\\trainer\\connectors\\data_connector.py:442: PossibleUserWarning: The dataloader, train_dataloader, does not have many workers which may be a bottleneck. Consider increasing the value of the `num_workers` argument` (try 12 which is the number of cpus on this machine) in the `DataLoader` init to improve performance.\n",
      "  rank_zero_warn(\n"
     ]
    },
    {
     "data": {
      "application/vnd.jupyter.widget-view+json": {
       "model_id": "83f2c4dee6e64993be06080262b4fd6a",
       "version_major": 2,
       "version_minor": 0
      },
      "text/plain": [
       "Training: 0it [00:00, ?it/s]"
      ]
     },
     "metadata": {},
     "output_type": "display_data"
    },
    {
     "data": {
      "application/vnd.jupyter.widget-view+json": {
       "model_id": "",
       "version_major": 2,
       "version_minor": 0
      },
      "text/plain": [
       "Validation: 0it [00:00, ?it/s]"
      ]
     },
     "metadata": {},
     "output_type": "display_data"
    },
    {
     "name": "stderr",
     "output_type": "stream",
     "text": [
      "Epoch 0, global step 535: 'val_loss' reached 0.00889 (best 0.00889), saving model to 'D:\\\\radiorec\\\\exp\\\\radiorec\\\\duijiangji-spectrogram-checkpoints\\\\epoch=0-val_loss=0.01.ckpt' as top 3\n"
     ]
    },
    {
     "data": {
      "application/vnd.jupyter.widget-view+json": {
       "model_id": "",
       "version_major": 2,
       "version_minor": 0
      },
      "text/plain": [
       "Validation: 0it [00:00, ?it/s]"
      ]
     },
     "metadata": {},
     "output_type": "display_data"
    },
    {
     "name": "stderr",
     "output_type": "stream",
     "text": [
      "Epoch 1, global step 1070: 'val_loss' reached 0.00964 (best 0.00889), saving model to 'D:\\\\radiorec\\\\exp\\\\radiorec\\\\duijiangji-spectrogram-checkpoints\\\\epoch=1-val_loss=0.01.ckpt' as top 3\n"
     ]
    },
    {
     "data": {
      "application/vnd.jupyter.widget-view+json": {
       "model_id": "",
       "version_major": 2,
       "version_minor": 0
      },
      "text/plain": [
       "Validation: 0it [00:00, ?it/s]"
      ]
     },
     "metadata": {},
     "output_type": "display_data"
    },
    {
     "name": "stderr",
     "output_type": "stream",
     "text": [
      "Epoch 2, global step 1605: 'val_loss' reached 0.00646 (best 0.00646), saving model to 'D:\\\\radiorec\\\\exp\\\\radiorec\\\\duijiangji-spectrogram-checkpoints\\\\epoch=2-val_loss=0.01-v1.ckpt' as top 3\n"
     ]
    },
    {
     "data": {
      "application/vnd.jupyter.widget-view+json": {
       "model_id": "",
       "version_major": 2,
       "version_minor": 0
      },
      "text/plain": [
       "Validation: 0it [00:00, ?it/s]"
      ]
     },
     "metadata": {},
     "output_type": "display_data"
    },
    {
     "name": "stderr",
     "output_type": "stream",
     "text": [
      "Epoch 3, global step 2140: 'val_loss' was not in top 3\n"
     ]
    },
    {
     "data": {
      "application/vnd.jupyter.widget-view+json": {
       "model_id": "",
       "version_major": 2,
       "version_minor": 0
      },
      "text/plain": [
       "Validation: 0it [00:00, ?it/s]"
      ]
     },
     "metadata": {},
     "output_type": "display_data"
    },
    {
     "name": "stderr",
     "output_type": "stream",
     "text": [
      "Epoch 4, global step 2675: 'val_loss' was not in top 3\n"
     ]
    },
    {
     "data": {
      "application/vnd.jupyter.widget-view+json": {
       "model_id": "",
       "version_major": 2,
       "version_minor": 0
      },
      "text/plain": [
       "Validation: 0it [00:00, ?it/s]"
      ]
     },
     "metadata": {},
     "output_type": "display_data"
    },
    {
     "name": "stderr",
     "output_type": "stream",
     "text": [
      "Epoch 5, global step 3210: 'val_loss' was not in top 3\n"
     ]
    },
    {
     "data": {
      "application/vnd.jupyter.widget-view+json": {
       "model_id": "",
       "version_major": 2,
       "version_minor": 0
      },
      "text/plain": [
       "Validation: 0it [00:00, ?it/s]"
      ]
     },
     "metadata": {},
     "output_type": "display_data"
    },
    {
     "name": "stderr",
     "output_type": "stream",
     "text": [
      "Epoch 6, global step 3745: 'val_loss' was not in top 3\n"
     ]
    },
    {
     "data": {
      "application/vnd.jupyter.widget-view+json": {
       "model_id": "",
       "version_major": 2,
       "version_minor": 0
      },
      "text/plain": [
       "Validation: 0it [00:00, ?it/s]"
      ]
     },
     "metadata": {},
     "output_type": "display_data"
    },
    {
     "name": "stderr",
     "output_type": "stream",
     "text": [
      "Epoch 7, global step 4280: 'val_loss' reached 0.00269 (best 0.00269), saving model to 'D:\\\\radiorec\\\\exp\\\\radiorec\\\\duijiangji-spectrogram-checkpoints\\\\epoch=7-val_loss=0.00.ckpt' as top 3\n"
     ]
    },
    {
     "data": {
      "application/vnd.jupyter.widget-view+json": {
       "model_id": "",
       "version_major": 2,
       "version_minor": 0
      },
      "text/plain": [
       "Validation: 0it [00:00, ?it/s]"
      ]
     },
     "metadata": {},
     "output_type": "display_data"
    },
    {
     "name": "stderr",
     "output_type": "stream",
     "text": [
      "Epoch 8, global step 4815: 'val_loss' was not in top 3\n"
     ]
    },
    {
     "data": {
      "application/vnd.jupyter.widget-view+json": {
       "model_id": "",
       "version_major": 2,
       "version_minor": 0
      },
      "text/plain": [
       "Validation: 0it [00:00, ?it/s]"
      ]
     },
     "metadata": {},
     "output_type": "display_data"
    },
    {
     "name": "stderr",
     "output_type": "stream",
     "text": [
      "Epoch 9, global step 5350: 'val_loss' was not in top 3\n",
      "`Trainer.fit` stopped: `max_epochs=10` reached.\n"
     ]
    }
   ],
   "source": [
    "# Create and fit trainer\n",
    "\n",
    "trainer = Trainer(\n",
    "    max_epochs=epochs, callbacks=checkpoint_callback, devices=1, accelerator=\"gpu\"\n",
    ")\n",
    "\n",
    "trainer.fit(radiorec_model, train_dataloaders=train_dataloader, val_dataloaders = val_dataloader)"
   ]
  },
  {
   "cell_type": "code",
   "execution_count": 15,
   "id": "c1a9557d",
   "metadata": {},
   "outputs": [
    {
     "data": {
      "text/plain": [
       "'D:\\\\radiorec\\\\exp\\\\radiorec\\\\duijiangji-spectrogram-checkpoints\\\\epoch=7-val_loss=0.00.ckpt'"
      ]
     },
     "execution_count": 15,
     "metadata": {},
     "output_type": "execute_result"
    }
   ],
   "source": [
    "checkpoint_callback.best_model_path"
   ]
  },
  {
   "cell_type": "code",
   "execution_count": 16,
   "id": "cc9d26c6",
   "metadata": {},
   "outputs": [],
   "source": [
    "# After the model is trained, the checkpoint's weights are loaded into the model and the model is put into evaluation mode. The validation set is looped through, inferring results for each example and saving the predictions and the labels. Finally, the labels and predictions are passed into our confusion matrix plotting function to view the results and also passed into the `sklearn.metrics.classification_report` method to print metrics of interest.\n",
    "checkpoint_filename = checkpoint_callback.best_model_path\n",
    "\n",
    "# Load best checkpoint\n",
    "device = \"cuda\" if torch.cuda.is_available() else \"cpu\"\n",
    "checkpoint = torch.load(\n",
    "    checkpoint_filename, map_location=lambda storage, loc: storage\n",
    ")\n",
    "\n",
    "model = create_resnet_2d(name = 'resnet18', pretrained = False, num_classes = num_classes, in_chans = channels)\n",
    "# model = create_resnet(name = 'resnet18', pretrained = False, num_classes = num_classes, in_chans = channels)\n",
    "test_model = RadioRecNetwork(model, learning_rate = learning_rate)\n",
    "test_model.load_state_dict(checkpoint[\"state_dict\"])\n",
    "test_model = test_model.to(device=device).eval()"
   ]
  },
  {
   "cell_type": "code",
   "execution_count": 17,
   "id": "27beade2",
   "metadata": {},
   "outputs": [
    {
     "name": "stderr",
     "output_type": "stream",
     "text": [
      "100%|█████████████████████████████████████████████████████████████████████████████| 3604/3604 [00:21<00:00, 170.68it/s]\n"
     ]
    }
   ],
   "source": [
    "# ### Evaluate the val set\n",
    "\n",
    "# Infer results over validation set\n",
    "num_val_examples = len(val_dataset)\n",
    "y_raw_preds = np.empty((num_val_examples, num_classes))\n",
    "y_preds = np.zeros((num_val_examples,))\n",
    "y_true = np.zeros((num_val_examples,))\n",
    "\n",
    "for i in tqdm(range(0, num_val_examples)):\n",
    "    # Retrieve data\n",
    "    idx = i  # Use index if evaluating over full dataset\n",
    "    data, label = val_dataset[idx]\n",
    "    # Infer\n",
    "    data = torch.from_numpy(np.expand_dims(data, 0)).float().to(device)\n",
    "    pred_tmp = test_model.predict(data)\n",
    "    pred_tmp = pred_tmp.cpu().numpy() if torch.cuda.is_available() else pred_tmp\n",
    "    # Argmax\n",
    "    y_preds[i] = np.argmax(pred_tmp)\n",
    "    # Store label\n",
    "    y_true[i] = label"
   ]
  },
  {
   "cell_type": "code",
   "execution_count": 18,
   "id": "ab41eff4",
   "metadata": {},
   "outputs": [
    {
     "name": "stdout",
     "output_type": "stream",
     "text": [
      "Val set classification report:\n",
      "              precision    recall  f1-score   support\n",
      "\n",
      "         0.0       1.00      1.00      1.00      1171\n",
      "         1.0       1.00      1.00      1.00      1189\n",
      "         2.0       1.00      1.00      1.00      1244\n",
      "\n",
      "    accuracy                           1.00      3604\n",
      "   macro avg       1.00      1.00      1.00      3604\n",
      "weighted avg       1.00      1.00      1.00      3604\n",
      "\n"
     ]
    },
    {
     "data": {
      "image/png": "[encoded data removed]",
      "text/plain": [
       "<Figure size 1600x900 with 2 Axes>"
      ]
     },
     "metadata": {},
     "output_type": "display_data"
    }
   ],
   "source": [
    "acc = np.sum(np.asarray(y_preds) == np.asarray(y_true)) / len(y_true)\n",
    "plot_confusion_matrix(\n",
    "    y_true,\n",
    "    y_preds,\n",
    "    classes = class_list,\n",
    "    normalize = True,\n",
    "    title=\"Validation Set Modulations Confusion Matrix\\nTotal Accuracy: {:.2f}%\".format(\n",
    "        acc * 100\n",
    "    ),\n",
    "    text=False,\n",
    "    rotate_x_text=90,\n",
    "    figsize=(16, 9),\n",
    ")\n",
    "plt.savefig(f\"{checkpoint_dir}/val_result.png\")\n",
    "\n",
    "print(\"Val set classification report:\")\n",
    "print(classification_report(y_true, y_preds))"
   ]
  },
  {
   "cell_type": "code",
   "execution_count": 19,
   "id": "4d668985",
   "metadata": {},
   "outputs": [
    {
     "name": "stderr",
     "output_type": "stream",
     "text": [
      "100%|█████████████████████████████████████████████████████████████████████████████| 3604/3604 [00:22<00:00, 158.94it/s]\n"
     ]
    },
    {
     "name": "stdout",
     "output_type": "stream",
     "text": [
      "Test set classification report:\n",
      "              precision    recall  f1-score   support\n",
      "\n",
      "         0.0       1.00      1.00      1.00      1156\n",
      "         1.0       1.00      1.00      1.00      1224\n",
      "         2.0       1.00      1.00      1.00      1224\n",
      "\n",
      "    accuracy                           1.00      3604\n",
      "   macro avg       1.00      1.00      1.00      3604\n",
      "weighted avg       1.00      1.00      1.00      3604\n",
      "\n"
     ]
    },
    {
     "data": {
      "image/png": "[encoded data removed]",
      "text/plain": [
       "<Figure size 1600x900 with 2 Axes>"
      ]
     },
     "metadata": {},
     "output_type": "display_data"
    }
   ],
   "source": [
    "# ----\n",
    "# ### Evaluate the test set\n",
    "\n",
    "# Infer results over validation set\n",
    "num_test_examples = len(test_dataset)\n",
    "y_raw_preds = np.empty((num_test_examples, num_classes))\n",
    "y_preds = np.zeros((num_test_examples,))\n",
    "y_true = np.zeros((num_test_examples,))\n",
    "\n",
    "for i in tqdm(range(0, num_test_examples)):\n",
    "    # Retrieve data\n",
    "    idx = i  # Use index if evaluating over full dataset\n",
    "    data, label = test_dataset[idx]\n",
    "    # Infer\n",
    "    data = torch.from_numpy(np.expand_dims(data, 0)).float().to(device)\n",
    "    pred_tmp = test_model.predict(data)\n",
    "    pred_tmp = pred_tmp.cpu().numpy() if torch.cuda.is_available() else pred_tmp\n",
    "    # Argmax\n",
    "    y_preds[i] = np.argmax(pred_tmp)\n",
    "    # Store label\n",
    "    y_true[i] = label\n",
    "\n",
    "acc = np.sum(np.asarray(y_preds) == np.asarray(y_true)) / len(y_true)\n",
    "plot_confusion_matrix(\n",
    "    y_true,\n",
    "    y_preds,\n",
    "    classes = class_list,\n",
    "    normalize = True,\n",
    "    title=\"Test Set Modulations Confusion Matrix\\nTotal Accuracy: {:.2f}%\".format(\n",
    "        acc * 100\n",
    "    ),\n",
    "    text=False,\n",
    "    rotate_x_text=90,\n",
    "    figsize=(16, 9),\n",
    ")\n",
    "plt.savefig(f\"{checkpoint_dir}/test_result.png\")\n",
    "\n",
    "print(\"Test set classification report:\")\n",
    "print(classification_report(y_true, y_preds))"
   ]
  }
 ],
 "metadata": {
  "kernelspec": {
   "display_name": "pytorch",
   "language": "python",
   "name": "pytorch"
  },
  "language_info": {
   "codemirror_mode": {
    "name": "ipython",
    "version": 3
   },
   "file_extension": ".py",
   "mimetype": "text/x-python",
   "name": "python",
   "nbconvert_exporter": "python",
   "pygments_lexer": "ipython3",
   "version": "3.9.6"
  }
 },
 "nbformat": 4,
 "nbformat_minor": 5
}
