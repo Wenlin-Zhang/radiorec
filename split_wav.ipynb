{
 "cells": [
  {
   "cell_type": "code",
   "execution_count": 1,
   "id": "16f4059f",
   "metadata": {},
   "outputs": [],
   "source": [
    "import torch\n",
    "import torchaudio"
   ]
  },
  {
   "cell_type": "code",
   "execution_count": 3,
   "id": "9e7d3a45",
   "metadata": {},
   "outputs": [],
   "source": [
    "test_wav = 'test/ALE2G-chailian-20dB-15M-4K-3Hz.wav'\n",
    "metadata = torchaudio.info(test_wav)"
   ]
  },
  {
   "cell_type": "code",
   "execution_count": 5,
   "id": "0272ed9c",
   "metadata": {
    "scrolled": true
   },
   "outputs": [
    {
     "name": "stdout",
     "output_type": "stream",
     "text": [
      "AudioMetaData(sample_rate=48000, num_frames=26812800, num_channels=1, bits_per_sample=16, encoding=PCM_S)\n"
     ]
    }
   ],
   "source": [
    "print(metadata)"
   ]
  },
  {
   "cell_type": "code",
   "execution_count": 6,
   "id": "a233b8eb",
   "metadata": {},
   "outputs": [],
   "source": [
    "waveform, sample_rate = torchaudio.load(test_wav)\n",
    "num_channels, num_frames = waveform.shape"
   ]
  },
  {
   "cell_type": "code",
   "execution_count": 9,
   "id": "a849d924",
   "metadata": {},
   "outputs": [],
   "source": [
    "import matplotlib.pyplot as plt\n",
    "def plot_waveform(waveform, sample_rate):\n",
    "    waveform = waveform.numpy()\n",
    "\n",
    "    num_channels, num_frames = waveform.shape\n",
    "    time_axis = torch.arange(0, num_frames) / sample_rate\n",
    "\n",
    "    figure, axes = plt.subplots(num_channels, 1)\n",
    "    if num_channels == 1:\n",
    "        axes = [axes]\n",
    "    for c in range(num_channels):\n",
    "        axes[c].plot(time_axis, waveform[c], linewidth=1)\n",
    "        axes[c].grid(True)\n",
    "        if num_channels > 1:\n",
    "            axes[c].set_ylabel(f\"Channel {c+1}\")\n",
    "    figure.suptitle(\"waveform\")\n",
    "    plt.show(block=False)"
   ]
  },
  {
   "cell_type": "code",
   "execution_count": 21,
   "id": "c49bdca1",
   "metadata": {},
   "outputs": [],
   "source": [
    "from tqdm import tqdm\n",
    "import os\n",
    "\n",
    "def split_long_wav_file(wav_path, new_folder, seg_offset_ms, seg_length_ms, start_ms = 0, verbose = True):\n",
    "    waveform, sample_rate = torchaudio.load(test_wav)\n",
    "    num_channels, num_frames = waveform.shape\n",
    "    \n",
    "    start = int(start_ms * sample_rate / 1000)\n",
    "    seg_length = int(seg_length_ms * sample_rate / 1000)\n",
    "    seg_offset = int(seg_offset_ms * sample_rate / 1000)\n",
    "    seg_count = int((num_frames - seg_length) / seg_offset) + 1\n",
    "    \n",
    "    if verbose:\n",
    "        print(f'read wav file : {test_wav}')\n",
    "        print(f'info: {torchaudio.info(test_wav)}')\n",
    "        print(f'split into {seg_length_ms}ms segments ({seg_length} points), start = {start_ms}ms ({start} points), segment offset = {seg_offset_ms}ms ({seg_offset} points)')\n",
    "        print(f'segment count : {seg_count}')\n",
    "        \n",
    "    if not os.path.exists(new_folder):\n",
    "        if verbose:\n",
    "            print(f'{new_folder} is not exsit, create it!')\n",
    "        os.makedirs(new_folder)\n",
    "    \n",
    "    filename = os.path.basename(wav_path)\n",
    "    name, ext = os.path.splitext(filename)\n",
    "    for i in tqdm(range(seg_count)):\n",
    "        segment = waveform[:, start + i * seg_offset : start + i * seg_offset + seg_length]\n",
    "        seg_path = os.path.join(new_folder, f\"{name}-{i:0>5d}{ext}\")\n",
    "        torchaudio.save(seg_path, segment, sample_rate)\n",
    "    if verbose:\n",
    "        print(f'Done.')"
   ]
  },
  {
   "cell_type": "code",
   "execution_count": 31,
   "id": "23960a93",
   "metadata": {
    "scrolled": true
   },
   "outputs": [
    {
     "name": "stdout",
     "output_type": "stream",
     "text": [
      "read wav file : test/ALE2G-chailian-20dB-15M-4K-3Hz.wav\n",
      "info: AudioMetaData(sample_rate=48000, num_frames=26786145, num_channels=1, bits_per_sample=16, encoding=PCM_S)\n",
      "split into 2400ms segments (115200 points), start = 0ms (0 points), segment offset = 2400ms (115200 points)\n",
      "segment count : 232\n",
      "test/segments is not exsit, create it!\n"
     ]
    },
    {
     "name": "stderr",
     "output_type": "stream",
     "text": [
      "100%|██████████| 232/232 [00:00<00:00, 378.68it/s]"
     ]
    },
    {
     "name": "stdout",
     "output_type": "stream",
     "text": [
      "Done.\n"
     ]
    },
    {
     "name": "stderr",
     "output_type": "stream",
     "text": [
      "\n"
     ]
    }
   ],
   "source": [
    "split_long_wav_file(test_wav, 'test/segments', 2400, 2400, 0, True) # 2.4s per segment"
   ]
  }
 ],
 "metadata": {
  "kernelspec": {
   "display_name": "pytorch",
   "language": "python",
   "name": "pytorch"
  },
  "language_info": {
   "codemirror_mode": {
    "name": "ipython",
    "version": 3
   },
   "file_extension": ".py",
   "mimetype": "text/x-python",
   "name": "python",
   "nbconvert_exporter": "python",
   "pygments_lexer": "ipython3",
   "version": "3.8.8"
  }
 },
 "nbformat": 4,
 "nbformat_minor": 5
}
