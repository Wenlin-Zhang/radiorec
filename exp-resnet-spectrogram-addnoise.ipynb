{
 "cells": [
  {
   "cell_type": "code",
   "execution_count": 1,
   "id": "515b93c1",
   "metadata": {},
   "outputs": [],
   "source": [
    "from pytorch_lightning.callbacks import ModelCheckpoint\n",
    "from pytorch_lightning import LightningModule, Trainer\n",
    "from sklearn.metrics import classification_report\n",
    "from torch.utils.data import DataLoader\n",
    "from matplotlib import pyplot as plt\n",
    "from torch import optim\n",
    "from tqdm import tqdm\n",
    "import torch.nn.functional as F\n",
    "import numpy as np\n",
    "import torch\n",
    "import math\n",
    "import timm\n",
    "\n",
    "import transforms.eft as Eft\n",
    "from datasets.transformed_dataset import TransformedDataset\n",
    "from utils import plot_confusion_matrix\n",
    "from models.radio_rec_model import RadioRecNetwork\n",
    "from models.resnet import create_resnet_2d\n",
    "import datasets.signal_file_dataset as sfds\n",
    "import os.path"
   ]
  },
  {
   "cell_type": "code",
   "execution_count": 2,
   "id": "2d2f00b2",
   "metadata": {},
   "outputs": [
    {
     "data": {
      "text/plain": [
       "'2.0.9'"
      ]
     },
     "execution_count": 2,
     "metadata": {},
     "output_type": "execute_result"
    }
   ],
   "source": [
    "import pytorch_lightning as pl\n",
    "pl.__version__"
   ]
  },
  {
   "cell_type": "code",
   "execution_count": 3,
   "id": "d410306a",
   "metadata": {},
   "outputs": [
    {
     "data": {
      "text/plain": [
       "'2.0.1+cu118'"
      ]
     },
     "execution_count": 3,
     "metadata": {},
     "output_type": "execute_result"
    }
   ],
   "source": [
    "torch.__version__"
   ]
  },
  {
   "cell_type": "code",
   "execution_count": 4,
   "id": "e8ab3a04",
   "metadata": {},
   "outputs": [
    {
     "name": "stdout",
     "output_type": "stream",
     "text": [
      "True\n"
     ]
    }
   ],
   "source": [
    "print(torch.cuda.is_available())"
   ]
  },
  {
   "cell_type": "code",
   "execution_count": 5,
   "id": "ebf0acbe",
   "metadata": {},
   "outputs": [],
   "source": [
    "data_root_dir = \"d:/data/duijiangji\"\n",
    "checkpoint_dir=f'./exp/radiorec/duijiangji-spectrogram-phaseshift-addnoise-norm-spec-shuffle-100ms-checkpoints'"
   ]
  },
  {
   "cell_type": "code",
   "execution_count": 6,
   "id": "840635b6",
   "metadata": {},
   "outputs": [
    {
     "name": "stdout",
     "output_type": "stream",
     "text": [
      "data path: d:/data/duijiangji\\train\n",
      "classes: ['A', 'B', 'C']\n",
      "class dict: {'A': 0, 'B': 1, 'C': 2}\n",
      "{'A': 24, 'B': 24, 'C': 23}\n",
      "data path: d:/data/duijiangji\\test\n",
      "classes: ['A', 'B', 'C']\n",
      "class dict: {'A': 0, 'B': 1, 'C': 2}\n",
      "{'A': 10, 'B': 10, 'C': 10}\n"
     ]
    }
   ],
   "source": [
    "train_dir = os.path.join(data_root_dir, 'train')\n",
    "train_file_set = sfds.SignalFileSet(train_dir, 'bin')\n",
    "train_file_set.print_info()\n",
    "\n",
    "test_dir = os.path.join(data_root_dir, 'test')\n",
    "test_file_set = sfds.SignalFileSet(test_dir, 'bin')\n",
    "test_file_set.print_info()"
   ]
  },
  {
   "cell_type": "code",
   "execution_count": 7,
   "id": "53949e25",
   "metadata": {},
   "outputs": [
    {
     "name": "stdout",
     "output_type": "stream",
     "text": [
      "class list: ['A', 'B', 'C']\n",
      "class dict: {'A': 0, 'B': 1, 'C': 2}\n",
      "seg count for each class: {'A': 11621, 'B': 11042, 'C': 11394}\n",
      "class list: ['A', 'B', 'C']\n",
      "class dict: {'A': 0, 'B': 1, 'C': 2}\n",
      "seg count for each class: {'A': 4627, 'B': 4790, 'C': 4909}\n"
     ]
    }
   ],
   "source": [
    "import datasets.signal_file_dataset as sfds\n",
    "sig_file_conf = sfds.SignalFileConfig()\n",
    "sig_file_conf.fs = 256000      # 256K Hz sample rate\n",
    "sig_file_conf.seg_len = 100   # 100ms ???\n",
    "sig_file_conf.seg_shift = 100 # 100 ms, no overlap\n",
    "sig_file_conf.max_num = 6000\n",
    "sig_file_conf.is_complex = True\n",
    "sig_file_conf.energy_threshold = 1.0\n",
    "\n",
    "\n",
    "train_dataset = sfds.SignalDataSet(train_file_set, sig_file_conf)\n",
    "train_dataset.print_info()\n",
    "\n",
    "test_dataset = sfds.SignalDataSet(test_file_set, sig_file_conf)\n",
    "test_dataset.print_info()"
   ]
  },
  {
   "cell_type": "code",
   "execution_count": 8,
   "id": "a5f984c4",
   "metadata": {},
   "outputs": [],
   "source": [
    "train_dataset.save(os.path.join(data_root_dir, 'train-100ms.hdf5'))\n",
    "test_dataset.save(os.path.join(data_root_dir, 'test-100ms.hdf5'))"
   ]
  },
  {
   "cell_type": "code",
   "execution_count": 9,
   "id": "69af87f1",
   "metadata": {
    "scrolled": true
   },
   "outputs": [
    {
     "name": "stdout",
     "output_type": "stream",
     "text": [
      "class list: ['A', 'B', 'C']\n",
      "class dict: {'A': 0, 'B': 1, 'C': 2}\n",
      "seg count for each class: {'A': 11621, 'B': 11042, 'C': 11394}\n",
      "class list: ['A', 'B', 'C']\n",
      "class dict: {'A': 0, 'B': 1, 'C': 2}\n",
      "seg count for each class: {'A': 4627, 'B': 4790, 'C': 4909}\n"
     ]
    }
   ],
   "source": [
    "train_dataset = sfds.SignalDataSet()\n",
    "train_dataset.load(os.path.join(data_root_dir, 'train-100ms.hdf5'))\n",
    "train_dataset.print_info()\n",
    "\n",
    "test_dataset = sfds.SignalDataSet()\n",
    "test_dataset.load(os.path.join(data_root_dir, 'test-100ms.hdf5'))\n",
    "test_dataset.print_info()"
   ]
  },
  {
   "cell_type": "code",
   "execution_count": 10,
   "id": "f932d64d",
   "metadata": {},
   "outputs": [
    {
     "data": {
      "text/plain": [
       "(34057, 25600, 2)"
      ]
     },
     "execution_count": 10,
     "metadata": {},
     "output_type": "execute_result"
    }
   ],
   "source": [
    "train_dataset.data.shape"
   ]
  },
  {
   "cell_type": "code",
   "execution_count": 11,
   "id": "71c79dcd",
   "metadata": {},
   "outputs": [
    {
     "data": {
      "text/plain": [
       "(34057,)"
      ]
     },
     "execution_count": 11,
     "metadata": {},
     "output_type": "execute_result"
    }
   ],
   "source": [
    "train_dataset.labels.shape"
   ]
  },
  {
   "cell_type": "code",
   "execution_count": 12,
   "id": "26929281",
   "metadata": {},
   "outputs": [],
   "source": [
    "class_list = train_dataset.class_list\n",
    "num_classes = len(class_list)"
   ]
  },
  {
   "cell_type": "code",
   "execution_count": 13,
   "id": "fd39ed2c",
   "metadata": {},
   "outputs": [
    {
     "data": {
      "image/png": "[encoded data removed]",
      "text/plain": [
       "<Figure size 1400x900 with 6 Axes>"
      ]
     },
     "metadata": {},
     "output_type": "display_data"
    }
   ],
   "source": [
    "# Repeat but plot andom sampling of the data\n",
    "from datasets.visualize import IQVisualizer\n",
    "\n",
    "example_dataloader = DataLoader(\n",
    "    dataset=train_dataset,\n",
    "    batch_size=6,\n",
    "    num_workers=0,\n",
    "    shuffle=True,\n",
    "    drop_last=True,\n",
    ")\n",
    "visualizer = IQVisualizer(\n",
    "    data_loader = example_dataloader,\n",
    "    visualize_target_transform = lambda target: [class_list[int(index)] for index in target]\n",
    ")\n",
    "\n",
    "for figure in iter(visualizer):\n",
    "    figure.set_size_inches(14, 9)\n",
    "    plt.show()\n",
    "    break"
   ]
  },
  {
   "cell_type": "code",
   "execution_count": 14,
   "id": "9a99683d",
   "metadata": {},
   "outputs": [],
   "source": [
    "from transforms.transforms import Compose\n",
    "from transforms.spectrogram_transform import SpectrogramConfig, Spectrogram\n",
    "from transforms.impairment import Normalize, AddNoise, SpectrogramPatchShuffle, RandomPhaseShift\n",
    "\n",
    "interleave_to_complex = Eft.InterleaveComplex()\n",
    "\n",
    "random_phase_shift = RandomPhaseShift(phase_offset=(-1, 1))\n",
    "\n",
    "add_noise = AddNoise((-40, -20)) # Added AWGN power range is (-40, -20) dB\n",
    "\n",
    "normalize_transform = Normalize(norm=2)\n",
    "\n",
    "spectrogram_config = SpectrogramConfig()\n",
    "spectrogram_config.nperseg = 256\n",
    "spectrogram_config.noverlap = 128\n",
    "spectrogram_config.nfft = 256\n",
    "spectrogram_config.window = 'hann'\n",
    "spectrogram_config.return_onesided = False\n",
    "spectrogram_config.mode = 'magnitude'\n",
    "spectorgram_transform = Spectrogram(spectrogram_config)\n",
    "\n",
    "spec_patch_shuffle = SpectrogramPatchShuffle(patch_size=(2,8), shuffle_ratio=(0.01,0.10))\n",
    "\n",
    "train_transform = Compose([interleave_to_complex, random_phase_shift, add_noise, normalize_transform, \n",
    "                           spectorgram_transform, spec_patch_shuffle])\n",
    "train_dataset = TransformedDataset(train_dataset, transform = train_transform)\n",
    "\n",
    "test_transform = Compose([interleave_to_complex, normalize_transform, spectorgram_transform])\n",
    "test_dataset = TransformedDataset(test_dataset, transform = test_transform)\n",
    "\n",
    "# interleave_to_2d = Eft.InterleaveTo2D()\n",
    "# train_dataset = TransformedDataset(train_dataset, transform = interleave_to_2d)\n",
    "# test_dataset = TransformedDataset(test_dataset, transform = interleave_to_2d)"
   ]
  },
  {
   "cell_type": "code",
   "execution_count": 15,
   "id": "ac6b9c56",
   "metadata": {},
   "outputs": [
    {
     "name": "stdout",
     "output_type": "stream",
     "text": [
      "Train dataset length: 34057\n",
      "Val dataset length: 7163\n",
      "Test dataset length: 7163\n",
      "Data shape: (1, 256, 199)\n",
      "Channels: 1\n",
      "Label Index: 2\n",
      "Label Class: C\n"
     ]
    }
   ],
   "source": [
    "num = len(test_dataset)\n",
    "num_test = math.floor(0.5 * num)\n",
    "num_val = num - num_test\n",
    "\n",
    "test_dataset, val_dataset = torch.utils.data.random_split(test_dataset, [num_test, num_val],\n",
    "                                                                         generator = torch.Generator().manual_seed(42))\n",
    "idx = np.random.randint(len(test_dataset))\n",
    "data, label = test_dataset[idx]\n",
    "channels = data.shape[0]\n",
    "print(\"Train dataset length: {}\".format(len(train_dataset)))\n",
    "print(\"Val dataset length: {}\".format(len(val_dataset)))\n",
    "print(\"Test dataset length: {}\".format(len(test_dataset)))\n",
    "\n",
    "print(\"Data shape: {}\".format(data.shape))\n",
    "print(f\"Channels: {channels}\")\n",
    "print(\"Label Index: {}\".format(label))\n",
    "print(\"Label Class: {}\".format(class_list[label]))"
   ]
  },
  {
   "cell_type": "code",
   "execution_count": 23,
   "id": "42f8fa70",
   "metadata": {},
   "outputs": [],
   "source": [
    "# ----\n",
    "# ### Format Dataset for Training\n",
    "# Next, the datasets are then wrapped as `DataLoaders` to prepare for training.\n",
    "\n",
    "# Create dataloaders\n",
    "train_dataloader = DataLoader(\n",
    "    dataset=train_dataset,\n",
    "    batch_size=64,\n",
    "    num_workers=0,\n",
    "    shuffle=True,\n",
    "    drop_last=True,\n",
    ")\n",
    "val_dataloader = DataLoader(\n",
    "    dataset=val_dataset,\n",
    "    batch_size=32,\n",
    "    num_workers=0,\n",
    "    shuffle=False,\n",
    "    drop_last=True,\n",
    ")\n",
    "test_dataloader = DataLoader(\n",
    "    dataset=test_dataset,\n",
    "    batch_size=32,\n",
    "    num_workers=0,\n",
    "    shuffle=False,\n",
    "    drop_last=False,\n",
    ")"
   ]
  },
  {
   "cell_type": "code",
   "execution_count": 24,
   "id": "e857a18a",
   "metadata": {},
   "outputs": [
    {
     "data": {
      "text/plain": [
       "ResNet(\n",
       "  (conv1): Conv2d(1, 64, kernel_size=(7, 7), stride=(2, 2), padding=(3, 3), bias=False)\n",
       "  (bn1): BatchNorm2d(64, eps=1e-05, momentum=0.1, affine=True, track_running_stats=True)\n",
       "  (act1): ReLU(inplace=True)\n",
       "  (maxpool): MaxPool2d(kernel_size=3, stride=2, padding=1, dilation=1, ceil_mode=False)\n",
       "  (layer1): Sequential(\n",
       "    (0): BasicBlock(\n",
       "      (conv1): Conv2d(64, 64, kernel_size=(3, 3), stride=(1, 1), padding=(1, 1), bias=False)\n",
       "      (bn1): BatchNorm2d(64, eps=1e-05, momentum=0.1, affine=True, track_running_stats=True)\n",
       "      (act1): ReLU(inplace=True)\n",
       "      (conv2): Conv2d(64, 64, kernel_size=(3, 3), stride=(1, 1), padding=(1, 1), bias=False)\n",
       "      (bn2): BatchNorm2d(64, eps=1e-05, momentum=0.1, affine=True, track_running_stats=True)\n",
       "      (act2): ReLU(inplace=True)\n",
       "    )\n",
       "    (1): BasicBlock(\n",
       "      (conv1): Conv2d(64, 64, kernel_size=(3, 3), stride=(1, 1), padding=(1, 1), bias=False)\n",
       "      (bn1): BatchNorm2d(64, eps=1e-05, momentum=0.1, affine=True, track_running_stats=True)\n",
       "      (act1): ReLU(inplace=True)\n",
       "      (conv2): Conv2d(64, 64, kernel_size=(3, 3), stride=(1, 1), padding=(1, 1), bias=False)\n",
       "      (bn2): BatchNorm2d(64, eps=1e-05, momentum=0.1, affine=True, track_running_stats=True)\n",
       "      (act2): ReLU(inplace=True)\n",
       "    )\n",
       "  )\n",
       "  (layer2): Sequential(\n",
       "    (0): BasicBlock(\n",
       "      (conv1): Conv2d(64, 128, kernel_size=(3, 3), stride=(2, 2), padding=(1, 1), bias=False)\n",
       "      (bn1): BatchNorm2d(128, eps=1e-05, momentum=0.1, affine=True, track_running_stats=True)\n",
       "      (act1): ReLU(inplace=True)\n",
       "      (conv2): Conv2d(128, 128, kernel_size=(3, 3), stride=(1, 1), padding=(1, 1), bias=False)\n",
       "      (bn2): BatchNorm2d(128, eps=1e-05, momentum=0.1, affine=True, track_running_stats=True)\n",
       "      (act2): ReLU(inplace=True)\n",
       "      (downsample): Sequential(\n",
       "        (0): Conv2d(64, 128, kernel_size=(1, 1), stride=(2, 2), bias=False)\n",
       "        (1): BatchNorm2d(128, eps=1e-05, momentum=0.1, affine=True, track_running_stats=True)\n",
       "      )\n",
       "    )\n",
       "    (1): BasicBlock(\n",
       "      (conv1): Conv2d(128, 128, kernel_size=(3, 3), stride=(1, 1), padding=(1, 1), bias=False)\n",
       "      (bn1): BatchNorm2d(128, eps=1e-05, momentum=0.1, affine=True, track_running_stats=True)\n",
       "      (act1): ReLU(inplace=True)\n",
       "      (conv2): Conv2d(128, 128, kernel_size=(3, 3), stride=(1, 1), padding=(1, 1), bias=False)\n",
       "      (bn2): BatchNorm2d(128, eps=1e-05, momentum=0.1, affine=True, track_running_stats=True)\n",
       "      (act2): ReLU(inplace=True)\n",
       "    )\n",
       "  )\n",
       "  (layer3): Sequential(\n",
       "    (0): BasicBlock(\n",
       "      (conv1): Conv2d(128, 256, kernel_size=(3, 3), stride=(2, 2), padding=(1, 1), bias=False)\n",
       "      (bn1): BatchNorm2d(256, eps=1e-05, momentum=0.1, affine=True, track_running_stats=True)\n",
       "      (act1): ReLU(inplace=True)\n",
       "      (conv2): Conv2d(256, 256, kernel_size=(3, 3), stride=(1, 1), padding=(1, 1), bias=False)\n",
       "      (bn2): BatchNorm2d(256, eps=1e-05, momentum=0.1, affine=True, track_running_stats=True)\n",
       "      (act2): ReLU(inplace=True)\n",
       "      (downsample): Sequential(\n",
       "        (0): Conv2d(128, 256, kernel_size=(1, 1), stride=(2, 2), bias=False)\n",
       "        (1): BatchNorm2d(256, eps=1e-05, momentum=0.1, affine=True, track_running_stats=True)\n",
       "      )\n",
       "    )\n",
       "    (1): BasicBlock(\n",
       "      (conv1): Conv2d(256, 256, kernel_size=(3, 3), stride=(1, 1), padding=(1, 1), bias=False)\n",
       "      (bn1): BatchNorm2d(256, eps=1e-05, momentum=0.1, affine=True, track_running_stats=True)\n",
       "      (act1): ReLU(inplace=True)\n",
       "      (conv2): Conv2d(256, 256, kernel_size=(3, 3), stride=(1, 1), padding=(1, 1), bias=False)\n",
       "      (bn2): BatchNorm2d(256, eps=1e-05, momentum=0.1, affine=True, track_running_stats=True)\n",
       "      (act2): ReLU(inplace=True)\n",
       "    )\n",
       "  )\n",
       "  (layer4): Sequential(\n",
       "    (0): BasicBlock(\n",
       "      (conv1): Conv2d(256, 512, kernel_size=(3, 3), stride=(2, 2), padding=(1, 1), bias=False)\n",
       "      (bn1): BatchNorm2d(512, eps=1e-05, momentum=0.1, affine=True, track_running_stats=True)\n",
       "      (act1): ReLU(inplace=True)\n",
       "      (conv2): Conv2d(512, 512, kernel_size=(3, 3), stride=(1, 1), padding=(1, 1), bias=False)\n",
       "      (bn2): BatchNorm2d(512, eps=1e-05, momentum=0.1, affine=True, track_running_stats=True)\n",
       "      (act2): ReLU(inplace=True)\n",
       "      (downsample): Sequential(\n",
       "        (0): Conv2d(256, 512, kernel_size=(1, 1), stride=(2, 2), bias=False)\n",
       "        (1): BatchNorm2d(512, eps=1e-05, momentum=0.1, affine=True, track_running_stats=True)\n",
       "      )\n",
       "    )\n",
       "    (1): BasicBlock(\n",
       "      (conv1): Conv2d(512, 512, kernel_size=(3, 3), stride=(1, 1), padding=(1, 1), bias=False)\n",
       "      (bn1): BatchNorm2d(512, eps=1e-05, momentum=0.1, affine=True, track_running_stats=True)\n",
       "      (act1): ReLU(inplace=True)\n",
       "      (conv2): Conv2d(512, 512, kernel_size=(3, 3), stride=(1, 1), padding=(1, 1), bias=False)\n",
       "      (bn2): BatchNorm2d(512, eps=1e-05, momentum=0.1, affine=True, track_running_stats=True)\n",
       "      (act2): ReLU(inplace=True)\n",
       "    )\n",
       "  )\n",
       "  (global_pool): SelectAdaptivePool2d (pool_type=avg, flatten=Flatten(start_dim=1, end_dim=-1))\n",
       "  (fc): Linear(in_features=512, out_features=3, bias=True)\n",
       ")"
      ]
     },
     "execution_count": 24,
     "metadata": {},
     "output_type": "execute_result"
    }
   ],
   "source": [
    "model = create_resnet_2d(name = 'resnet18', pretrained = False, num_classes = num_classes, in_chans = channels)\n",
    "# model = create_resnet(name = 'resnet18', pretrained = False, num_classes = num_classes, in_chans = channels)\n",
    "model"
   ]
  },
  {
   "cell_type": "code",
   "execution_count": 25,
   "id": "acc1c241",
   "metadata": {},
   "outputs": [],
   "source": [
    "device = torch.device(\"cuda\" if torch.cuda.is_available() else \"cpu\")\n",
    "model = model.to(device)"
   ]
  },
  {
   "cell_type": "code",
   "execution_count": 26,
   "id": "6cf4ab2e",
   "metadata": {},
   "outputs": [],
   "source": [
    "# Training Config\n",
    "learning_rate=0.001\n",
    "epochs = 10\n",
    "\n",
    "radiorec_model = RadioRecNetwork(model, learning_rate = learning_rate)"
   ]
  },
  {
   "cell_type": "code",
   "execution_count": 27,
   "id": "f7b3577a",
   "metadata": {},
   "outputs": [],
   "source": [
    "# ----\n",
    "# ### Train the Model\n",
    "# To train the model, we first create a `ModelCheckpoint` to monitor the validation loss over time and save the best model as we go. The network is then instantiated and passed into a `Trainer` to kick off training.\n",
    "import os\n",
    "\n",
    "if not os.path.exists(checkpoint_dir):\n",
    "    print(f'mkdir: {checkpoint_dir}')\n",
    "    os.makedirs(checkpoint_dir)"
   ]
  },
  {
   "cell_type": "code",
   "execution_count": 28,
   "id": "96c7a092",
   "metadata": {},
   "outputs": [],
   "source": [
    "# Setup checkpoint callbacks\n",
    "checkpoint_callback = ModelCheckpoint(\n",
    "    dirpath=checkpoint_dir,\n",
    "    filename='{epoch}-{val_loss:.2f}',\n",
    "    save_top_k=3,\n",
    "    save_last=True,\n",
    "    verbose=True,\n",
    "    monitor=\"val_loss\",\n",
    "    mode=\"min\",\n",
    ")"
   ]
  },
  {
   "cell_type": "code",
   "execution_count": 29,
   "id": "3ea7ff9c",
   "metadata": {},
   "outputs": [
    {
     "name": "stderr",
     "output_type": "stream",
     "text": [
      "GPU available: True (cuda), used: True\n",
      "TPU available: False, using: 0 TPU cores\n",
      "IPU available: False, using: 0 IPUs\n",
      "HPU available: False, using: 0 HPUs\n",
      "LOCAL_RANK: 0 - CUDA_VISIBLE_DEVICES: [0]\n",
      "\n",
      "  | Name | Type   | Params\n",
      "--------------------------------\n",
      "0 | mdl  | ResNet | 11.2 M\n",
      "--------------------------------\n",
      "11.2 M    Trainable params\n",
      "0         Non-trainable params\n",
      "11.2 M    Total params\n",
      "44.687    Total estimated model params size (MB)\n"
     ]
    },
    {
     "data": {
      "application/vnd.jupyter.widget-view+json": {
       "model_id": "",
       "version_major": 2,
       "version_minor": 0
      },
      "text/plain": [
       "Sanity Checking: 0it [00:00, ?it/s]"
      ]
     },
     "metadata": {},
     "output_type": "display_data"
    },
    {
     "data": {
      "application/vnd.jupyter.widget-view+json": {
       "model_id": "85a1d56c0c744e748fd69b8e37adf2c5",
       "version_major": 2,
       "version_minor": 0
      },
      "text/plain": [
       "Training: 0it [00:00, ?it/s]"
      ]
     },
     "metadata": {},
     "output_type": "display_data"
    },
    {
     "data": {
      "application/vnd.jupyter.widget-view+json": {
       "model_id": "",
       "version_major": 2,
       "version_minor": 0
      },
      "text/plain": [
       "Validation: 0it [00:00, ?it/s]"
      ]
     },
     "metadata": {},
     "output_type": "display_data"
    },
    {
     "name": "stderr",
     "output_type": "stream",
     "text": [
      "Epoch 0, global step 532: 'val_loss' reached 0.88814 (best 0.88814), saving model to 'D:\\\\radiorec\\\\exp\\\\radiorec\\\\duijiangji-spectrogram-phaseshift-addnoise-norm-spec-shuffle-100ms-checkpoints\\\\epoch=0-val_loss=0.89.ckpt' as top 3\n"
     ]
    },
    {
     "data": {
      "application/vnd.jupyter.widget-view+json": {
       "model_id": "",
       "version_major": 2,
       "version_minor": 0
      },
      "text/plain": [
       "Validation: 0it [00:00, ?it/s]"
      ]
     },
     "metadata": {},
     "output_type": "display_data"
    },
    {
     "name": "stderr",
     "output_type": "stream",
     "text": [
      "Epoch 1, global step 1064: 'val_loss' reached 0.12851 (best 0.12851), saving model to 'D:\\\\radiorec\\\\exp\\\\radiorec\\\\duijiangji-spectrogram-phaseshift-addnoise-norm-spec-shuffle-100ms-checkpoints\\\\epoch=1-val_loss=0.13.ckpt' as top 3\n"
     ]
    },
    {
     "data": {
      "application/vnd.jupyter.widget-view+json": {
       "model_id": "",
       "version_major": 2,
       "version_minor": 0
      },
      "text/plain": [
       "Validation: 0it [00:00, ?it/s]"
      ]
     },
     "metadata": {},
     "output_type": "display_data"
    },
    {
     "name": "stderr",
     "output_type": "stream",
     "text": [
      "Epoch 2, global step 1596: 'val_loss' reached 0.03219 (best 0.03219), saving model to 'D:\\\\radiorec\\\\exp\\\\radiorec\\\\duijiangji-spectrogram-phaseshift-addnoise-norm-spec-shuffle-100ms-checkpoints\\\\epoch=2-val_loss=0.03.ckpt' as top 3\n"
     ]
    },
    {
     "data": {
      "application/vnd.jupyter.widget-view+json": {
       "model_id": "",
       "version_major": 2,
       "version_minor": 0
      },
      "text/plain": [
       "Validation: 0it [00:00, ?it/s]"
      ]
     },
     "metadata": {},
     "output_type": "display_data"
    },
    {
     "name": "stderr",
     "output_type": "stream",
     "text": [
      "Epoch 3, global step 2128: 'val_loss' was not in top 3\n"
     ]
    },
    {
     "data": {
      "application/vnd.jupyter.widget-view+json": {
       "model_id": "",
       "version_major": 2,
       "version_minor": 0
      },
      "text/plain": [
       "Validation: 0it [00:00, ?it/s]"
      ]
     },
     "metadata": {},
     "output_type": "display_data"
    },
    {
     "name": "stderr",
     "output_type": "stream",
     "text": [
      "Epoch 4, global step 2660: 'val_loss' reached 0.04384 (best 0.03219), saving model to 'D:\\\\radiorec\\\\exp\\\\radiorec\\\\duijiangji-spectrogram-phaseshift-addnoise-norm-spec-shuffle-100ms-checkpoints\\\\epoch=4-val_loss=0.04.ckpt' as top 3\n"
     ]
    },
    {
     "data": {
      "application/vnd.jupyter.widget-view+json": {
       "model_id": "",
       "version_major": 2,
       "version_minor": 0
      },
      "text/plain": [
       "Validation: 0it [00:00, ?it/s]"
      ]
     },
     "metadata": {},
     "output_type": "display_data"
    },
    {
     "name": "stderr",
     "output_type": "stream",
     "text": [
      "Epoch 5, global step 3192: 'val_loss' was not in top 3\n"
     ]
    },
    {
     "data": {
      "application/vnd.jupyter.widget-view+json": {
       "model_id": "",
       "version_major": 2,
       "version_minor": 0
      },
      "text/plain": [
       "Validation: 0it [00:00, ?it/s]"
      ]
     },
     "metadata": {},
     "output_type": "display_data"
    },
    {
     "name": "stderr",
     "output_type": "stream",
     "text": [
      "Epoch 6, global step 3724: 'val_loss' was not in top 3\n"
     ]
    },
    {
     "data": {
      "application/vnd.jupyter.widget-view+json": {
       "model_id": "",
       "version_major": 2,
       "version_minor": 0
      },
      "text/plain": [
       "Validation: 0it [00:00, ?it/s]"
      ]
     },
     "metadata": {},
     "output_type": "display_data"
    },
    {
     "name": "stderr",
     "output_type": "stream",
     "text": [
      "Epoch 7, global step 4256: 'val_loss' reached 0.04776 (best 0.03219), saving model to 'D:\\\\radiorec\\\\exp\\\\radiorec\\\\duijiangji-spectrogram-phaseshift-addnoise-norm-spec-shuffle-100ms-checkpoints\\\\epoch=7-val_loss=0.05.ckpt' as top 3\n"
     ]
    },
    {
     "data": {
      "application/vnd.jupyter.widget-view+json": {
       "model_id": "",
       "version_major": 2,
       "version_minor": 0
      },
      "text/plain": [
       "Validation: 0it [00:00, ?it/s]"
      ]
     },
     "metadata": {},
     "output_type": "display_data"
    },
    {
     "name": "stderr",
     "output_type": "stream",
     "text": [
      "Epoch 8, global step 4788: 'val_loss' was not in top 3\n"
     ]
    },
    {
     "data": {
      "application/vnd.jupyter.widget-view+json": {
       "model_id": "",
       "version_major": 2,
       "version_minor": 0
      },
      "text/plain": [
       "Validation: 0it [00:00, ?it/s]"
      ]
     },
     "metadata": {},
     "output_type": "display_data"
    },
    {
     "name": "stderr",
     "output_type": "stream",
     "text": [
      "Epoch 9, global step 5320: 'val_loss' was not in top 3\n",
      "`Trainer.fit` stopped: `max_epochs=10` reached.\n"
     ]
    }
   ],
   "source": [
    "# Create and fit trainer\n",
    "trainer = Trainer(\n",
    "    max_epochs=epochs, callbacks=checkpoint_callback, devices=1, accelerator=\"gpu\"\n",
    ")\n",
    "\n",
    "trainer.fit(radiorec_model, train_dataloaders=train_dataloader, val_dataloaders = val_dataloader)"
   ]
  },
  {
   "cell_type": "code",
   "execution_count": 30,
   "id": "c1a9557d",
   "metadata": {},
   "outputs": [
    {
     "data": {
      "text/plain": [
       "'D:\\\\radiorec\\\\exp\\\\radiorec\\\\duijiangji-spectrogram-phaseshift-addnoise-norm-spec-shuffle-100ms-checkpoints\\\\epoch=2-val_loss=0.03.ckpt'"
      ]
     },
     "execution_count": 30,
     "metadata": {},
     "output_type": "execute_result"
    }
   ],
   "source": [
    "checkpoint_callback.best_model_path"
   ]
  },
  {
   "cell_type": "code",
   "execution_count": 31,
   "id": "cc9d26c6",
   "metadata": {},
   "outputs": [],
   "source": [
    "# After the model is trained, the checkpoint's weights are loaded into the model and the model is put into evaluation mode. The validation set is looped through, inferring results for each example and saving the predictions and the labels. Finally, the labels and predictions are passed into our confusion matrix plotting function to view the results and also passed into the `sklearn.metrics.classification_report` method to print metrics of interest.\n",
    "checkpoint_filename = checkpoint_callback.best_model_path\n",
    "\n",
    "# Load best checkpoint\n",
    "device = \"cuda\" if torch.cuda.is_available() else \"cpu\"\n",
    "checkpoint = torch.load(\n",
    "    checkpoint_filename, map_location=lambda storage, loc: storage\n",
    ")\n",
    "\n",
    "model = create_resnet_2d(name = 'resnet18', pretrained = False, num_classes = num_classes, in_chans = channels)\n",
    "# model = create_resnet(name = 'resnet18', pretrained = False, num_classes = num_classes, in_chans = channels)\n",
    "test_model = RadioRecNetwork(model, learning_rate = learning_rate)\n",
    "test_model.load_state_dict(checkpoint[\"state_dict\"])\n",
    "test_model = test_model.to(device=device).eval()"
   ]
  },
  {
   "cell_type": "code",
   "execution_count": 32,
   "id": "27beade2",
   "metadata": {},
   "outputs": [
    {
     "name": "stderr",
     "output_type": "stream",
     "text": [
      "\n",
      "  0%|                                                                                         | 0/7163 [00:00<?, ?it/s]\u001b[A\n",
      "  0%|                                                                                 | 3/7163 [00:00<04:24, 27.03it/s]\u001b[A\n",
      "  0%|                                                                                 | 6/7163 [00:00<04:20, 27.46it/s]\u001b[A\n",
      "  0%|▏                                                                               | 14/7163 [00:00<02:26, 48.82it/s]\u001b[A\n",
      "  0%|▎                                                                               | 24/7163 [00:00<01:48, 66.07it/s]\u001b[A\n",
      "  1%|▍                                                                               | 39/7163 [00:00<01:15, 94.32it/s]\u001b[A\n",
      "  1%|▌                                                                              | 54/7163 [00:00<01:03, 112.34it/s]\u001b[A\n",
      "  1%|▊                                                                              | 69/7163 [00:00<00:57, 124.06it/s]\u001b[A\n",
      "  1%|▉                                                                              | 85/7163 [00:00<00:52, 134.43it/s]\u001b[A\n",
      "  1%|█                                                                             | 102/7163 [00:00<00:49, 142.72it/s]\u001b[A\n",
      "  2%|█▎                                                                            | 117/7163 [00:01<00:50, 139.04it/s]\u001b[A\n",
      "  2%|█▍                                                                            | 131/7163 [00:01<00:56, 125.56it/s]\u001b[A\n",
      "  2%|█▌                                                                            | 144/7163 [00:01<00:58, 119.99it/s]\u001b[A\n",
      "  2%|█▋                                                                            | 160/7163 [00:01<00:54, 129.40it/s]\u001b[A\n",
      "  2%|█▉                                                                            | 174/7163 [00:01<00:54, 127.74it/s]\u001b[A\n",
      "  3%|██                                                                            | 187/7163 [00:01<01:00, 114.72it/s]\u001b[A\n",
      "  3%|██▏                                                                            | 199/7163 [00:01<01:10, 98.71it/s]\u001b[A\n",
      "  3%|██▎                                                                           | 215/7163 [00:01<01:01, 112.62it/s]\u001b[A\n",
      "  3%|██▍                                                                           | 228/7163 [00:02<00:59, 116.73it/s]\u001b[A\n",
      "  3%|██▋                                                                           | 242/7163 [00:02<00:56, 122.27it/s]\u001b[A\n",
      "  4%|██▊                                                                           | 257/7163 [00:02<00:53, 129.18it/s]\u001b[A\n",
      "  4%|██▉                                                                           | 271/7163 [00:02<00:57, 119.48it/s]\u001b[A\n",
      "  4%|███                                                                           | 284/7163 [00:02<01:04, 106.93it/s]\u001b[A\n",
      "  4%|███▎                                                                           | 296/7163 [00:02<01:12, 94.56it/s]\u001b[A\n",
      "  4%|███▎                                                                           | 306/7163 [00:02<01:14, 92.55it/s]\u001b[A\n",
      "  4%|███▍                                                                           | 316/7163 [00:02<01:12, 93.98it/s]\u001b[A\n",
      "  5%|███▌                                                                           | 327/7163 [00:03<01:12, 94.85it/s]\u001b[A\n",
      "  5%|███▋                                                                           | 337/7163 [00:03<01:16, 88.75it/s]\u001b[A\n",
      "  5%|███▊                                                                           | 348/7163 [00:03<01:13, 92.54it/s]\u001b[A\n",
      "  5%|███▉                                                                           | 358/7163 [00:03<01:20, 84.18it/s]\u001b[A\n",
      "  5%|████                                                                           | 367/7163 [00:03<01:24, 80.78it/s]\u001b[A\n",
      "  5%|████▏                                                                          | 376/7163 [00:03<01:25, 79.62it/s]\u001b[A\n",
      "  5%|████▏                                                                          | 385/7163 [00:03<01:27, 77.56it/s]\u001b[A\n",
      "  5%|████▎                                                                          | 393/7163 [00:03<01:30, 75.14it/s]\u001b[A\n",
      "  6%|████▍                                                                          | 401/7163 [00:04<01:30, 74.47it/s]\u001b[A\n",
      "  6%|████▌                                                                          | 409/7163 [00:04<01:30, 74.52it/s]\u001b[A\n",
      "  6%|████▋                                                                          | 420/7163 [00:04<01:20, 84.05it/s]\u001b[A\n",
      "  6%|████▊                                                                          | 434/7163 [00:04<01:08, 98.93it/s]\u001b[A\n",
      "  6%|████▊                                                                         | 446/7163 [00:04<01:05, 102.86it/s]\u001b[A\n",
      "  6%|█████                                                                          | 457/7163 [00:04<01:13, 91.25it/s]\u001b[A\n",
      "  7%|█████▏                                                                        | 471/7163 [00:04<01:05, 102.67it/s]\u001b[A\n",
      "  7%|█████▏                                                                        | 482/7163 [00:04<01:04, 104.08it/s]\u001b[A\n",
      "  7%|█████▍                                                                         | 493/7163 [00:04<01:07, 98.84it/s]\u001b[A\n",
      "  7%|█████▌                                                                        | 506/7163 [00:05<01:02, 106.76it/s]\u001b[A\n",
      "  7%|█████▋                                                                        | 519/7163 [00:05<01:00, 110.46it/s]\u001b[A\n",
      "  7%|█████▊                                                                        | 531/7163 [00:05<01:03, 104.66it/s]\u001b[A\n",
      "  8%|█████▉                                                                        | 542/7163 [00:05<01:04, 103.41it/s]\u001b[A\n",
      "  8%|██████                                                                        | 558/7163 [00:05<00:56, 116.92it/s]\u001b[A\n",
      "  8%|██████▏                                                                       | 570/7163 [00:05<01:04, 101.55it/s]\u001b[A\n",
      "  8%|██████▍                                                                        | 581/7163 [00:05<01:13, 89.30it/s]\u001b[A\n",
      "  8%|██████▌                                                                        | 592/7163 [00:05<01:10, 92.76it/s]\u001b[A\n",
      "  8%|██████▌                                                                       | 607/7163 [00:06<01:01, 105.87it/s]\u001b[A\n",
      "  9%|██████▋                                                                       | 619/7163 [00:06<01:00, 108.99it/s]\u001b[A\n",
      "  9%|██████▉                                                                       | 632/7163 [00:06<00:57, 112.85it/s]\u001b[A\n",
      "  9%|███████                                                                       | 648/7163 [00:06<00:52, 124.50it/s]\u001b[A\n",
      "  9%|███████▏                                                                      | 662/7163 [00:06<00:50, 128.48it/s]\u001b[A\n",
      "  9%|███████▎                                                                      | 677/7163 [00:06<00:49, 132.35it/s]\u001b[A\n",
      " 10%|███████▌                                                                      | 694/7163 [00:06<00:45, 141.42it/s]\u001b[A\n",
      " 10%|███████▋                                                                      | 710/7163 [00:06<00:44, 146.43it/s]\u001b[A\n",
      " 10%|███████▉                                                                      | 726/7163 [00:06<00:43, 148.21it/s]\u001b[A\n",
      " 10%|████████                                                                      | 741/7163 [00:06<00:43, 147.57it/s]\u001b[A\n",
      " 11%|████████▏                                                                     | 756/7163 [00:07<00:43, 147.42it/s]\u001b[A\n",
      " 11%|████████▍                                                                     | 771/7163 [00:07<00:43, 148.18it/s]\u001b[A\n",
      " 11%|████████▌                                                                     | 786/7163 [00:07<00:45, 141.61it/s]\u001b[A\n",
      " 11%|████████▋                                                                     | 801/7163 [00:07<00:44, 142.79it/s]\u001b[A\n",
      " 11%|████████▉                                                                     | 817/7163 [00:07<00:43, 146.49it/s]\u001b[A\n"
     ]
    },
    {
     "name": "stderr",
     "output_type": "stream",
     "text": [
      " 12%|█████████                                                                     | 833/7163 [00:07<00:42, 149.04it/s]\u001b[A\n",
      " 12%|█████████▎                                                                    | 850/7163 [00:07<00:41, 153.70it/s]\u001b[A\n",
      " 12%|█████████▍                                                                    | 866/7163 [00:07<00:40, 153.73it/s]\u001b[A\n",
      " 12%|█████████▌                                                                    | 883/7163 [00:07<00:40, 156.61it/s]\u001b[A\n",
      " 13%|█████████▊                                                                    | 900/7163 [00:07<00:39, 158.29it/s]\u001b[A\n",
      " 13%|█████████▉                                                                    | 917/7163 [00:08<00:39, 158.94it/s]\u001b[A\n",
      " 13%|██████████▏                                                                   | 934/7163 [00:08<00:38, 160.73it/s]\u001b[A\n",
      " 13%|██████████▎                                                                   | 951/7163 [00:08<00:38, 162.46it/s]\u001b[A\n",
      " 14%|██████████▌                                                                   | 968/7163 [00:08<00:37, 164.17it/s]\u001b[A\n",
      " 14%|██████████▋                                                                   | 985/7163 [00:08<00:37, 163.49it/s]\u001b[A\n",
      " 14%|██████████▊                                                                  | 1002/7163 [00:08<00:37, 163.43it/s]\u001b[A\n",
      " 14%|██████████▉                                                                  | 1019/7163 [00:08<00:38, 159.34it/s]\u001b[A\n",
      " 14%|███████████▏                                                                 | 1035/7163 [00:08<00:38, 158.63it/s]\u001b[A\n",
      " 15%|███████████▎                                                                 | 1052/7163 [00:08<00:37, 161.54it/s]\u001b[A\n",
      " 15%|███████████▍                                                                 | 1069/7163 [00:09<00:37, 163.82it/s]\u001b[A\n",
      " 15%|███████████▋                                                                 | 1086/7163 [00:09<00:37, 163.70it/s]\u001b[A\n",
      " 15%|███████████▊                                                                 | 1103/7163 [00:09<00:36, 165.06it/s]\u001b[A\n",
      " 16%|████████████                                                                 | 1120/7163 [00:09<00:38, 155.94it/s]\u001b[A\n",
      " 16%|████████████▏                                                                | 1137/7163 [00:09<00:38, 157.25it/s]\u001b[A\n",
      " 16%|████████████▍                                                                | 1153/7163 [00:09<00:38, 154.25it/s]\u001b[A\n",
      " 16%|████████████▌                                                                | 1169/7163 [00:09<00:38, 154.54it/s]\u001b[A\n",
      " 17%|████████████▋                                                                | 1185/7163 [00:09<00:38, 153.82it/s]\u001b[A\n",
      " 17%|████████████▉                                                                | 1201/7163 [00:09<00:38, 155.12it/s]\u001b[A\n",
      " 17%|█████████████                                                                | 1217/7163 [00:09<00:38, 156.09it/s]\u001b[A\n",
      " 17%|█████████████▎                                                               | 1233/7163 [00:10<00:38, 154.74it/s]\u001b[A\n",
      " 17%|█████████████▍                                                               | 1250/7163 [00:10<00:37, 158.67it/s]\u001b[A\n",
      " 18%|█████████████▋                                                               | 1268/7163 [00:10<00:36, 162.74it/s]\u001b[A\n",
      " 18%|█████████████▊                                                               | 1285/7163 [00:10<00:35, 163.42it/s]\u001b[A\n",
      " 18%|█████████████▉                                                               | 1302/7163 [00:10<00:37, 158.40it/s]\u001b[A\n",
      " 18%|██████████████▏                                                              | 1319/7163 [00:10<00:36, 160.54it/s]\u001b[A\n",
      " 19%|██████████████▎                                                              | 1336/7163 [00:10<00:36, 161.81it/s]\u001b[A\n",
      " 19%|██████████████▌                                                              | 1353/7163 [00:10<00:36, 160.46it/s]\u001b[A\n",
      " 19%|██████████████▋                                                              | 1370/7163 [00:10<00:36, 159.14it/s]\u001b[A\n",
      " 19%|██████████████▉                                                              | 1387/7163 [00:11<00:36, 159.96it/s]\u001b[A\n",
      " 20%|███████████████                                                              | 1404/7163 [00:11<00:36, 157.40it/s]\u001b[A\n",
      " 20%|███████████████▎                                                             | 1420/7163 [00:11<00:36, 157.69it/s]\u001b[A\n",
      " 20%|███████████████▍                                                             | 1438/7163 [00:11<00:35, 162.02it/s]\u001b[A\n",
      " 20%|███████████████▋                                                             | 1455/7163 [00:11<00:34, 163.41it/s]\u001b[A\n",
      " 21%|███████████████▊                                                             | 1472/7163 [00:11<00:34, 162.70it/s]\u001b[A\n",
      " 21%|████████████████                                                             | 1489/7163 [00:11<00:34, 163.60it/s]\u001b[A\n",
      " 21%|████████████████▏                                                            | 1506/7163 [00:11<00:34, 164.93it/s]\u001b[A\n",
      " 21%|████████████████▎                                                            | 1523/7163 [00:11<00:34, 164.24it/s]\u001b[A\n",
      " 22%|████████████████▌                                                            | 1541/7163 [00:11<00:33, 166.42it/s]\u001b[A\n",
      " 22%|████████████████▊                                                            | 1559/7163 [00:12<00:33, 167.45it/s]\u001b[A\n",
      " 22%|████████████████▉                                                            | 1576/7163 [00:12<00:33, 167.71it/s]\u001b[A\n",
      " 22%|█████████████████                                                            | 1593/7163 [00:12<00:33, 167.40it/s]\u001b[A\n",
      " 22%|█████████████████▎                                                           | 1610/7163 [00:12<00:33, 165.25it/s]\u001b[A\n",
      " 23%|█████████████████▍                                                           | 1627/7163 [00:12<00:33, 163.25it/s]\u001b[A\n",
      " 23%|█████████████████▋                                                           | 1644/7163 [00:12<00:33, 162.57it/s]\u001b[A\n",
      " 23%|█████████████████▊                                                           | 1661/7163 [00:12<00:33, 161.95it/s]\u001b[A\n",
      " 23%|██████████████████                                                           | 1678/7163 [00:12<00:35, 156.58it/s]\u001b[A\n",
      " 24%|██████████████████▏                                                          | 1695/7163 [00:12<00:34, 159.32it/s]\u001b[A\n",
      " 24%|██████████████████▍                                                          | 1711/7163 [00:13<00:34, 159.51it/s]\u001b[A\n",
      " 24%|██████████████████▌                                                          | 1729/7163 [00:13<00:32, 164.96it/s]\u001b[A\n",
      " 24%|██████████████████▊                                                          | 1746/7163 [00:13<00:33, 163.10it/s]\u001b[A\n",
      " 25%|██████████████████▉                                                          | 1763/7163 [00:13<00:32, 163.68it/s]\u001b[A\n",
      " 25%|███████████████████▏                                                         | 1780/7163 [00:13<00:32, 165.05it/s]\u001b[A\n",
      " 25%|███████████████████▎                                                         | 1797/7163 [00:13<00:32, 166.02it/s]\u001b[A\n",
      " 25%|███████████████████▍                                                         | 1814/7163 [00:13<00:32, 164.15it/s]\u001b[A\n",
      " 26%|███████████████████▋                                                         | 1831/7163 [00:13<00:32, 164.38it/s]\u001b[A\n",
      " 26%|███████████████████▊                                                         | 1848/7163 [00:13<00:32, 163.83it/s]\u001b[A\n",
      " 26%|████████████████████                                                         | 1865/7163 [00:13<00:32, 164.18it/s]\u001b[A\n",
      " 26%|████████████████████▏                                                        | 1882/7163 [00:14<00:32, 163.96it/s]\u001b[A\n",
      " 27%|████████████████████▍                                                        | 1899/7163 [00:14<00:32, 162.87it/s]\u001b[A\n",
      " 27%|████████████████████▌                                                        | 1916/7163 [00:14<00:32, 160.93it/s]\u001b[A\n",
      " 27%|████████████████████▊                                                        | 1933/7163 [00:14<00:32, 161.21it/s]\u001b[A\n"
     ]
    },
    {
     "name": "stderr",
     "output_type": "stream",
     "text": [
      " 27%|████████████████████▉                                                        | 1951/7163 [00:14<00:31, 164.50it/s]\u001b[A\n",
      " 27%|█████████████████████▏                                                       | 1969/7163 [00:14<00:30, 168.21it/s]\u001b[A\n",
      " 28%|█████████████████████▎                                                       | 1986/7163 [00:14<00:31, 164.08it/s]\u001b[A\n",
      " 28%|█████████████████████▌                                                       | 2003/7163 [00:14<00:34, 148.66it/s]\u001b[A\n",
      " 28%|█████████████████████▋                                                       | 2019/7163 [00:14<00:38, 132.32it/s]\u001b[A\n",
      " 28%|█████████████████████▊                                                       | 2033/7163 [00:15<00:38, 132.59it/s]\u001b[A\n",
      " 29%|██████████████████████                                                       | 2047/7163 [00:15<00:41, 124.14it/s]\u001b[A\n",
      " 29%|██████████████████████▏                                                      | 2060/7163 [00:15<00:41, 123.73it/s]\u001b[A\n",
      " 29%|██████████████████████▎                                                      | 2073/7163 [00:15<00:42, 120.59it/s]\u001b[A\n",
      " 29%|██████████████████████▍                                                      | 2086/7163 [00:15<00:43, 118.02it/s]\u001b[A\n",
      " 29%|██████████████████████▌                                                      | 2098/7163 [00:15<00:44, 113.80it/s]\u001b[A\n",
      " 29%|██████████████████████▋                                                      | 2110/7163 [00:15<00:45, 110.16it/s]\u001b[A\n",
      " 30%|██████████████████████▊                                                      | 2122/7163 [00:15<00:50, 100.00it/s]\u001b[A\n",
      " 30%|███████████████████████▏                                                      | 2133/7163 [00:16<00:59, 85.22it/s]\u001b[A\n",
      " 30%|███████████████████████▎                                                      | 2142/7163 [00:16<01:05, 76.90it/s]\u001b[A\n",
      " 30%|███████████████████████▍                                                      | 2151/7163 [00:16<01:07, 74.78it/s]\u001b[A\n",
      " 30%|███████████████████████▌                                                      | 2159/7163 [00:16<01:07, 74.60it/s]\u001b[A\n",
      " 30%|███████████████████████▌                                                      | 2169/7163 [00:16<01:03, 78.43it/s]\u001b[A\n",
      " 30%|███████████████████████▋                                                      | 2178/7163 [00:16<01:02, 79.98it/s]\u001b[A\n",
      " 31%|███████████████████████▊                                                      | 2187/7163 [00:16<01:01, 81.34it/s]\u001b[A\n",
      " 31%|███████████████████████▉                                                      | 2197/7163 [00:16<00:58, 84.45it/s]\u001b[A\n",
      " 31%|████████████████████████                                                      | 2206/7163 [00:17<00:59, 83.65it/s]\u001b[A\n",
      " 31%|████████████████████████                                                      | 2215/7163 [00:17<00:57, 85.40it/s]\u001b[A\n",
      " 31%|████████████████████████▎                                                     | 2229/7163 [00:17<00:49, 99.14it/s]\u001b[A\n",
      " 31%|████████████████████████                                                     | 2244/7163 [00:17<00:43, 112.32it/s]\u001b[A\n",
      " 32%|████████████████████████▎                                                    | 2259/7163 [00:17<00:40, 122.06it/s]\u001b[A\n",
      " 32%|████████████████████████▍                                                    | 2276/7163 [00:17<00:36, 134.89it/s]\u001b[A\n",
      " 32%|████████████████████████▋                                                    | 2292/7163 [00:17<00:34, 141.42it/s]\u001b[A\n",
      " 32%|████████████████████████▊                                                    | 2308/7163 [00:17<00:33, 145.16it/s]\u001b[A\n",
      " 32%|█████████████████████████                                                    | 2326/7163 [00:17<00:31, 151.78it/s]\u001b[A\n",
      " 33%|█████████████████████████▏                                                   | 2344/7163 [00:17<00:30, 157.85it/s]\u001b[A\n",
      " 33%|█████████████████████████▎                                                   | 2360/7163 [00:18<00:32, 149.36it/s]\u001b[A\n",
      " 33%|█████████████████████████▌                                                   | 2376/7163 [00:18<00:39, 120.80it/s]\u001b[A\n",
      " 33%|█████████████████████████▋                                                   | 2390/7163 [00:18<00:41, 113.65it/s]\u001b[A\n",
      " 34%|█████████████████████████▊                                                   | 2403/7163 [00:18<00:43, 109.47it/s]\u001b[A\n",
      " 34%|█████████████████████████▉                                                   | 2415/7163 [00:18<00:44, 106.82it/s]\u001b[A\n",
      " 34%|██████████████████████████                                                   | 2427/7163 [00:18<00:43, 108.47it/s]\u001b[A\n",
      " 34%|██████████████████████████▏                                                  | 2439/7163 [00:18<00:43, 108.64it/s]\u001b[A\n",
      " 34%|██████████████████████████▎                                                  | 2451/7163 [00:19<00:42, 110.49it/s]\u001b[A\n",
      " 34%|██████████████████████████▍                                                  | 2465/7163 [00:19<00:39, 117.65it/s]\u001b[A\n",
      " 35%|██████████████████████████▋                                                  | 2477/7163 [00:19<00:41, 112.06it/s]\u001b[A\n",
      " 35%|██████████████████████████▊                                                  | 2490/7163 [00:19<00:40, 116.02it/s]\u001b[A\n",
      " 35%|██████████████████████████▉                                                  | 2504/7163 [00:19<00:38, 121.03it/s]\u001b[A\n",
      " 35%|███████████████████████████                                                  | 2518/7163 [00:19<00:37, 124.28it/s]\u001b[A\n",
      " 35%|███████████████████████████▎                                                 | 2535/7163 [00:19<00:34, 135.65it/s]\u001b[A\n",
      " 36%|███████████████████████████▍                                                 | 2552/7163 [00:19<00:31, 144.98it/s]\u001b[A\n",
      " 36%|███████████████████████████▋                                                 | 2570/7163 [00:19<00:29, 154.22it/s]\u001b[A\n",
      " 36%|███████████████████████████▊                                                 | 2587/7163 [00:19<00:29, 157.40it/s]\u001b[A\n",
      " 36%|███████████████████████████▉                                                 | 2603/7163 [00:20<00:33, 135.85it/s]\u001b[A\n",
      " 37%|████████████████████████████▏                                                | 2618/7163 [00:20<00:37, 120.78it/s]\u001b[A\n",
      " 37%|████████████████████████████▎                                                | 2631/7163 [00:20<00:38, 117.28it/s]\u001b[A\n",
      " 37%|████████████████████████████▍                                                | 2644/7163 [00:20<00:39, 115.27it/s]\u001b[A\n",
      " 37%|████████████████████████████▌                                                | 2661/7163 [00:20<00:35, 127.75it/s]\u001b[A\n",
      " 37%|████████████████████████████▊                                                | 2676/7163 [00:20<00:33, 132.03it/s]\u001b[A\n",
      " 38%|████████████████████████████▉                                                | 2693/7163 [00:20<00:31, 140.63it/s]\u001b[A\n",
      " 38%|█████████████████████████████                                                | 2708/7163 [00:20<00:31, 141.66it/s]\u001b[A\n",
      " 38%|█████████████████████████████▎                                               | 2724/7163 [00:21<00:30, 146.40it/s]\u001b[A\n",
      " 38%|█████████████████████████████▍                                               | 2739/7163 [00:21<00:30, 145.32it/s]\u001b[A\n",
      " 38%|█████████████████████████████▌                                               | 2754/7163 [00:21<00:31, 137.95it/s]\u001b[A\n",
      " 39%|█████████████████████████████▊                                               | 2768/7163 [00:21<00:32, 136.24it/s]\u001b[A\n",
      " 39%|█████████████████████████████▉                                               | 2782/7163 [00:21<00:33, 129.64it/s]\u001b[A\n",
      " 39%|██████████████████████████████                                               | 2796/7163 [00:21<00:34, 126.00it/s]\u001b[A\n",
      " 39%|██████████████████████████████▏                                              | 2812/7163 [00:21<00:32, 135.05it/s]\u001b[A\n",
      " 39%|██████████████████████████████▍                                              | 2828/7163 [00:21<00:30, 141.11it/s]\u001b[A\n",
      " 40%|██████████████████████████████▌                                              | 2845/7163 [00:21<00:29, 147.64it/s]\u001b[A\n",
      " 40%|██████████████████████████████▋                                              | 2860/7163 [00:22<00:29, 147.20it/s]\u001b[A\n"
     ]
    },
    {
     "name": "stderr",
     "output_type": "stream",
     "text": [
      " 40%|██████████████████████████████▉                                              | 2875/7163 [00:22<00:30, 141.17it/s]\u001b[A\n",
      " 40%|███████████████████████████████                                              | 2890/7163 [00:22<00:30, 139.87it/s]\u001b[A\n",
      " 41%|███████████████████████████████▏                                             | 2906/7163 [00:22<00:29, 145.54it/s]\u001b[A\n",
      " 41%|███████████████████████████████▍                                             | 2921/7163 [00:22<00:29, 144.34it/s]\u001b[A\n",
      " 41%|███████████████████████████████▌                                             | 2936/7163 [00:22<00:29, 141.28it/s]\u001b[A\n",
      " 41%|███████████████████████████████▋                                             | 2952/7163 [00:22<00:28, 145.51it/s]\u001b[A\n",
      " 41%|███████████████████████████████▉                                             | 2967/7163 [00:22<00:31, 134.80it/s]\u001b[A\n",
      " 42%|████████████████████████████████                                             | 2981/7163 [00:22<00:32, 129.15it/s]\u001b[A\n",
      " 42%|████████████████████████████████▏                                            | 2996/7163 [00:23<00:31, 133.17it/s]\u001b[A\n",
      " 42%|████████████████████████████████▎                                            | 3010/7163 [00:23<00:31, 131.50it/s]\u001b[A\n",
      " 42%|████████████████████████████████▌                                            | 3024/7163 [00:23<00:31, 132.03it/s]\u001b[A\n",
      " 42%|████████████████████████████████▋                                            | 3039/7163 [00:23<00:30, 135.18it/s]\u001b[A\n",
      " 43%|████████████████████████████████▊                                            | 3054/7163 [00:23<00:29, 138.20it/s]\u001b[A\n",
      " 43%|█████████████████████████████████                                            | 3070/7163 [00:23<00:28, 144.04it/s]\u001b[A\n",
      " 43%|█████████████████████████████████▏                                           | 3087/7163 [00:23<00:27, 149.86it/s]\u001b[A\n",
      " 43%|█████████████████████████████████▎                                           | 3104/7163 [00:23<00:26, 154.49it/s]\u001b[A\n",
      " 44%|█████████████████████████████████▌                                           | 3120/7163 [00:23<00:26, 155.13it/s]\u001b[A\n",
      " 44%|█████████████████████████████████▋                                           | 3137/7163 [00:23<00:25, 157.73it/s]\u001b[A\n",
      " 44%|█████████████████████████████████▉                                           | 3153/7163 [00:24<00:25, 157.27it/s]\u001b[A\n",
      " 44%|██████████████████████████████████                                           | 3170/7163 [00:24<00:25, 159.15it/s]\u001b[A\n",
      " 44%|██████████████████████████████████▏                                          | 3186/7163 [00:24<00:25, 158.01it/s]\u001b[A\n",
      " 45%|██████████████████████████████████▍                                          | 3203/7163 [00:24<00:24, 159.35it/s]\u001b[A\n",
      " 45%|██████████████████████████████████▌                                          | 3220/7163 [00:24<00:24, 161.52it/s]\u001b[A\n",
      " 45%|██████████████████████████████████▊                                          | 3237/7163 [00:24<00:24, 161.95it/s]\u001b[A\n",
      " 45%|██████████████████████████████████▉                                          | 3254/7163 [00:24<00:23, 163.56it/s]\u001b[A\n",
      " 46%|███████████████████████████████████▏                                         | 3271/7163 [00:24<00:23, 162.28it/s]\u001b[A\n",
      " 46%|███████████████████████████████████▎                                         | 3288/7163 [00:24<00:24, 160.78it/s]\u001b[A\n",
      " 46%|███████████████████████████████████▌                                         | 3305/7163 [00:24<00:23, 161.95it/s]\u001b[A\n",
      " 46%|███████████████████████████████████▋                                         | 3322/7163 [00:25<00:24, 158.15it/s]\u001b[A\n",
      " 47%|███████████████████████████████████▉                                         | 3338/7163 [00:25<00:24, 155.15it/s]\u001b[A\n",
      " 47%|████████████████████████████████████                                         | 3354/7163 [00:25<00:25, 151.77it/s]\u001b[A\n",
      " 47%|████████████████████████████████████▏                                        | 3370/7163 [00:25<00:25, 148.63it/s]\u001b[A\n",
      " 47%|████████████████████████████████████▍                                        | 3387/7163 [00:25<00:24, 152.07it/s]\u001b[A\n",
      " 48%|████████████████████████████████████▌                                        | 3403/7163 [00:25<00:24, 151.34it/s]\u001b[A\n",
      " 48%|████████████████████████████████████▊                                        | 3419/7163 [00:25<00:24, 150.97it/s]\u001b[A\n",
      " 48%|████████████████████████████████████▉                                        | 3436/7163 [00:25<00:24, 154.19it/s]\u001b[A\n",
      " 48%|█████████████████████████████████████▏                                       | 3454/7163 [00:25<00:23, 159.49it/s]\u001b[A\n",
      " 48%|█████████████████████████████████████▎                                       | 3471/7163 [00:26<00:22, 162.02it/s]\u001b[A\n",
      " 49%|█████████████████████████████████████▍                                       | 3488/7163 [00:26<00:23, 157.61it/s]\u001b[A\n",
      " 49%|█████████████████████████████████████▋                                       | 3504/7163 [00:26<00:23, 152.64it/s]\u001b[A\n",
      " 49%|█████████████████████████████████████▊                                       | 3520/7163 [00:26<00:24, 150.47it/s]\u001b[A\n",
      " 49%|██████████████████████████████████████                                       | 3537/7163 [00:26<00:23, 153.81it/s]\u001b[A\n",
      " 50%|██████████████████████████████████████▏                                      | 3554/7163 [00:26<00:22, 158.12it/s]\u001b[A\n",
      " 50%|██████████████████████████████████████▍                                      | 3572/7163 [00:26<00:22, 161.97it/s]\u001b[A\n",
      " 50%|██████████████████████████████████████▌                                      | 3589/7163 [00:26<00:22, 161.94it/s]\u001b[A\n",
      " 50%|██████████████████████████████████████▊                                      | 3606/7163 [00:26<00:21, 162.35it/s]\u001b[A\n",
      " 51%|██████████████████████████████████████▉                                      | 3623/7163 [00:27<00:21, 162.42it/s]\u001b[A\n",
      " 51%|███████████████████████████████████████▏                                     | 3640/7163 [00:27<00:21, 161.00it/s]\u001b[A\n",
      " 51%|███████████████████████████████████████▎                                     | 3657/7163 [00:27<00:21, 163.12it/s]\u001b[A\n",
      " 51%|███████████████████████████████████████▍                                     | 3674/7163 [00:27<00:21, 161.56it/s]\u001b[A\n",
      " 52%|███████████████████████████████████████▋                                     | 3691/7163 [00:27<00:21, 163.67it/s]\u001b[A\n",
      " 52%|███████████████████████████████████████▊                                     | 3708/7163 [00:27<00:21, 162.19it/s]\u001b[A\n",
      " 52%|████████████████████████████████████████                                     | 3725/7163 [00:27<00:20, 164.31it/s]\u001b[A\n",
      " 52%|████████████████████████████████████████▏                                    | 3743/7163 [00:27<00:20, 166.89it/s]\u001b[A\n",
      " 52%|████████████████████████████████████████▍                                    | 3760/7163 [00:27<00:20, 167.79it/s]\u001b[A\n",
      " 53%|████████████████████████████████████████▌                                    | 3777/7163 [00:27<00:20, 162.91it/s]\u001b[A\n",
      " 53%|████████████████████████████████████████▊                                    | 3794/7163 [00:28<00:21, 158.10it/s]\u001b[A\n",
      " 53%|████████████████████████████████████████▉                                    | 3810/7163 [00:28<00:22, 151.06it/s]\u001b[A\n",
      " 53%|█████████████████████████████████████████▏                                   | 3826/7163 [00:28<00:22, 151.20it/s]\u001b[A\n",
      " 54%|█████████████████████████████████████████▎                                   | 3843/7163 [00:28<00:21, 154.73it/s]\u001b[A\n",
      " 54%|█████████████████████████████████████████▍                                   | 3859/7163 [00:28<00:21, 154.65it/s]\u001b[A\n",
      " 54%|█████████████████████████████████████████▋                                   | 3875/7163 [00:28<00:21, 155.03it/s]\u001b[A\n",
      " 54%|█████████████████████████████████████████▊                                   | 3891/7163 [00:28<00:21, 154.08it/s]\u001b[A\n",
      " 55%|██████████████████████████████████████████                                   | 3908/7163 [00:28<00:20, 158.24it/s]\u001b[A\n",
      " 55%|██████████████████████████████████████████▏                                  | 3925/7163 [00:28<00:20, 159.92it/s]\u001b[A\n",
      " 55%|██████████████████████████████████████████▍                                  | 3942/7163 [00:29<00:20, 154.79it/s]\u001b[A\n"
     ]
    },
    {
     "name": "stderr",
     "output_type": "stream",
     "text": [
      " 55%|██████████████████████████████████████████▌                                  | 3958/7163 [00:29<00:21, 149.16it/s]\u001b[A\n",
      " 55%|██████████████████████████████████████████▋                                  | 3973/7163 [00:29<00:21, 148.15it/s]\u001b[A\n",
      " 56%|██████████████████████████████████████████▉                                  | 3989/7163 [00:29<00:21, 150.66it/s]\u001b[A\n",
      " 56%|███████████████████████████████████████████                                  | 4005/7163 [00:29<00:20, 152.46it/s]\u001b[A\n",
      " 56%|███████████████████████████████████████████▏                                 | 4021/7163 [00:29<00:20, 150.03it/s]\u001b[A\n",
      " 56%|███████████████████████████████████████████▍                                 | 4037/7163 [00:29<00:20, 151.27it/s]\u001b[A\n",
      " 57%|███████████████████████████████████████████▌                                 | 4053/7163 [00:29<00:20, 153.06it/s]\u001b[A\n",
      " 57%|███████████████████████████████████████████▋                                 | 4069/7163 [00:29<00:20, 154.63it/s]\u001b[A\n",
      " 57%|███████████████████████████████████████████▉                                 | 4085/7163 [00:29<00:20, 153.11it/s]\u001b[A\n",
      " 57%|████████████████████████████████████████████                                 | 4102/7163 [00:30<00:19, 155.75it/s]\u001b[A\n",
      " 57%|████████████████████████████████████████████▎                                | 4118/7163 [00:30<00:19, 154.96it/s]\u001b[A\n",
      " 58%|████████████████████████████████████████████▍                                | 4134/7163 [00:30<00:19, 154.63it/s]\u001b[A\n",
      " 58%|████████████████████████████████████████████▌                                | 4150/7163 [00:30<00:19, 155.29it/s]\u001b[A\n",
      " 58%|████████████████████████████████████████████▊                                | 4166/7163 [00:30<00:19, 155.28it/s]\u001b[A\n",
      " 58%|████████████████████████████████████████████▉                                | 4182/7163 [00:30<00:19, 152.83it/s]\u001b[A\n",
      " 59%|█████████████████████████████████████████████▏                               | 4198/7163 [00:30<00:19, 152.86it/s]\u001b[A\n",
      " 59%|█████████████████████████████████████████████▎                               | 4214/7163 [00:30<00:19, 150.15it/s]\u001b[A\n",
      " 59%|█████████████████████████████████████████████▍                               | 4230/7163 [00:30<00:19, 148.30it/s]\u001b[A\n",
      " 59%|█████████████████████████████████████████████▋                               | 4247/7163 [00:31<00:19, 153.08it/s]\u001b[A\n",
      " 60%|█████████████████████████████████████████████▊                               | 4263/7163 [00:31<00:19, 152.36it/s]\u001b[A\n",
      " 60%|█████████████████████████████████████████████▉                               | 4279/7163 [00:31<00:19, 148.99it/s]\u001b[A\n",
      " 60%|██████████████████████████████████████████████▏                              | 4295/7163 [00:31<00:19, 150.83it/s]\u001b[A\n",
      " 60%|██████████████████████████████████████████████▎                              | 4311/7163 [00:31<00:18, 153.44it/s]\u001b[A\n",
      " 60%|██████████████████████████████████████████████▌                              | 4328/7163 [00:31<00:18, 157.30it/s]\u001b[A\n",
      " 61%|██████████████████████████████████████████████▋                              | 4345/7163 [00:31<00:17, 159.51it/s]\u001b[A\n",
      " 61%|██████████████████████████████████████████████▉                              | 4361/7163 [00:31<00:17, 157.54it/s]\u001b[A\n",
      " 61%|███████████████████████████████████████████████                              | 4377/7163 [00:31<00:17, 156.90it/s]\u001b[A\n",
      " 61%|███████████████████████████████████████████████▏                             | 4394/7163 [00:31<00:17, 159.95it/s]\u001b[A\n",
      " 62%|███████████████████████████████████████████████▍                             | 4411/7163 [00:32<00:17, 157.81it/s]\u001b[A\n",
      " 62%|███████████████████████████████████████████████▌                             | 4427/7163 [00:32<00:17, 154.51it/s]\u001b[A\n",
      " 62%|███████████████████████████████████████████████▊                             | 4443/7163 [00:32<00:18, 148.42it/s]\u001b[A\n",
      " 62%|███████████████████████████████████████████████▉                             | 4458/7163 [00:32<00:18, 145.20it/s]\u001b[A\n",
      " 62%|████████████████████████████████████████████████                             | 4474/7163 [00:32<00:18, 148.11it/s]\u001b[A\n",
      " 63%|████████████████████████████████████████████████▎                            | 4491/7163 [00:32<00:17, 152.32it/s]\u001b[A\n",
      " 63%|████████████████████████████████████████████████▍                            | 4507/7163 [00:32<00:17, 154.09it/s]\u001b[A\n",
      " 63%|████████████████████████████████████████████████▌                            | 4523/7163 [00:32<00:16, 155.79it/s]\u001b[A\n",
      " 63%|████████████████████████████████████████████████▊                            | 4539/7163 [00:32<00:17, 153.43it/s]\u001b[A\n",
      " 64%|████████████████████████████████████████████████▉                            | 4556/7163 [00:33<00:16, 155.80it/s]\u001b[A\n",
      " 64%|█████████████████████████████████████████████████▏                           | 4573/7163 [00:33<00:16, 158.81it/s]\u001b[A\n",
      " 64%|█████████████████████████████████████████████████▎                           | 4589/7163 [00:33<00:16, 156.42it/s]\u001b[A\n",
      " 64%|█████████████████████████████████████████████████▌                           | 4605/7163 [00:33<00:16, 153.03it/s]\u001b[A\n",
      " 65%|█████████████████████████████████████████████████▋                           | 4621/7163 [00:33<00:17, 149.45it/s]\u001b[A\n",
      " 65%|█████████████████████████████████████████████████▊                           | 4637/7163 [00:33<00:16, 151.55it/s]\u001b[A\n",
      " 65%|██████████████████████████████████████████████████                           | 4654/7163 [00:33<00:16, 155.22it/s]\u001b[A\n",
      " 65%|██████████████████████████████████████████████████▏                          | 4671/7163 [00:33<00:15, 158.75it/s]\u001b[A\n",
      " 65%|██████████████████████████████████████████████████▍                          | 4688/7163 [00:33<00:15, 160.64it/s]\u001b[A\n",
      " 66%|██████████████████████████████████████████████████▌                          | 4705/7163 [00:34<00:15, 162.65it/s]\u001b[A\n",
      " 66%|██████████████████████████████████████████████████▊                          | 4722/7163 [00:34<00:14, 163.05it/s]\u001b[A\n",
      " 66%|██████████████████████████████████████████████████▉                          | 4739/7163 [00:34<00:14, 162.47it/s]\u001b[A\n",
      " 66%|███████████████████████████████████████████████████▏                         | 4756/7163 [00:34<00:15, 159.74it/s]\u001b[A\n",
      " 67%|███████████████████████████████████████████████████▎                         | 4772/7163 [00:34<00:15, 159.36it/s]\u001b[A\n",
      " 67%|███████████████████████████████████████████████████▍                         | 4788/7163 [00:34<00:15, 158.16it/s]\u001b[A\n",
      " 67%|███████████████████████████████████████████████████▋                         | 4804/7163 [00:34<00:14, 157.95it/s]\u001b[A\n",
      " 67%|███████████████████████████████████████████████████▊                         | 4820/7163 [00:34<00:14, 157.08it/s]\u001b[A\n",
      " 68%|████████████████████████████████████████████████████                         | 4838/7163 [00:34<00:14, 162.38it/s]\u001b[A\n",
      " 68%|████████████████████████████████████████████████████▏                        | 4855/7163 [00:34<00:14, 157.17it/s]\u001b[A\n",
      " 68%|████████████████████████████████████████████████████▎                        | 4872/7163 [00:35<00:14, 160.82it/s]\u001b[A\n",
      " 68%|████████████████████████████████████████████████████▌                        | 4889/7163 [00:35<00:14, 158.82it/s]\u001b[A\n",
      " 68%|████████████████████████████████████████████████████▋                        | 4905/7163 [00:35<00:14, 155.33it/s]\u001b[A\n",
      " 69%|████████████████████████████████████████████████████▉                        | 4921/7163 [00:35<00:14, 153.16it/s]\u001b[A\n",
      " 69%|█████████████████████████████████████████████████████                        | 4937/7163 [00:35<00:14, 149.52it/s]\u001b[A\n",
      " 69%|█████████████████████████████████████████████████████▎                       | 4954/7163 [00:35<00:14, 155.04it/s]\u001b[A\n",
      " 69%|█████████████████████████████████████████████████████▍                       | 4971/7163 [00:35<00:13, 157.21it/s]\u001b[A\n",
      " 70%|█████████████████████████████████████████████████████▌                       | 4987/7163 [00:35<00:13, 156.39it/s]\u001b[A\n",
      " 70%|█████████████████████████████████████████████████████▊                       | 5004/7163 [00:35<00:13, 158.96it/s]\u001b[A\n",
      " 70%|█████████████████████████████████████████████████████▉                       | 5020/7163 [00:36<00:13, 157.63it/s]\u001b[A\n"
     ]
    },
    {
     "name": "stderr",
     "output_type": "stream",
     "text": [
      " 70%|██████████████████████████████████████████████████████▏                      | 5037/7163 [00:36<00:13, 160.25it/s]\u001b[A\n",
      " 71%|██████████████████████████████████████████████████████▎                      | 5054/7163 [00:36<00:13, 160.76it/s]\u001b[A\n",
      " 71%|██████████████████████████████████████████████████████▌                      | 5071/7163 [00:36<00:13, 159.28it/s]\u001b[A\n",
      " 71%|██████████████████████████████████████████████████████▋                      | 5087/7163 [00:36<00:13, 159.03it/s]\u001b[A\n",
      " 71%|██████████████████████████████████████████████████████▊                      | 5104/7163 [00:36<00:12, 159.88it/s]\u001b[A\n",
      " 71%|███████████████████████████████████████████████████████                      | 5120/7163 [00:36<00:12, 158.72it/s]\u001b[A\n",
      " 72%|███████████████████████████████████████████████████████▏                     | 5137/7163 [00:36<00:12, 159.80it/s]\u001b[A\n",
      " 72%|███████████████████████████████████████████████████████▍                     | 5154/7163 [00:36<00:12, 162.77it/s]\u001b[A\n",
      " 72%|███████████████████████████████████████████████████████▌                     | 5171/7163 [00:36<00:12, 164.18it/s]\u001b[A\n",
      " 72%|███████████████████████████████████████████████████████▊                     | 5188/7163 [00:37<00:12, 156.20it/s]\u001b[A\n",
      " 73%|███████████████████████████████████████████████████████▉                     | 5204/7163 [00:37<00:12, 157.03it/s]\u001b[A\n",
      " 73%|████████████████████████████████████████████████████████                     | 5221/7163 [00:37<00:12, 159.73it/s]\u001b[A\n",
      " 73%|████████████████████████████████████████████████████████▎                    | 5238/7163 [00:37<00:11, 162.24it/s]\u001b[A\n",
      " 73%|████████████████████████████████████████████████████████▍                    | 5255/7163 [00:37<00:11, 160.29it/s]\u001b[A\n",
      " 74%|████████████████████████████████████████████████████████▋                    | 5272/7163 [00:37<00:12, 155.19it/s]\u001b[A\n",
      " 74%|████████████████████████████████████████████████████████▊                    | 5288/7163 [00:37<00:12, 151.58it/s]\u001b[A\n",
      " 74%|█████████████████████████████████████████████████████████                    | 5304/7163 [00:37<00:12, 144.30it/s]\u001b[A\n",
      " 74%|█████████████████████████████████████████████████████████▏                   | 5319/7163 [00:37<00:14, 131.16it/s]\u001b[A\n",
      " 74%|█████████████████████████████████████████████████████████▎                   | 5333/7163 [00:38<00:15, 114.56it/s]\u001b[A\n",
      " 75%|█████████████████████████████████████████████████████████▍                   | 5345/7163 [00:38<00:17, 104.36it/s]\u001b[A\n",
      " 75%|██████████████████████████████████████████████████████████▎                   | 5356/7163 [00:38<00:18, 98.46it/s]\u001b[A\n",
      " 75%|██████████████████████████████████████████████████████████▍                   | 5367/7163 [00:38<00:19, 94.01it/s]\u001b[A\n",
      " 75%|██████████████████████████████████████████████████████████▌                   | 5378/7163 [00:38<00:18, 96.81it/s]\u001b[A\n",
      " 75%|█████████████████████████████████████████████████████████▉                   | 5393/7163 [00:38<00:16, 109.24it/s]\u001b[A\n",
      " 75%|██████████████████████████████████████████████████████████                   | 5405/7163 [00:38<00:15, 110.62it/s]\u001b[A\n",
      " 76%|██████████████████████████████████████████████████████████▏                  | 5417/7163 [00:38<00:15, 112.37it/s]\u001b[A\n",
      " 76%|██████████████████████████████████████████████████████████▎                  | 5430/7163 [00:39<00:14, 116.00it/s]\u001b[A\n",
      " 76%|██████████████████████████████████████████████████████████▌                  | 5445/7163 [00:39<00:13, 125.25it/s]\u001b[A\n",
      " 76%|██████████████████████████████████████████████████████████▋                  | 5459/7163 [00:39<00:13, 127.00it/s]\u001b[A\n",
      " 76%|██████████████████████████████████████████████████████████▊                  | 5472/7163 [00:39<00:13, 124.65it/s]\u001b[A\n",
      " 77%|██████████████████████████████████████████████████████████▉                  | 5485/7163 [00:39<00:13, 125.46it/s]\u001b[A\n",
      " 77%|███████████████████████████████████████████████████████████                  | 5499/7163 [00:39<00:13, 127.91it/s]\u001b[A\n",
      " 77%|███████████████████████████████████████████████████████████▎                 | 5513/7163 [00:39<00:12, 131.32it/s]\u001b[A\n",
      " 77%|███████████████████████████████████████████████████████████▍                 | 5527/7163 [00:39<00:12, 126.60it/s]\u001b[A\n",
      " 77%|███████████████████████████████████████████████████████████▌                 | 5542/7163 [00:39<00:12, 131.36it/s]\u001b[A\n",
      " 78%|███████████████████████████████████████████████████████████▋                 | 5558/7163 [00:40<00:11, 138.33it/s]\u001b[A\n",
      " 78%|███████████████████████████████████████████████████████████▉                 | 5574/7163 [00:40<00:11, 142.88it/s]\u001b[A\n",
      " 78%|████████████████████████████████████████████████████████████                 | 5589/7163 [00:40<00:12, 129.93it/s]\u001b[A\n",
      " 78%|████████████████████████████████████████████████████████████▏                | 5603/7163 [00:40<00:13, 116.87it/s]\u001b[A\n",
      " 78%|████████████████████████████████████████████████████████████▎                | 5616/7163 [00:40<00:14, 106.40it/s]\u001b[A\n",
      " 79%|█████████████████████████████████████████████████████████████▎                | 5628/7163 [00:40<00:15, 99.04it/s]\u001b[A\n",
      " 79%|█████████████████████████████████████████████████████████████▍                | 5639/7163 [00:40<00:15, 97.02it/s]\u001b[A\n",
      " 79%|████████████████████████████████████████████████████████████▊                | 5653/7163 [00:40<00:14, 107.57it/s]\u001b[A\n",
      " 79%|████████████████████████████████████████████████████████████▉                | 5665/7163 [00:41<00:13, 110.51it/s]\u001b[A\n",
      " 79%|█████████████████████████████████████████████████████████████                | 5677/7163 [00:41<00:14, 103.77it/s]\u001b[A\n",
      " 79%|█████████████████████████████████████████████████████████████▉                | 5688/7163 [00:41<00:15, 95.17it/s]\u001b[A\n",
      " 80%|██████████████████████████████████████████████████████████████                | 5698/7163 [00:41<00:15, 93.44it/s]\u001b[A\n",
      " 80%|█████████████████████████████████████████████████████████████▍               | 5715/7163 [00:41<00:12, 111.53it/s]\u001b[A\n",
      " 80%|█████████████████████████████████████████████████████████████▌               | 5728/7163 [00:41<00:12, 115.30it/s]\u001b[A\n",
      " 80%|█████████████████████████████████████████████████████████████▋               | 5744/7163 [00:41<00:11, 126.27it/s]\u001b[A\n",
      " 80%|█████████████████████████████████████████████████████████████▉               | 5757/7163 [00:41<00:11, 124.34it/s]\u001b[A\n",
      " 81%|██████████████████████████████████████████████████████████████               | 5770/7163 [00:41<00:11, 124.86it/s]\u001b[A\n",
      " 81%|██████████████████████████████████████████████████████████████▏              | 5783/7163 [00:42<00:11, 123.17it/s]\u001b[A\n",
      " 81%|██████████████████████████████████████████████████████████████▎              | 5796/7163 [00:42<00:11, 119.54it/s]\u001b[A\n",
      " 81%|██████████████████████████████████████████████████████████████▍              | 5809/7163 [00:42<00:12, 112.29it/s]\u001b[A\n",
      " 81%|██████████████████████████████████████████████████████████████▌              | 5821/7163 [00:42<00:11, 114.04it/s]\u001b[A\n",
      " 81%|██████████████████████████████████████████████████████████████▋              | 5837/7163 [00:42<00:10, 125.17it/s]\u001b[A\n",
      " 82%|██████████████████████████████████████████████████████████████▉              | 5851/7163 [00:42<00:10, 128.16it/s]\u001b[A\n",
      " 82%|███████████████████████████████████████████████████████████████              | 5865/7163 [00:42<00:09, 130.68it/s]\u001b[A\n",
      " 82%|███████████████████████████████████████████████████████████████▏             | 5880/7163 [00:42<00:09, 134.68it/s]\u001b[A\n",
      " 82%|███████████████████████████████████████████████████████████████▎             | 5895/7163 [00:42<00:09, 138.65it/s]\u001b[A\n",
      " 83%|███████████████████████████████████████████████████████████████▌             | 5910/7163 [00:43<00:08, 139.52it/s]\u001b[A\n",
      " 83%|███████████████████████████████████████████████████████████████▋             | 5926/7163 [00:43<00:08, 144.88it/s]\u001b[A\n",
      " 83%|███████████████████████████████████████████████████████████████▊             | 5941/7163 [00:43<00:08, 142.22it/s]\u001b[A\n",
      " 83%|████████████████████████████████████████████████████████████████             | 5956/7163 [00:43<00:08, 143.16it/s]\u001b[A\n",
      " 83%|████████████████████████████████████████████████████████████████▏            | 5971/7163 [00:43<00:08, 145.08it/s]\u001b[A\n"
     ]
    },
    {
     "name": "stderr",
     "output_type": "stream",
     "text": [
      " 84%|████████████████████████████████████████████████████████████████▎            | 5986/7163 [00:43<00:08, 146.52it/s]\u001b[A\n",
      " 84%|████████████████████████████████████████████████████████████████▌            | 6002/7163 [00:43<00:07, 148.52it/s]\u001b[A\n",
      " 84%|████████████████████████████████████████████████████████████████▋            | 6017/7163 [00:43<00:07, 147.54it/s]\u001b[A\n",
      " 84%|████████████████████████████████████████████████████████████████▊            | 6032/7163 [00:43<00:07, 144.86it/s]\u001b[A\n",
      " 84%|█████████████████████████████████████████████████████████████████            | 6047/7163 [00:43<00:08, 134.61it/s]\u001b[A\n",
      " 85%|█████████████████████████████████████████████████████████████████▏           | 6062/7163 [00:44<00:08, 137.16it/s]\u001b[A\n",
      " 85%|█████████████████████████████████████████████████████████████████▎           | 6078/7163 [00:44<00:07, 142.37it/s]\u001b[A\n",
      " 85%|█████████████████████████████████████████████████████████████████▍           | 6093/7163 [00:44<00:08, 130.24it/s]\u001b[A\n",
      " 85%|█████████████████████████████████████████████████████████████████▋           | 6107/7163 [00:44<00:08, 128.38it/s]\u001b[A\n",
      " 85%|█████████████████████████████████████████████████████████████████▊           | 6121/7163 [00:44<00:08, 128.73it/s]\u001b[A\n",
      " 86%|█████████████████████████████████████████████████████████████████▉           | 6135/7163 [00:44<00:07, 130.51it/s]\u001b[A\n",
      " 86%|██████████████████████████████████████████████████████████████████           | 6150/7163 [00:44<00:07, 135.95it/s]\u001b[A\n",
      " 86%|██████████████████████████████████████████████████████████████████▎          | 6164/7163 [00:44<00:07, 135.18it/s]\u001b[A\n",
      " 86%|██████████████████████████████████████████████████████████████████▍          | 6180/7163 [00:44<00:07, 140.04it/s]\u001b[A\n",
      " 86%|██████████████████████████████████████████████████████████████████▌          | 6195/7163 [00:45<00:06, 141.86it/s]\u001b[A\n",
      " 87%|██████████████████████████████████████████████████████████████████▊          | 6210/7163 [00:45<00:07, 134.12it/s]\u001b[A\n",
      " 87%|██████████████████████████████████████████████████████████████████▉          | 6224/7163 [00:45<00:07, 127.88it/s]\u001b[A\n",
      " 87%|███████████████████████████████████████████████████████████████████          | 6237/7163 [00:45<00:07, 125.72it/s]\u001b[A\n",
      " 87%|███████████████████████████████████████████████████████████████████▏         | 6250/7163 [00:45<00:07, 125.85it/s]\u001b[A\n",
      " 87%|███████████████████████████████████████████████████████████████████▎         | 6264/7163 [00:45<00:07, 128.15it/s]\u001b[A\n",
      " 88%|███████████████████████████████████████████████████████████████████▍         | 6278/7163 [00:45<00:06, 131.39it/s]\u001b[A\n",
      " 88%|███████████████████████████████████████████████████████████████████▋         | 6292/7163 [00:45<00:07, 124.30it/s]\u001b[A\n",
      " 88%|███████████████████████████████████████████████████████████████████▊         | 6307/7163 [00:45<00:06, 128.71it/s]\u001b[A\n",
      " 88%|███████████████████████████████████████████████████████████████████▉         | 6320/7163 [00:46<00:06, 127.56it/s]\u001b[A\n",
      " 88%|████████████████████████████████████████████████████████████████████         | 6335/7163 [00:46<00:06, 131.87it/s]\u001b[A\n",
      " 89%|████████████████████████████████████████████████████████████████████▎        | 6351/7163 [00:46<00:05, 137.67it/s]\u001b[A\n",
      " 89%|████████████████████████████████████████████████████████████████████▍        | 6365/7163 [00:46<00:05, 137.80it/s]\u001b[A\n",
      " 89%|████████████████████████████████████████████████████████████████████▌        | 6382/7163 [00:46<00:05, 144.60it/s]\u001b[A\n",
      " 89%|████████████████████████████████████████████████████████████████████▊        | 6397/7163 [00:46<00:05, 145.28it/s]\u001b[A\n",
      " 90%|████████████████████████████████████████████████████████████████████▉        | 6413/7163 [00:46<00:05, 147.75it/s]\u001b[A\n",
      " 90%|█████████████████████████████████████████████████████████████████████        | 6429/7163 [00:46<00:04, 150.44it/s]\u001b[A\n",
      " 90%|█████████████████████████████████████████████████████████████████████▎       | 6445/7163 [00:46<00:04, 150.54it/s]\u001b[A\n",
      " 90%|█████████████████████████████████████████████████████████████████████▍       | 6461/7163 [00:47<00:04, 149.00it/s]\u001b[A\n",
      " 90%|█████████████████████████████████████████████████████████████████████▌       | 6476/7163 [00:47<00:04, 148.41it/s]\u001b[A\n",
      " 91%|█████████████████████████████████████████████████████████████████████▊       | 6491/7163 [00:47<00:04, 147.59it/s]\u001b[A\n",
      " 91%|█████████████████████████████████████████████████████████████████████▉       | 6507/7163 [00:47<00:04, 150.08it/s]\u001b[A\n",
      " 91%|██████████████████████████████████████████████████████████████████████       | 6523/7163 [00:47<00:04, 152.11it/s]\u001b[A\n",
      " 91%|██████████████████████████████████████████████████████████████████████▎      | 6539/7163 [00:47<00:04, 153.52it/s]\u001b[A\n",
      " 92%|██████████████████████████████████████████████████████████████████████▍      | 6555/7163 [00:47<00:03, 153.79it/s]\u001b[A\n",
      " 92%|██████████████████████████████████████████████████████████████████████▋      | 6571/7163 [00:47<00:03, 150.82it/s]\u001b[A\n",
      " 92%|██████████████████████████████████████████████████████████████████████▊      | 6587/7163 [00:47<00:03, 152.69it/s]\u001b[A\n",
      " 92%|██████████████████████████████████████████████████████████████████████▉      | 6604/7163 [00:47<00:03, 155.67it/s]\u001b[A\n",
      " 92%|███████████████████████████████████████████████████████████████████████▏     | 6620/7163 [00:48<00:03, 152.92it/s]\u001b[A\n",
      " 93%|███████████████████████████████████████████████████████████████████████▎     | 6636/7163 [00:48<00:03, 150.21it/s]\u001b[A\n",
      " 93%|███████████████████████████████████████████████████████████████████████▌     | 6652/7163 [00:48<00:03, 151.70it/s]\u001b[A\n",
      " 93%|███████████████████████████████████████████████████████████████████████▋     | 6668/7163 [00:48<00:03, 151.44it/s]\u001b[A\n",
      " 93%|███████████████████████████████████████████████████████████████████████▊     | 6684/7163 [00:48<00:03, 148.77it/s]\u001b[A\n",
      " 94%|████████████████████████████████████████████████████████████████████████     | 6701/7163 [00:48<00:03, 153.05it/s]\u001b[A\n",
      " 94%|████████████████████████████████████████████████████████████████████████▏    | 6717/7163 [00:48<00:02, 153.75it/s]\u001b[A\n",
      " 94%|████████████████████████████████████████████████████████████████████████▍    | 6733/7163 [00:48<00:02, 153.34it/s]\u001b[A\n",
      " 94%|████████████████████████████████████████████████████████████████████████▌    | 6749/7163 [00:48<00:02, 150.48it/s]\u001b[A\n",
      " 94%|████████████████████████████████████████████████████████████████████████▋    | 6765/7163 [00:49<00:02, 148.10it/s]\u001b[A\n",
      " 95%|████████████████████████████████████████████████████████████████████████▉    | 6781/7163 [00:49<00:02, 151.23it/s]\u001b[A\n",
      " 95%|█████████████████████████████████████████████████████████████████████████    | 6797/7163 [00:49<00:02, 153.75it/s]\u001b[A\n",
      " 95%|█████████████████████████████████████████████████████████████████████████▏   | 6813/7163 [00:49<00:02, 150.32it/s]\u001b[A\n",
      " 95%|█████████████████████████████████████████████████████████████████████████▍   | 6829/7163 [00:49<00:02, 150.09it/s]\u001b[A\n",
      " 96%|█████████████████████████████████████████████████████████████████████████▌   | 6845/7163 [00:49<00:02, 148.25it/s]\u001b[A\n",
      " 96%|█████████████████████████████████████████████████████████████████████████▋   | 6860/7163 [00:49<00:02, 148.71it/s]\u001b[A\n",
      " 96%|█████████████████████████████████████████████████████████████████████████▉   | 6876/7163 [00:49<00:01, 149.57it/s]\u001b[A\n",
      " 96%|██████████████████████████████████████████████████████████████████████████   | 6891/7163 [00:49<00:01, 145.90it/s]\u001b[A\n",
      " 96%|██████████████████████████████████████████████████████████████████████████▏  | 6907/7163 [00:49<00:01, 148.67it/s]\u001b[A\n",
      " 97%|██████████████████████████████████████████████████████████████████████████▍  | 6923/7163 [00:50<00:01, 150.20it/s]\u001b[A\n",
      " 97%|██████████████████████████████████████████████████████████████████████████▌  | 6939/7163 [00:50<00:01, 147.59it/s]\u001b[A\n",
      " 97%|██████████████████████████████████████████████████████████████████████████▊  | 6954/7163 [00:50<00:01, 146.21it/s]\u001b[A\n",
      " 97%|██████████████████████████████████████████████████████████████████████████▉  | 6969/7163 [00:50<00:01, 137.06it/s]\u001b[A\n",
      " 97%|███████████████████████████████████████████████████████████████████████████  | 6983/7163 [00:50<00:01, 134.90it/s]\u001b[A\n"
     ]
    },
    {
     "name": "stderr",
     "output_type": "stream",
     "text": [
      " 98%|███████████████████████████████████████████████████████████████████████████▏ | 6998/7163 [00:50<00:01, 138.57it/s]\u001b[A\n",
      " 98%|███████████████████████████████████████████████████████████████████████████▍ | 7013/7163 [00:50<00:01, 140.54it/s]\u001b[A\n",
      " 98%|███████████████████████████████████████████████████████████████████████████▌ | 7029/7163 [00:50<00:00, 144.46it/s]\u001b[A\n",
      " 98%|███████████████████████████████████████████████████████████████████████████▋ | 7044/7163 [00:50<00:00, 143.98it/s]\u001b[A\n",
      " 99%|███████████████████████████████████████████████████████████████████████████▉ | 7060/7163 [00:51<00:00, 147.75it/s]\u001b[A\n",
      " 99%|████████████████████████████████████████████████████████████████████████████ | 7076/7163 [00:51<00:00, 150.37it/s]\u001b[A\n",
      " 99%|████████████████████████████████████████████████████████████████████████████▏| 7092/7163 [00:51<00:00, 150.10it/s]\u001b[A\n",
      " 99%|████████████████████████████████████████████████████████████████████████████▍| 7108/7163 [00:51<00:00, 150.78it/s]\u001b[A\n",
      " 99%|████████████████████████████████████████████████████████████████████████████▌| 7124/7163 [00:51<00:00, 146.86it/s]\u001b[A\n",
      "100%|████████████████████████████████████████████████████████████████████████████▋| 7139/7163 [00:51<00:00, 146.91it/s]\u001b[A\n",
      "100%|█████████████████████████████████████████████████████████████████████████████| 7163/7163 [00:51<00:00, 138.47it/s]\u001b[A\n"
     ]
    }
   ],
   "source": [
    "# ### Evaluate the val set\n",
    "\n",
    "# Infer results over validation set\n",
    "num_val_examples = len(val_dataset)\n",
    "y_raw_preds = np.empty((num_val_examples, num_classes))\n",
    "y_preds = np.zeros((num_val_examples,))\n",
    "y_true = np.zeros((num_val_examples,))\n",
    "\n",
    "for i in tqdm(range(0, num_val_examples)):\n",
    "    # Retrieve data\n",
    "    idx = i  # Use index if evaluating over full dataset\n",
    "    data, label = val_dataset[idx]\n",
    "    # Infer\n",
    "    data = torch.from_numpy(np.expand_dims(data, 0)).float().to(device)\n",
    "    pred_tmp = test_model.predict(data)\n",
    "    pred_tmp = pred_tmp.cpu().numpy() if torch.cuda.is_available() else pred_tmp\n",
    "    # Argmax\n",
    "    y_preds[i] = np.argmax(pred_tmp)\n",
    "    # Store label\n",
    "    y_true[i] = label"
   ]
  },
  {
   "cell_type": "code",
   "execution_count": 33,
   "id": "ab41eff4",
   "metadata": {},
   "outputs": [
    {
     "name": "stdout",
     "output_type": "stream",
     "text": [
      "Val set classification report:\n",
      "              precision    recall  f1-score   support\n",
      "\n",
      "         0.0       0.99      1.00      0.99      2323\n",
      "         1.0       1.00      0.99      1.00      2407\n",
      "         2.0       1.00      1.00      1.00      2433\n",
      "\n",
      "    accuracy                           1.00      7163\n",
      "   macro avg       1.00      1.00      1.00      7163\n",
      "weighted avg       1.00      1.00      1.00      7163\n",
      "\n"
     ]
    },
    {
     "data": {
      "image/png": "[encoded data removed]",
      "text/plain": [
       "<Figure size 1600x900 with 2 Axes>"
      ]
     },
     "metadata": {},
     "output_type": "display_data"
    }
   ],
   "source": [
    "acc = np.sum(np.asarray(y_preds) == np.asarray(y_true)) / len(y_true)\n",
    "plot_confusion_matrix(\n",
    "    y_true,\n",
    "    y_preds,\n",
    "    classes = class_list,\n",
    "    normalize = True,\n",
    "    title=\"Validation Set Modulations Confusion Matrix\\nTotal Accuracy: {:.2f}%\".format(\n",
    "        acc * 100\n",
    "    ),\n",
    "    text=False,\n",
    "    rotate_x_text=90,\n",
    "    figsize=(16, 9),\n",
    ")\n",
    "plt.savefig(f\"{checkpoint_dir}/val_result.png\")\n",
    "\n",
    "print(\"Val set classification report:\")\n",
    "print(classification_report(y_true, y_preds))"
   ]
  },
  {
   "cell_type": "code",
   "execution_count": 34,
   "id": "4d668985",
   "metadata": {},
   "outputs": [
    {
     "name": "stderr",
     "output_type": "stream",
     "text": [
      "\n",
      "  0%|                                                                                         | 0/7163 [00:00<?, ?it/s]\u001b[A\n",
      "  0%|                                                                                 | 3/7163 [00:00<04:23, 27.21it/s]\u001b[A\n",
      "  0%|                                                                                 | 6/7163 [00:00<04:18, 27.70it/s]\u001b[A\n",
      "  0%|▏                                                                               | 15/7163 [00:00<02:12, 53.75it/s]\u001b[A\n",
      "  0%|▎                                                                               | 24/7163 [00:00<01:46, 66.99it/s]\u001b[A\n",
      "  1%|▍                                                                               | 36/7163 [00:00<01:23, 85.30it/s]\u001b[A\n",
      "  1%|▌                                                                              | 50/7163 [00:00<01:09, 102.42it/s]\u001b[A\n",
      "  1%|▋                                                                              | 65/7163 [00:00<01:00, 116.51it/s]\u001b[A\n",
      "  1%|▊                                                                              | 78/7163 [00:00<01:00, 117.07it/s]\u001b[A\n",
      "  1%|▉                                                                              | 90/7163 [00:01<01:10, 100.66it/s]\u001b[A\n",
      "  1%|█                                                                              | 101/7163 [00:01<01:14, 94.27it/s]\u001b[A\n",
      "  2%|█▏                                                                             | 111/7163 [00:01<01:24, 83.04it/s]\u001b[A\n",
      "  2%|█▎                                                                             | 120/7163 [00:01<01:30, 77.73it/s]\u001b[A\n",
      "  2%|█▍                                                                             | 129/7163 [00:01<01:29, 78.85it/s]\u001b[A\n",
      "  2%|█▌                                                                             | 138/7163 [00:01<01:30, 77.51it/s]\u001b[A\n",
      "  2%|█▌                                                                             | 146/7163 [00:01<01:34, 74.55it/s]\u001b[A\n",
      "  2%|█▋                                                                             | 157/7163 [00:01<01:24, 82.84it/s]\u001b[A\n",
      "  2%|█▊                                                                            | 172/7163 [00:01<01:09, 100.29it/s]\u001b[A\n",
      "  3%|██                                                                            | 186/7163 [00:02<01:02, 111.05it/s]\u001b[A\n",
      "  3%|██▏                                                                           | 198/7163 [00:02<01:01, 113.27it/s]\u001b[A\n",
      "  3%|██▎                                                                           | 210/7163 [00:02<01:02, 111.38it/s]\u001b[A\n",
      "  3%|██▍                                                                           | 222/7163 [00:02<01:02, 110.68it/s]\u001b[A\n",
      "  3%|██▌                                                                           | 235/7163 [00:02<00:59, 115.54it/s]\u001b[A\n",
      "  3%|██▋                                                                           | 249/7163 [00:02<00:56, 122.35it/s]\u001b[A\n",
      "  4%|██▊                                                                           | 262/7163 [00:02<00:55, 124.32it/s]\u001b[A\n",
      "  4%|███                                                                           | 276/7163 [00:02<00:53, 128.53it/s]\u001b[A\n",
      "  4%|███▏                                                                          | 290/7163 [00:02<00:52, 131.12it/s]\u001b[A\n",
      "  4%|███▎                                                                          | 304/7163 [00:03<00:52, 131.41it/s]\u001b[A\n",
      "  4%|███▍                                                                          | 319/7163 [00:03<00:50, 135.68it/s]\u001b[A\n",
      "  5%|███▋                                                                          | 334/7163 [00:03<00:49, 137.22it/s]\u001b[A\n",
      "  5%|███▊                                                                          | 348/7163 [00:03<00:49, 137.22it/s]\u001b[A\n",
      "  5%|███▉                                                                          | 362/7163 [00:03<00:50, 134.02it/s]\u001b[A\n",
      "  5%|████                                                                          | 376/7163 [00:03<00:50, 134.48it/s]\u001b[A\n",
      "  5%|████▏                                                                         | 390/7163 [00:03<00:51, 132.74it/s]\u001b[A\n",
      "  6%|████▍                                                                         | 404/7163 [00:03<00:51, 130.13it/s]\u001b[A\n",
      "  6%|████▌                                                                         | 418/7163 [00:03<00:53, 125.12it/s]\u001b[A\n",
      "  6%|████▋                                                                         | 431/7163 [00:03<00:54, 124.40it/s]\u001b[A\n",
      "  6%|████▊                                                                         | 444/7163 [00:04<00:53, 124.58it/s]\u001b[A\n",
      "  6%|████▉                                                                         | 457/7163 [00:04<00:53, 124.55it/s]\u001b[A\n",
      "  7%|█████                                                                         | 470/7163 [00:04<00:54, 122.10it/s]\u001b[A\n",
      "  7%|█████▎                                                                        | 483/7163 [00:04<00:56, 118.95it/s]\u001b[A\n",
      "  7%|█████▍                                                                        | 496/7163 [00:04<00:55, 120.60it/s]\u001b[A\n",
      "  7%|█████▌                                                                        | 510/7163 [00:04<00:53, 124.97it/s]\u001b[A\n",
      "  7%|█████▋                                                                        | 525/7163 [00:04<00:50, 132.09it/s]\u001b[A\n",
      "  8%|█████▊                                                                        | 539/7163 [00:04<00:49, 133.35it/s]\u001b[A\n",
      "  8%|██████                                                                        | 553/7163 [00:04<00:51, 128.89it/s]\u001b[A\n",
      "  8%|██████▏                                                                       | 566/7163 [00:05<00:56, 117.54it/s]\u001b[A\n",
      "  8%|██████▎                                                                       | 578/7163 [00:05<00:57, 113.68it/s]\u001b[A\n",
      "  8%|██████▍                                                                       | 590/7163 [00:05<00:59, 110.89it/s]\u001b[A\n",
      "  8%|██████▌                                                                       | 603/7163 [00:05<00:57, 114.82it/s]\u001b[A\n",
      "  9%|██████▋                                                                       | 616/7163 [00:05<00:55, 118.63it/s]\u001b[A\n",
      "  9%|██████▊                                                                       | 630/7163 [00:05<00:52, 124.25it/s]\u001b[A\n",
      "  9%|███████                                                                       | 643/7163 [00:05<00:54, 119.54it/s]\u001b[A\n",
      "  9%|███████▏                                                                      | 656/7163 [00:05<00:53, 121.79it/s]\u001b[A\n",
      "  9%|███████▎                                                                      | 670/7163 [00:05<00:51, 125.54it/s]\u001b[A\n",
      " 10%|███████▍                                                                      | 683/7163 [00:06<00:54, 119.29it/s]\u001b[A\n",
      " 10%|███████▌                                                                      | 696/7163 [00:06<00:53, 120.40it/s]\u001b[A\n",
      " 10%|███████▋                                                                      | 709/7163 [00:06<00:53, 119.55it/s]\u001b[A\n",
      " 10%|███████▊                                                                      | 722/7163 [00:06<00:53, 119.80it/s]\u001b[A\n",
      " 10%|████████                                                                      | 735/7163 [00:06<00:54, 118.13it/s]\u001b[A\n",
      " 10%|████████▏                                                                     | 748/7163 [00:06<00:53, 119.94it/s]\u001b[A\n",
      " 11%|████████▎                                                                     | 761/7163 [00:06<00:52, 121.06it/s]\u001b[A\n",
      " 11%|████████▍                                                                     | 774/7163 [00:06<00:53, 118.51it/s]\u001b[A\n",
      " 11%|████████▌                                                                     | 787/7163 [00:06<00:52, 120.39it/s]\u001b[A\n",
      " 11%|████████▋                                                                     | 800/7163 [00:07<00:52, 121.39it/s]\u001b[A\n",
      " 11%|████████▊                                                                     | 813/7163 [00:07<00:51, 122.97it/s]\u001b[A\n"
     ]
    },
    {
     "name": "stderr",
     "output_type": "stream",
     "text": [
      " 12%|████████▉                                                                     | 826/7163 [00:07<00:52, 121.15it/s]\u001b[A\n",
      " 12%|█████████▏                                                                    | 839/7163 [00:07<00:51, 122.09it/s]\u001b[A\n",
      " 12%|█████████▎                                                                    | 853/7163 [00:07<00:50, 125.56it/s]\u001b[A\n",
      " 12%|█████████▍                                                                    | 866/7163 [00:07<00:49, 126.48it/s]\u001b[A\n",
      " 12%|█████████▌                                                                    | 879/7163 [00:07<00:50, 125.22it/s]\u001b[A\n",
      " 12%|█████████▋                                                                    | 892/7163 [00:07<00:50, 124.93it/s]\u001b[A\n",
      " 13%|█████████▊                                                                    | 905/7163 [00:07<00:50, 123.88it/s]\u001b[A\n",
      " 13%|█████████▉                                                                    | 918/7163 [00:07<00:50, 124.50it/s]\u001b[A\n",
      " 13%|██████████▏                                                                   | 931/7163 [00:08<00:50, 123.23it/s]\u001b[A\n",
      " 13%|██████████▎                                                                   | 945/7163 [00:08<00:49, 126.10it/s]\u001b[A\n",
      " 13%|██████████▍                                                                   | 958/7163 [00:08<00:49, 126.50it/s]\u001b[A\n",
      " 14%|██████████▌                                                                   | 971/7163 [00:08<00:49, 126.04it/s]\u001b[A\n",
      " 14%|██████████▋                                                                   | 984/7163 [00:08<00:49, 123.96it/s]\u001b[A\n",
      " 14%|██████████▊                                                                   | 998/7163 [00:08<00:48, 126.54it/s]\u001b[A\n",
      " 14%|██████████▉                                                                  | 1012/7163 [00:08<00:47, 128.58it/s]\u001b[A\n",
      " 14%|███████████                                                                  | 1025/7163 [00:08<00:49, 122.95it/s]\u001b[A\n",
      " 15%|███████████▏                                                                 | 1039/7163 [00:08<00:48, 126.69it/s]\u001b[A\n",
      " 15%|███████████▎                                                                 | 1052/7163 [00:09<00:48, 126.55it/s]\u001b[A\n",
      " 15%|███████████▍                                                                 | 1066/7163 [00:09<00:47, 128.63it/s]\u001b[A\n",
      " 15%|███████████▌                                                                 | 1079/7163 [00:09<00:50, 119.35it/s]\u001b[A\n",
      " 15%|███████████▋                                                                 | 1092/7163 [00:09<00:52, 115.59it/s]\u001b[A\n",
      " 15%|███████████▊                                                                 | 1104/7163 [00:09<00:54, 111.63it/s]\u001b[A\n",
      " 16%|███████████▉                                                                 | 1116/7163 [00:09<00:58, 103.63it/s]\u001b[A\n",
      " 16%|████████████▎                                                                 | 1127/7163 [00:09<01:04, 93.89it/s]\u001b[A\n",
      " 16%|████████████▍                                                                 | 1137/7163 [00:09<01:08, 87.96it/s]\u001b[A\n",
      " 16%|████████████▍                                                                 | 1146/7163 [00:10<01:08, 88.03it/s]\u001b[A\n",
      " 16%|████████████▌                                                                 | 1155/7163 [00:10<01:08, 87.63it/s]\u001b[A\n",
      " 16%|████████████▋                                                                 | 1165/7163 [00:10<01:06, 90.01it/s]\u001b[A\n",
      " 16%|████████████▊                                                                 | 1178/7163 [00:10<01:00, 99.64it/s]\u001b[A\n",
      " 17%|████████████▊                                                                | 1190/7163 [00:10<00:57, 103.60it/s]\u001b[A\n",
      " 17%|████████████▉                                                                | 1202/7163 [00:10<00:55, 107.74it/s]\u001b[A\n",
      " 17%|█████████████                                                                | 1215/7163 [00:10<00:52, 112.91it/s]\u001b[A\n",
      " 17%|█████████████▏                                                               | 1227/7163 [00:10<00:53, 110.50it/s]\u001b[A\n",
      " 17%|█████████████▎                                                               | 1239/7163 [00:10<00:57, 102.98it/s]\u001b[A\n",
      " 17%|█████████████▌                                                                | 1250/7163 [00:11<01:11, 82.81it/s]\u001b[A\n",
      " 18%|█████████████▋                                                                | 1259/7163 [00:11<01:13, 80.08it/s]\u001b[A\n",
      " 18%|█████████████▊                                                                | 1268/7163 [00:11<01:11, 82.07it/s]\u001b[A\n",
      " 18%|█████████████▉                                                                | 1280/7163 [00:11<01:04, 90.79it/s]\u001b[A\n",
      " 18%|██████████████                                                                | 1292/7163 [00:11<01:00, 96.97it/s]\u001b[A\n",
      " 18%|██████████████                                                               | 1306/7163 [00:11<00:54, 107.41it/s]\u001b[A\n",
      " 18%|██████████████▏                                                              | 1320/7163 [00:11<00:50, 114.67it/s]\u001b[A\n",
      " 19%|██████████████▎                                                              | 1333/7163 [00:11<00:49, 118.60it/s]\u001b[A\n",
      " 19%|██████████████▍                                                              | 1348/7163 [00:11<00:46, 126.22it/s]\u001b[A\n",
      " 19%|██████████████▋                                                              | 1362/7163 [00:12<00:45, 128.48it/s]\u001b[A\n",
      " 19%|██████████████▊                                                              | 1375/7163 [00:12<00:48, 119.36it/s]\u001b[A\n",
      " 19%|██████████████▉                                                              | 1388/7163 [00:12<00:54, 105.09it/s]\u001b[A\n",
      " 20%|███████████████                                                              | 1399/7163 [00:12<00:56, 101.45it/s]\u001b[A\n",
      " 20%|███████████████▏                                                             | 1411/7163 [00:12<00:54, 104.95it/s]\u001b[A\n",
      " 20%|███████████████▎                                                             | 1424/7163 [00:12<00:52, 109.83it/s]\u001b[A\n",
      " 20%|███████████████▍                                                             | 1436/7163 [00:12<00:53, 106.51it/s]\u001b[A\n",
      " 20%|███████████████▌                                                             | 1449/7163 [00:12<00:51, 111.62it/s]\u001b[A\n",
      " 20%|███████████████▋                                                             | 1463/7163 [00:13<00:48, 117.80it/s]\u001b[A\n",
      " 21%|███████████████▊                                                             | 1476/7163 [00:13<00:47, 120.21it/s]\u001b[A\n",
      " 21%|████████████████                                                             | 1489/7163 [00:13<00:48, 116.71it/s]\u001b[A\n",
      " 21%|████████████████▏                                                            | 1501/7163 [00:13<00:48, 116.97it/s]\u001b[A\n",
      " 21%|████████████████▎                                                            | 1515/7163 [00:13<00:46, 122.45it/s]\u001b[A\n",
      " 21%|████████████████▍                                                            | 1529/7163 [00:13<00:44, 127.27it/s]\u001b[A\n",
      " 22%|████████████████▌                                                            | 1543/7163 [00:13<00:43, 129.18it/s]\u001b[A\n",
      " 22%|████████████████▋                                                            | 1557/7163 [00:13<00:43, 129.84it/s]\u001b[A\n",
      " 22%|████████████████▉                                                            | 1572/7163 [00:13<00:41, 134.49it/s]\u001b[A\n",
      " 22%|█████████████████                                                            | 1586/7163 [00:13<00:41, 135.67it/s]\u001b[A\n",
      " 22%|█████████████████▏                                                           | 1600/7163 [00:14<00:41, 135.63it/s]\u001b[A\n",
      " 23%|█████████████████▎                                                           | 1614/7163 [00:14<00:40, 135.89it/s]\u001b[A\n",
      " 23%|█████████████████▌                                                           | 1629/7163 [00:14<00:40, 138.18it/s]\u001b[A\n",
      " 23%|█████████████████▋                                                           | 1643/7163 [00:14<00:39, 138.71it/s]\u001b[A\n",
      " 23%|█████████████████▊                                                           | 1657/7163 [00:14<00:41, 133.96it/s]\u001b[A\n"
     ]
    },
    {
     "name": "stderr",
     "output_type": "stream",
     "text": [
      " 23%|█████████████████▉                                                           | 1671/7163 [00:14<00:42, 129.93it/s]\u001b[A\n",
      " 24%|██████████████████                                                           | 1685/7163 [00:14<00:44, 122.20it/s]\u001b[A\n",
      " 24%|██████████████████▎                                                          | 1698/7163 [00:14<00:44, 122.65it/s]\u001b[A\n",
      " 24%|██████████████████▍                                                          | 1713/7163 [00:14<00:42, 128.09it/s]\u001b[A\n",
      " 24%|██████████████████▌                                                          | 1726/7163 [00:15<00:42, 127.01it/s]\u001b[A\n",
      " 24%|██████████████████▋                                                          | 1739/7163 [00:15<00:42, 126.77it/s]\u001b[A\n",
      " 24%|██████████████████▊                                                          | 1753/7163 [00:15<00:41, 129.20it/s]\u001b[A\n",
      " 25%|██████████████████▉                                                          | 1766/7163 [00:15<00:41, 129.43it/s]\u001b[A\n",
      " 25%|███████████████████▏                                                         | 1781/7163 [00:15<00:40, 133.85it/s]\u001b[A\n",
      " 25%|███████████████████▎                                                         | 1796/7163 [00:15<00:38, 138.28it/s]\u001b[A\n",
      " 25%|███████████████████▍                                                         | 1810/7163 [00:15<00:39, 136.73it/s]\u001b[A\n",
      " 25%|███████████████████▌                                                         | 1825/7163 [00:15<00:38, 139.92it/s]\u001b[A\n",
      " 26%|███████████████████▊                                                         | 1840/7163 [00:15<00:37, 141.22it/s]\u001b[A\n",
      " 26%|███████████████████▉                                                         | 1855/7163 [00:15<00:38, 138.13it/s]\u001b[A\n",
      " 26%|████████████████████                                                         | 1869/7163 [00:16<00:38, 138.27it/s]\u001b[A\n",
      " 26%|████████████████████▏                                                        | 1883/7163 [00:16<00:38, 136.39it/s]\u001b[A\n",
      " 26%|████████████████████▍                                                        | 1897/7163 [00:16<00:39, 134.05it/s]\u001b[A\n",
      " 27%|████████████████████▌                                                        | 1911/7163 [00:16<00:39, 133.05it/s]\u001b[A\n",
      " 27%|████████████████████▋                                                        | 1927/7163 [00:16<00:37, 139.58it/s]\u001b[A\n",
      " 27%|████████████████████▉                                                        | 1942/7163 [00:16<00:36, 142.29it/s]\u001b[A\n",
      " 27%|█████████████████████                                                        | 1957/7163 [00:16<00:36, 143.05it/s]\u001b[A\n",
      " 28%|█████████████████████▏                                                       | 1972/7163 [00:16<00:35, 144.66it/s]\u001b[A\n",
      " 28%|█████████████████████▎                                                       | 1987/7163 [00:16<00:35, 145.80it/s]\u001b[A\n",
      " 28%|█████████████████████▌                                                       | 2002/7163 [00:17<00:36, 142.86it/s]\u001b[A\n",
      " 28%|█████████████████████▋                                                       | 2017/7163 [00:17<00:37, 138.68it/s]\u001b[A\n",
      " 28%|█████████████████████▊                                                       | 2032/7163 [00:17<00:36, 139.26it/s]\u001b[A\n",
      " 29%|██████████████████████                                                       | 2047/7163 [00:17<00:36, 141.92it/s]\u001b[A\n",
      " 29%|██████████████████████▏                                                      | 2063/7163 [00:17<00:34, 145.83it/s]\u001b[A\n",
      " 29%|██████████████████████▎                                                      | 2078/7163 [00:17<00:34, 146.19it/s]\u001b[A\n",
      " 29%|██████████████████████▍                                                      | 2093/7163 [00:17<00:36, 139.25it/s]\u001b[A\n",
      " 29%|██████████████████████▋                                                      | 2108/7163 [00:17<00:36, 140.08it/s]\u001b[A\n",
      " 30%|██████████████████████▊                                                      | 2123/7163 [00:17<00:36, 138.95it/s]\u001b[A\n",
      " 30%|██████████████████████▉                                                      | 2137/7163 [00:17<00:36, 138.85it/s]\u001b[A\n",
      " 30%|███████████████████████                                                      | 2151/7163 [00:18<00:36, 138.78it/s]\u001b[A\n",
      " 30%|███████████████████████▎                                                     | 2166/7163 [00:18<00:35, 140.01it/s]\u001b[A\n",
      " 30%|███████████████████████▍                                                     | 2181/7163 [00:18<00:35, 140.75it/s]\u001b[A\n",
      " 31%|███████████████████████▌                                                     | 2196/7163 [00:18<00:34, 142.35it/s]\u001b[A\n",
      " 31%|███████████████████████▊                                                     | 2211/7163 [00:18<00:34, 142.50it/s]\u001b[A\n",
      " 31%|███████████████████████▉                                                     | 2226/7163 [00:18<00:34, 144.39it/s]\u001b[A\n",
      " 31%|████████████████████████                                                     | 2241/7163 [00:18<00:33, 145.15it/s]\u001b[A\n",
      " 32%|████████████████████████▎                                                    | 2257/7163 [00:18<00:33, 147.35it/s]\u001b[A\n",
      " 32%|████████████████████████▍                                                    | 2272/7163 [00:18<00:33, 146.61it/s]\u001b[A\n",
      " 32%|████████████████████████▌                                                    | 2287/7163 [00:19<00:34, 141.14it/s]\u001b[A\n",
      " 32%|████████████████████████▋                                                    | 2302/7163 [00:19<00:34, 141.65it/s]\u001b[A\n",
      " 32%|████████████████████████▉                                                    | 2317/7163 [00:19<00:35, 136.84it/s]\u001b[A\n",
      " 33%|█████████████████████████                                                    | 2331/7163 [00:19<00:36, 133.97it/s]\u001b[A\n",
      " 33%|█████████████████████████▏                                                   | 2346/7163 [00:19<00:35, 136.53it/s]\u001b[A\n",
      " 33%|█████████████████████████▎                                                   | 2360/7163 [00:19<00:35, 137.13it/s]\u001b[A\n",
      " 33%|█████████████████████████▌                                                   | 2375/7163 [00:19<00:34, 138.96it/s]\u001b[A\n",
      " 33%|█████████████████████████▋                                                   | 2390/7163 [00:19<00:33, 140.83it/s]\u001b[A\n",
      " 34%|█████████████████████████▊                                                   | 2405/7163 [00:19<00:33, 142.25it/s]\u001b[A\n",
      " 34%|██████████████████████████                                                   | 2421/7163 [00:19<00:32, 146.41it/s]\u001b[A\n",
      " 34%|██████████████████████████▏                                                  | 2437/7163 [00:20<00:31, 149.95it/s]\u001b[A\n",
      " 34%|██████████████████████████▎                                                  | 2453/7163 [00:20<00:30, 152.01it/s]\u001b[A\n",
      " 34%|██████████████████████████▌                                                  | 2469/7163 [00:20<00:31, 149.93it/s]\u001b[A\n",
      " 35%|██████████████████████████▋                                                  | 2485/7163 [00:20<00:31, 148.12it/s]\u001b[A\n",
      " 35%|██████████████████████████▊                                                  | 2500/7163 [00:20<00:31, 148.66it/s]\u001b[A\n",
      " 35%|███████████████████████████                                                  | 2516/7163 [00:20<00:30, 151.85it/s]\u001b[A\n",
      " 35%|███████████████████████████▏                                                 | 2532/7163 [00:20<00:30, 152.69it/s]\u001b[A\n",
      " 36%|███████████████████████████▍                                                 | 2548/7163 [00:20<00:30, 150.42it/s]\u001b[A\n",
      " 36%|███████████████████████████▌                                                 | 2564/7163 [00:20<00:30, 151.14it/s]\u001b[A\n",
      " 36%|███████████████████████████▋                                                 | 2580/7163 [00:21<00:30, 151.95it/s]\u001b[A\n",
      " 36%|███████████████████████████▉                                                 | 2596/7163 [00:21<00:30, 149.11it/s]\u001b[A\n",
      " 36%|████████████████████████████                                                 | 2611/7163 [00:21<00:31, 145.62it/s]\u001b[A\n",
      " 37%|████████████████████████████▏                                                | 2626/7163 [00:21<00:32, 139.33it/s]\u001b[A\n",
      " 37%|████████████████████████████▍                                                | 2641/7163 [00:21<00:31, 141.91it/s]\u001b[A\n"
     ]
    },
    {
     "name": "stderr",
     "output_type": "stream",
     "text": [
      " 37%|████████████████████████████▌                                                | 2656/7163 [00:21<00:31, 142.99it/s]\u001b[A\n",
      " 37%|████████████████████████████▋                                                | 2672/7163 [00:21<00:30, 145.70it/s]\u001b[A\n",
      " 38%|████████████████████████████▉                                                | 2687/7163 [00:21<00:30, 145.00it/s]\u001b[A\n",
      " 38%|█████████████████████████████                                                | 2702/7163 [00:21<00:31, 143.15it/s]\u001b[A\n",
      " 38%|█████████████████████████████▏                                               | 2718/7163 [00:21<00:30, 146.50it/s]\u001b[A\n",
      " 38%|█████████████████████████████▍                                               | 2735/7163 [00:22<00:29, 151.70it/s]\u001b[A\n",
      " 38%|█████████████████████████████▌                                               | 2751/7163 [00:22<00:28, 152.34it/s]\u001b[A\n",
      " 39%|█████████████████████████████▋                                               | 2767/7163 [00:22<00:29, 151.21it/s]\u001b[A\n",
      " 39%|█████████████████████████████▉                                               | 2783/7163 [00:22<00:29, 147.37it/s]\u001b[A\n",
      " 39%|██████████████████████████████                                               | 2798/7163 [00:22<00:30, 145.23it/s]\u001b[A\n",
      " 39%|██████████████████████████████▏                                              | 2813/7163 [00:22<00:30, 143.00it/s]\u001b[A\n",
      " 39%|██████████████████████████████▍                                              | 2828/7163 [00:22<00:30, 140.98it/s]\u001b[A\n",
      " 40%|██████████████████████████████▌                                              | 2844/7163 [00:22<00:29, 145.29it/s]\u001b[A\n",
      " 40%|██████████████████████████████▋                                              | 2859/7163 [00:22<00:29, 145.80it/s]\u001b[A\n",
      " 40%|██████████████████████████████▉                                              | 2875/7163 [00:23<00:28, 148.79it/s]\u001b[A\n",
      " 40%|███████████████████████████████                                              | 2891/7163 [00:23<00:28, 151.81it/s]\u001b[A\n",
      " 41%|███████████████████████████████▏                                             | 2907/7163 [00:23<00:28, 149.57it/s]\u001b[A\n",
      " 41%|███████████████████████████████▍                                             | 2922/7163 [00:23<00:28, 146.69it/s]\u001b[A\n",
      " 41%|███████████████████████████████▌                                             | 2937/7163 [00:23<00:28, 147.23it/s]\u001b[A\n",
      " 41%|███████████████████████████████▋                                             | 2953/7163 [00:23<00:28, 149.84it/s]\u001b[A\n",
      " 41%|███████████████████████████████▉                                             | 2968/7163 [00:23<00:28, 149.71it/s]\u001b[A\n",
      " 42%|████████████████████████████████                                             | 2984/7163 [00:23<00:27, 151.51it/s]\u001b[A\n",
      " 42%|████████████████████████████████▏                                            | 3000/7163 [00:23<00:27, 150.60it/s]\u001b[A\n",
      " 42%|████████████████████████████████▍                                            | 3016/7163 [00:24<00:28, 146.12it/s]\u001b[A\n",
      " 42%|████████████████████████████████▌                                            | 3031/7163 [00:24<00:28, 145.16it/s]\u001b[A\n",
      " 43%|████████████████████████████████▋                                            | 3046/7163 [00:24<00:28, 144.65it/s]\u001b[A\n",
      " 43%|████████████████████████████████▉                                            | 3061/7163 [00:24<00:28, 145.86it/s]\u001b[A\n",
      " 43%|█████████████████████████████████                                            | 3076/7163 [00:24<00:28, 142.91it/s]\u001b[A\n",
      " 43%|█████████████████████████████████▏                                           | 3092/7163 [00:24<00:27, 146.53it/s]\u001b[A\n",
      " 43%|█████████████████████████████████▍                                           | 3107/7163 [00:24<00:27, 145.50it/s]\u001b[A\n",
      " 44%|█████████████████████████████████▌                                           | 3123/7163 [00:24<00:27, 147.54it/s]\u001b[A\n",
      " 44%|█████████████████████████████████▋                                           | 3138/7163 [00:24<00:27, 148.02it/s]\u001b[A\n",
      " 44%|█████████████████████████████████▉                                           | 3154/7163 [00:24<00:26, 149.08it/s]\u001b[A\n",
      " 44%|██████████████████████████████████                                           | 3169/7163 [00:25<00:26, 148.48it/s]\u001b[A\n",
      " 44%|██████████████████████████████████▏                                          | 3184/7163 [00:25<00:26, 148.06it/s]\u001b[A\n",
      " 45%|██████████████████████████████████▍                                          | 3199/7163 [00:25<00:27, 143.46it/s]\u001b[A\n",
      " 45%|██████████████████████████████████▌                                          | 3214/7163 [00:25<00:27, 142.49it/s]\u001b[A\n",
      " 45%|██████████████████████████████████▋                                          | 3230/7163 [00:25<00:26, 145.84it/s]\u001b[A\n",
      " 45%|██████████████████████████████████▉                                          | 3245/7163 [00:25<00:27, 142.27it/s]\u001b[A\n",
      " 46%|███████████████████████████████████                                          | 3261/7163 [00:25<00:26, 146.26it/s]\u001b[A\n",
      " 46%|███████████████████████████████████▏                                         | 3276/7163 [00:25<00:26, 146.39it/s]\u001b[A\n",
      " 46%|███████████████████████████████████▍                                         | 3292/7163 [00:25<00:26, 148.19it/s]\u001b[A\n",
      " 46%|███████████████████████████████████▌                                         | 3307/7163 [00:26<00:26, 143.58it/s]\u001b[A\n",
      " 46%|███████████████████████████████████▋                                         | 3323/7163 [00:26<00:26, 146.60it/s]\u001b[A\n",
      " 47%|███████████████████████████████████▉                                         | 3339/7163 [00:26<00:25, 149.17it/s]\u001b[A\n",
      " 47%|████████████████████████████████████                                         | 3354/7163 [00:26<00:25, 146.53it/s]\u001b[A\n",
      " 47%|████████████████████████████████████▏                                        | 3369/7163 [00:26<00:26, 144.64it/s]\u001b[A\n",
      " 47%|████████████████████████████████████▍                                        | 3386/7163 [00:26<00:25, 151.07it/s]\u001b[A\n",
      " 47%|████████████████████████████████████▌                                        | 3402/7163 [00:26<00:24, 151.53it/s]\u001b[A\n",
      " 48%|████████████████████████████████████▋                                        | 3418/7163 [00:26<00:24, 153.20it/s]\u001b[A\n",
      " 48%|████████████████████████████████████▉                                        | 3434/7163 [00:26<00:24, 154.27it/s]\u001b[A\n",
      " 48%|█████████████████████████████████████                                        | 3451/7163 [00:26<00:23, 156.60it/s]\u001b[A\n",
      " 48%|█████████████████████████████████████▎                                       | 3468/7163 [00:27<00:23, 157.75it/s]\u001b[A\n",
      " 49%|█████████████████████████████████████▍                                       | 3484/7163 [00:27<00:23, 157.49it/s]\u001b[A\n",
      " 49%|█████████████████████████████████████▌                                       | 3500/7163 [00:27<00:24, 151.10it/s]\u001b[A\n",
      " 49%|█████████████████████████████████████▊                                       | 3516/7163 [00:27<00:23, 153.21it/s]\u001b[A\n",
      " 49%|█████████████████████████████████████▉                                       | 3532/7163 [00:27<00:23, 154.28it/s]\u001b[A\n",
      " 50%|██████████████████████████████████████▏                                      | 3549/7163 [00:27<00:23, 156.57it/s]\u001b[A\n",
      " 50%|██████████████████████████████████████▎                                      | 3565/7163 [00:27<00:23, 152.96it/s]\u001b[A\n",
      " 50%|██████████████████████████████████████▍                                      | 3581/7163 [00:27<00:23, 151.59it/s]\u001b[A\n",
      " 50%|██████████████████████████████████████▋                                      | 3599/7163 [00:27<00:22, 158.36it/s]\u001b[A\n",
      " 50%|██████████████████████████████████████▊                                      | 3615/7163 [00:28<00:22, 158.38it/s]\u001b[A\n",
      " 51%|███████████████████████████████████████                                      | 3631/7163 [00:28<00:22, 157.93it/s]\u001b[A\n",
      " 51%|███████████████████████████████████████▏                                     | 3647/7163 [00:28<00:22, 157.80it/s]\u001b[A\n",
      " 51%|███████████████████████████████████████▍                                     | 3663/7163 [00:28<00:22, 154.41it/s]\u001b[A\n",
      " 51%|███████████████████████████████████████▌                                     | 3679/7163 [00:28<00:22, 152.92it/s]\u001b[A\n"
     ]
    },
    {
     "name": "stderr",
     "output_type": "stream",
     "text": [
      " 52%|███████████████████████████████████████▋                                     | 3696/7163 [00:28<00:22, 155.17it/s]\u001b[A\n",
      " 52%|███████████████████████████████████████▉                                     | 3712/7163 [00:28<00:22, 151.01it/s]\u001b[A\n",
      " 52%|████████████████████████████████████████                                     | 3728/7163 [00:28<00:23, 144.73it/s]\u001b[A\n",
      " 52%|████████████████████████████████████████▏                                    | 3744/7163 [00:28<00:23, 146.92it/s]\u001b[A\n",
      " 52%|████████████████████████████████████████▍                                    | 3759/7163 [00:28<00:23, 147.37it/s]\u001b[A\n",
      " 53%|████████████████████████████████████████▌                                    | 3775/7163 [00:29<00:22, 149.79it/s]\u001b[A\n",
      " 53%|████████████████████████████████████████▊                                    | 3791/7163 [00:29<00:22, 150.98it/s]\u001b[A\n",
      " 53%|████████████████████████████████████████▉                                    | 3808/7163 [00:29<00:21, 154.11it/s]\u001b[A\n",
      " 53%|█████████████████████████████████████████                                    | 3824/7163 [00:29<00:22, 150.54it/s]\u001b[A\n",
      " 54%|█████████████████████████████████████████▎                                   | 3840/7163 [00:29<00:21, 151.08it/s]\u001b[A\n",
      " 54%|█████████████████████████████████████████▍                                   | 3857/7163 [00:29<00:21, 154.32it/s]\u001b[A\n",
      " 54%|█████████████████████████████████████████▋                                   | 3873/7163 [00:29<00:21, 154.36it/s]\u001b[A\n",
      " 54%|█████████████████████████████████████████▊                                   | 3889/7163 [00:29<00:21, 155.00it/s]\u001b[A\n",
      " 55%|█████████████████████████████████████████▉                                   | 3905/7163 [00:29<00:21, 155.06it/s]\u001b[A\n",
      " 55%|██████████████████████████████████████████▏                                  | 3921/7163 [00:30<00:21, 151.63it/s]\u001b[A\n",
      " 55%|██████████████████████████████████████████▎                                  | 3937/7163 [00:30<00:21, 147.67it/s]\u001b[A\n",
      " 55%|██████████████████████████████████████████▌                                  | 3954/7163 [00:30<00:21, 152.63it/s]\u001b[A\n",
      " 55%|██████████████████████████████████████████▋                                  | 3971/7163 [00:30<00:20, 156.59it/s]\u001b[A\n",
      " 56%|██████████████████████████████████████████▊                                  | 3988/7163 [00:30<00:19, 160.46it/s]\u001b[A\n",
      " 56%|███████████████████████████████████████████                                  | 4005/7163 [00:30<00:19, 160.89it/s]\u001b[A\n",
      " 56%|███████████████████████████████████████████▏                                 | 4022/7163 [00:30<00:19, 161.89it/s]\u001b[A\n",
      " 56%|███████████████████████████████████████████▍                                 | 4039/7163 [00:30<00:19, 161.16it/s]\u001b[A\n",
      " 57%|███████████████████████████████████████████▌                                 | 4056/7163 [00:30<00:19, 159.10it/s]\u001b[A\n",
      " 57%|███████████████████████████████████████████▊                                 | 4072/7163 [00:30<00:19, 157.11it/s]\u001b[A\n",
      " 57%|███████████████████████████████████████████▉                                 | 4088/7163 [00:31<00:21, 146.14it/s]\u001b[A\n",
      " 57%|████████████████████████████████████████████                                 | 4104/7163 [00:31<00:20, 148.34it/s]\u001b[A\n",
      " 58%|████████████████████████████████████████████▎                                | 4119/7163 [00:31<00:21, 142.56it/s]\u001b[A\n",
      " 58%|████████████████████████████████████████████▍                                | 4134/7163 [00:31<00:21, 143.43it/s]\u001b[A\n",
      " 58%|████████████████████████████████████████████▌                                | 4151/7163 [00:31<00:20, 149.02it/s]\u001b[A\n",
      " 58%|████████████████████████████████████████████▊                                | 4166/7163 [00:31<00:20, 143.69it/s]\u001b[A\n",
      " 58%|████████████████████████████████████████████▉                                | 4181/7163 [00:31<00:21, 139.38it/s]\u001b[A\n",
      " 59%|█████████████████████████████████████████████                                | 4196/7163 [00:31<00:22, 132.38it/s]\u001b[A\n",
      " 59%|█████████████████████████████████████████████▎                               | 4210/7163 [00:32<00:23, 124.48it/s]\u001b[A\n",
      " 59%|█████████████████████████████████████████████▍                               | 4223/7163 [00:32<00:25, 117.54it/s]\u001b[A\n",
      " 59%|█████████████████████████████████████████████▌                               | 4235/7163 [00:32<00:25, 113.02it/s]\u001b[A\n",
      " 59%|█████████████████████████████████████████████▋                               | 4247/7163 [00:32<00:27, 106.42it/s]\u001b[A\n",
      " 59%|█████████████████████████████████████████████▊                               | 4258/7163 [00:32<00:27, 106.51it/s]\u001b[A\n",
      " 60%|█████████████████████████████████████████████▉                               | 4273/7163 [00:32<00:24, 117.96it/s]\u001b[A\n",
      " 60%|██████████████████████████████████████████████                               | 4288/7163 [00:32<00:23, 124.10it/s]\u001b[A\n",
      " 60%|██████████████████████████████████████████████▏                              | 4301/7163 [00:32<00:22, 124.91it/s]\u001b[A\n",
      " 60%|██████████████████████████████████████████████▍                              | 4315/7163 [00:32<00:22, 127.53it/s]\u001b[A\n",
      " 60%|██████████████████████████████████████████████▌                              | 4329/7163 [00:33<00:21, 129.97it/s]\u001b[A\n",
      " 61%|██████████████████████████████████████████████▋                              | 4344/7163 [00:33<00:20, 134.58it/s]\u001b[A\n",
      " 61%|██████████████████████████████████████████████▊                              | 4358/7163 [00:33<00:20, 134.35it/s]\u001b[A\n",
      " 61%|██████████████████████████████████████████████▉                              | 4372/7163 [00:33<00:21, 128.94it/s]\u001b[A\n",
      " 61%|███████████████████████████████████████████████▏                             | 4385/7163 [00:33<00:23, 117.33it/s]\u001b[A\n",
      " 61%|███████████████████████████████████████████████▎                             | 4399/7163 [00:33<00:22, 122.74it/s]\u001b[A\n",
      " 62%|███████████████████████████████████████████████▍                             | 4414/7163 [00:33<00:21, 128.68it/s]\u001b[A\n",
      " 62%|███████████████████████████████████████████████▌                             | 4430/7163 [00:33<00:20, 135.89it/s]\u001b[A\n",
      " 62%|███████████████████████████████████████████████▊                             | 4446/7163 [00:33<00:19, 141.92it/s]\u001b[A\n",
      " 62%|███████████████████████████████████████████████▉                             | 4461/7163 [00:33<00:18, 143.82it/s]\u001b[A\n",
      " 62%|████████████████████████████████████████████████                             | 4476/7163 [00:34<00:18, 144.78it/s]\u001b[A\n",
      " 63%|████████████████████████████████████████████████▎                            | 4491/7163 [00:34<00:18, 143.78it/s]\u001b[A\n",
      " 63%|████████████████████████████████████████████████▍                            | 4506/7163 [00:34<00:18, 145.21it/s]\u001b[A\n",
      " 63%|████████████████████████████████████████████████▌                            | 4521/7163 [00:34<00:18, 144.08it/s]\u001b[A\n",
      " 63%|████████████████████████████████████████████████▊                            | 4536/7163 [00:34<00:18, 144.13it/s]\u001b[A\n",
      " 64%|████████████████████████████████████████████████▉                            | 4553/7163 [00:34<00:17, 150.76it/s]\u001b[A\n",
      " 64%|█████████████████████████████████████████████████                            | 4569/7163 [00:34<00:17, 150.47it/s]\u001b[A\n",
      " 64%|█████████████████████████████████████████████████▎                           | 4586/7163 [00:34<00:16, 155.89it/s]\u001b[A\n",
      " 64%|█████████████████████████████████████████████████▍                           | 4603/7163 [00:34<00:16, 159.56it/s]\u001b[A\n",
      " 64%|█████████████████████████████████████████████████▋                           | 4620/7163 [00:35<00:15, 162.49it/s]\u001b[A\n",
      " 65%|█████████████████████████████████████████████████▊                           | 4637/7163 [00:35<00:16, 157.71it/s]\u001b[A\n",
      " 65%|██████████████████████████████████████████████████                           | 4653/7163 [00:35<00:16, 151.81it/s]\u001b[A\n",
      " 65%|██████████████████████████████████████████████████▏                          | 4669/7163 [00:35<00:18, 138.49it/s]\u001b[A\n",
      " 65%|██████████████████████████████████████████████████▎                          | 4684/7163 [00:35<00:17, 140.43it/s]\u001b[A\n",
      " 66%|██████████████████████████████████████████████████▌                          | 4699/7163 [00:35<00:17, 139.38it/s]\u001b[A\n"
     ]
    },
    {
     "name": "stderr",
     "output_type": "stream",
     "text": [
      " 66%|██████████████████████████████████████████████████▋                          | 4714/7163 [00:35<00:17, 141.31it/s]\u001b[A\n",
      " 66%|██████████████████████████████████████████████████▊                          | 4731/7163 [00:35<00:16, 147.88it/s]\u001b[A\n",
      " 66%|███████████████████████████████████████████████████                          | 4747/7163 [00:35<00:16, 150.49it/s]\u001b[A\n",
      " 67%|███████████████████████████████████████████████████▏                         | 4764/7163 [00:36<00:15, 155.66it/s]\u001b[A\n",
      " 67%|███████████████████████████████████████████████████▍                         | 4781/7163 [00:36<00:14, 159.59it/s]\u001b[A\n",
      " 67%|███████████████████████████████████████████████████▌                         | 4798/7163 [00:36<00:15, 154.67it/s]\u001b[A\n",
      " 67%|███████████████████████████████████████████████████▋                         | 4814/7163 [00:36<00:17, 135.27it/s]\u001b[A\n",
      " 67%|███████████████████████████████████████████████████▉                         | 4828/7163 [00:36<00:17, 132.63it/s]\u001b[A\n",
      " 68%|████████████████████████████████████████████████████                         | 4842/7163 [00:36<00:17, 132.10it/s]\u001b[A\n",
      " 68%|████████████████████████████████████████████████████▏                        | 4856/7163 [00:36<00:18, 126.41it/s]\u001b[A\n",
      " 68%|████████████████████████████████████████████████████▎                        | 4869/7163 [00:36<00:18, 127.22it/s]\u001b[A\n",
      " 68%|████████████████████████████████████████████████████▍                        | 4882/7163 [00:36<00:17, 127.78it/s]\u001b[A\n",
      " 68%|████████████████████████████████████████████████████▋                        | 4896/7163 [00:37<00:17, 130.50it/s]\u001b[A\n",
      " 69%|████████████████████████████████████████████████████▊                        | 4910/7163 [00:37<00:17, 131.70it/s]\u001b[A\n",
      " 69%|████████████████████████████████████████████████████▉                        | 4924/7163 [00:37<00:16, 131.80it/s]\u001b[A\n",
      " 69%|█████████████████████████████████████████████████████                        | 4938/7163 [00:37<00:17, 128.55it/s]\u001b[A\n",
      " 69%|█████████████████████████████████████████████████████▎                       | 4954/7163 [00:37<00:16, 135.91it/s]\u001b[A\n",
      " 69%|█████████████████████████████████████████████████████▍                       | 4969/7163 [00:37<00:15, 138.74it/s]\u001b[A\n",
      " 70%|█████████████████████████████████████████████████████▌                       | 4986/7163 [00:37<00:14, 145.82it/s]\u001b[A\n",
      " 70%|█████████████████████████████████████████████████████▊                       | 5002/7163 [00:37<00:14, 148.80it/s]\u001b[A\n",
      " 70%|█████████████████████████████████████████████████████▉                       | 5017/7163 [00:37<00:14, 147.61it/s]\u001b[A\n",
      " 70%|██████████████████████████████████████████████████████                       | 5032/7163 [00:37<00:14, 147.02it/s]\u001b[A\n",
      " 70%|██████████████████████████████████████████████████████▎                      | 5048/7163 [00:38<00:14, 149.28it/s]\u001b[A\n",
      " 71%|██████████████████████████████████████████████████████▍                      | 5064/7163 [00:38<00:13, 151.09it/s]\u001b[A\n",
      " 71%|██████████████████████████████████████████████████████▌                      | 5080/7163 [00:38<00:14, 144.40it/s]\u001b[A\n",
      " 71%|██████████████████████████████████████████████████████▊                      | 5095/7163 [00:38<00:14, 139.93it/s]\u001b[A\n",
      " 71%|██████████████████████████████████████████████████████▉                      | 5110/7163 [00:38<00:14, 140.02it/s]\u001b[A\n",
      " 72%|███████████████████████████████████████████████████████                      | 5127/7163 [00:38<00:13, 146.52it/s]\u001b[A\n",
      " 72%|███████████████████████████████████████████████████████▎                     | 5142/7163 [00:38<00:13, 147.51it/s]\u001b[A\n",
      " 72%|███████████████████████████████████████████████████████▍                     | 5157/7163 [00:38<00:13, 146.60it/s]\u001b[A\n",
      " 72%|███████████████████████████████████████████████████████▌                     | 5174/7163 [00:38<00:13, 151.67it/s]\u001b[A\n",
      " 72%|███████████████████████████████████████████████████████▊                     | 5191/7163 [00:39<00:12, 154.74it/s]\u001b[A\n",
      " 73%|███████████████████████████████████████████████████████▉                     | 5208/7163 [00:39<00:12, 158.69it/s]\u001b[A\n",
      " 73%|████████████████████████████████████████████████████████▏                    | 5224/7163 [00:39<00:12, 156.91it/s]\u001b[A\n",
      " 73%|████████████████████████████████████████████████████████▎                    | 5240/7163 [00:39<00:12, 150.54it/s]\u001b[A\n",
      " 73%|████████████████████████████████████████████████████████▌                    | 5256/7163 [00:39<00:12, 150.24it/s]\u001b[A\n",
      " 74%|████████████████████████████████████████████████████████▋                    | 5272/7163 [00:39<00:12, 152.57it/s]\u001b[A\n",
      " 74%|████████████████████████████████████████████████████████▊                    | 5289/7163 [00:39<00:12, 155.26it/s]\u001b[A\n",
      " 74%|█████████████████████████████████████████████████████████                    | 5305/7163 [00:39<00:12, 152.81it/s]\u001b[A\n",
      " 74%|█████████████████████████████████████████████████████████▏                   | 5321/7163 [00:39<00:11, 153.71it/s]\u001b[A\n",
      " 75%|█████████████████████████████████████████████████████████▍                   | 5338/7163 [00:39<00:11, 157.08it/s]\u001b[A\n",
      " 75%|█████████████████████████████████████████████████████████▌                   | 5356/7163 [00:40<00:11, 161.39it/s]\u001b[A\n",
      " 75%|█████████████████████████████████████████████████████████▊                   | 5373/7163 [00:40<00:11, 161.77it/s]\u001b[A\n",
      " 75%|█████████████████████████████████████████████████████████▉                   | 5390/7163 [00:40<00:11, 158.17it/s]\u001b[A\n",
      " 75%|██████████████████████████████████████████████████████████                   | 5406/7163 [00:40<00:11, 158.69it/s]\u001b[A\n",
      " 76%|██████████████████████████████████████████████████████████▎                  | 5423/7163 [00:40<00:10, 160.11it/s]\u001b[A\n",
      " 76%|██████████████████████████████████████████████████████████▍                  | 5440/7163 [00:40<00:10, 159.86it/s]\u001b[A\n",
      " 76%|██████████████████████████████████████████████████████████▋                  | 5456/7163 [00:40<00:10, 156.71it/s]\u001b[A\n",
      " 76%|██████████████████████████████████████████████████████████▊                  | 5472/7163 [00:40<00:11, 152.21it/s]\u001b[A\n",
      " 77%|██████████████████████████████████████████████████████████▉                  | 5488/7163 [00:40<00:10, 152.27it/s]\u001b[A\n",
      " 77%|███████████████████████████████████████████████████████████▏                 | 5505/7163 [00:41<00:10, 154.78it/s]\u001b[A\n",
      " 77%|███████████████████████████████████████████████████████████▎                 | 5521/7163 [00:41<00:10, 151.93it/s]\u001b[A\n",
      " 77%|███████████████████████████████████████████████████████████▌                 | 5537/7163 [00:41<00:10, 148.30it/s]\u001b[A\n",
      " 78%|███████████████████████████████████████████████████████████▋                 | 5552/7163 [00:41<00:10, 147.04it/s]\u001b[A\n",
      " 78%|███████████████████████████████████████████████████████████▊                 | 5568/7163 [00:41<00:10, 150.72it/s]\u001b[A\n",
      " 78%|████████████████████████████████████████████████████████████                 | 5584/7163 [00:41<00:10, 152.96it/s]\u001b[A\n",
      " 78%|████████████████████████████████████████████████████████████▏                | 5601/7163 [00:41<00:09, 156.67it/s]\u001b[A\n",
      " 78%|████████████████████████████████████████████████████████████▍                | 5617/7163 [00:41<00:10, 152.46it/s]\u001b[A\n",
      " 79%|████████████████████████████████████████████████████████████▌                | 5633/7163 [00:41<00:10, 151.23it/s]\u001b[A\n",
      " 79%|████████████████████████████████████████████████████████████▋                | 5649/7163 [00:42<00:09, 153.73it/s]\u001b[A\n",
      " 79%|████████████████████████████████████████████████████████████▉                | 5666/7163 [00:42<00:09, 158.01it/s]\u001b[A\n",
      " 79%|█████████████████████████████████████████████████████████████                | 5683/7163 [00:42<00:09, 160.00it/s]\u001b[A\n",
      " 80%|█████████████████████████████████████████████████████████████▎               | 5700/7163 [00:42<00:09, 157.14it/s]\u001b[A\n",
      " 80%|█████████████████████████████████████████████████████████████▍               | 5717/7163 [00:42<00:09, 159.19it/s]\u001b[A\n",
      " 80%|█████████████████████████████████████████████████████████████▋               | 5734/7163 [00:42<00:08, 161.38it/s]\u001b[A\n",
      " 80%|█████████████████████████████████████████████████████████████▊               | 5751/7163 [00:42<00:08, 161.14it/s]\u001b[A\n"
     ]
    },
    {
     "name": "stderr",
     "output_type": "stream",
     "text": [
      " 81%|██████████████████████████████████████████████████████████████               | 5768/7163 [00:42<00:08, 158.20it/s]\u001b[A\n",
      " 81%|██████████████████████████████████████████████████████████████▏              | 5784/7163 [00:42<00:08, 155.48it/s]\u001b[A\n",
      " 81%|██████████████████████████████████████████████████████████████▎              | 5801/7163 [00:42<00:08, 159.25it/s]\u001b[A\n",
      " 81%|██████████████████████████████████████████████████████████████▌              | 5819/7163 [00:43<00:08, 162.92it/s]\u001b[A\n",
      " 81%|██████████████████████████████████████████████████████████████▋              | 5837/7163 [00:43<00:07, 165.91it/s]\u001b[A\n",
      " 82%|██████████████████████████████████████████████████████████████▉              | 5854/7163 [00:43<00:08, 161.97it/s]\u001b[A\n",
      " 82%|███████████████████████████████████████████████████████████████              | 5871/7163 [00:43<00:08, 161.32it/s]\u001b[A\n",
      " 82%|███████████████████████████████████████████████████████████████▎             | 5888/7163 [00:43<00:07, 161.49it/s]\u001b[A\n",
      " 82%|███████████████████████████████████████████████████████████████▍             | 5905/7163 [00:43<00:07, 162.99it/s]\u001b[A\n",
      " 83%|███████████████████████████████████████████████████████████████▋             | 5922/7163 [00:43<00:07, 162.75it/s]\u001b[A\n",
      " 83%|███████████████████████████████████████████████████████████████▊             | 5939/7163 [00:43<00:07, 158.98it/s]\u001b[A\n",
      " 83%|████████████████████████████████████████████████████████████████             | 5956/7163 [00:43<00:07, 159.52it/s]\u001b[A\n",
      " 83%|████████████████████████████████████████████████████████████████▏            | 5972/7163 [00:44<00:07, 152.46it/s]\u001b[A\n",
      " 84%|████████████████████████████████████████████████████████████████▎            | 5988/7163 [00:44<00:07, 152.41it/s]\u001b[A\n",
      " 84%|████████████████████████████████████████████████████████████████▌            | 6004/7163 [00:44<00:07, 153.26it/s]\u001b[A\n",
      " 84%|████████████████████████████████████████████████████████████████▋            | 6020/7163 [00:44<00:07, 146.40it/s]\u001b[A\n",
      " 84%|████████████████████████████████████████████████████████████████▊            | 6035/7163 [00:44<00:07, 146.58it/s]\u001b[A\n",
      " 84%|█████████████████████████████████████████████████████████████████            | 6051/7163 [00:44<00:07, 149.95it/s]\u001b[A\n",
      " 85%|█████████████████████████████████████████████████████████████████▏           | 6067/7163 [00:44<00:07, 151.18it/s]\u001b[A\n",
      " 85%|█████████████████████████████████████████████████████████████████▍           | 6083/7163 [00:44<00:07, 141.46it/s]\u001b[A\n",
      " 85%|█████████████████████████████████████████████████████████████████▌           | 6100/7163 [00:44<00:07, 148.34it/s]\u001b[A\n",
      " 85%|█████████████████████████████████████████████████████████████████▊           | 6117/7163 [00:45<00:06, 152.29it/s]\u001b[A\n",
      " 86%|█████████████████████████████████████████████████████████████████▉           | 6133/7163 [00:45<00:06, 153.37it/s]\u001b[A\n",
      " 86%|██████████████████████████████████████████████████████████████████           | 6150/7163 [00:45<00:06, 156.35it/s]\u001b[A\n",
      " 86%|██████████████████████████████████████████████████████████████████▎          | 6166/7163 [00:45<00:06, 151.26it/s]\u001b[A\n",
      " 86%|██████████████████████████████████████████████████████████████████▍          | 6182/7163 [00:45<00:06, 146.85it/s]\u001b[A\n",
      " 87%|██████████████████████████████████████████████████████████████████▌          | 6197/7163 [00:45<00:06, 144.90it/s]\u001b[A\n",
      " 87%|██████████████████████████████████████████████████████████████████▊          | 6214/7163 [00:45<00:06, 149.81it/s]\u001b[A\n",
      " 87%|██████████████████████████████████████████████████████████████████▉          | 6230/7163 [00:45<00:06, 150.49it/s]\u001b[A\n",
      " 87%|███████████████████████████████████████████████████████████████████▏         | 6246/7163 [00:45<00:06, 150.62it/s]\u001b[A\n",
      " 87%|███████████████████████████████████████████████████████████████████▎         | 6264/7163 [00:45<00:05, 156.50it/s]\u001b[A\n",
      " 88%|███████████████████████████████████████████████████████████████████▌         | 6281/7163 [00:46<00:05, 159.91it/s]\u001b[A\n",
      " 88%|███████████████████████████████████████████████████████████████████▋         | 6298/7163 [00:46<00:05, 160.28it/s]\u001b[A\n",
      " 88%|███████████████████████████████████████████████████████████████████▉         | 6315/7163 [00:46<00:05, 151.27it/s]\u001b[A\n",
      " 88%|████████████████████████████████████████████████████████████████████         | 6331/7163 [00:46<00:05, 148.89it/s]\u001b[A\n",
      " 89%|████████████████████████████████████████████████████████████████████▏        | 6346/7163 [00:46<00:05, 143.62it/s]\u001b[A\n",
      " 89%|████████████████████████████████████████████████████████████████████▍        | 6361/7163 [00:46<00:05, 142.75it/s]\u001b[A\n",
      " 89%|████████████████████████████████████████████████████████████████████▌        | 6376/7163 [00:46<00:05, 144.37it/s]\u001b[A\n",
      " 89%|████████████████████████████████████████████████████████████████████▋        | 6391/7163 [00:46<00:05, 140.38it/s]\u001b[A\n",
      " 89%|████████████████████████████████████████████████████████████████████▊        | 6406/7163 [00:46<00:05, 136.94it/s]\u001b[A\n",
      " 90%|█████████████████████████████████████████████████████████████████████        | 6420/7163 [00:47<00:05, 136.83it/s]\u001b[A\n",
      " 90%|█████████████████████████████████████████████████████████████████████▏       | 6435/7163 [00:47<00:05, 139.76it/s]\u001b[A\n",
      " 90%|█████████████████████████████████████████████████████████████████████▎       | 6450/7163 [00:47<00:05, 134.03it/s]\u001b[A\n",
      " 90%|█████████████████████████████████████████████████████████████████████▍       | 6464/7163 [00:47<00:05, 133.64it/s]\u001b[A\n",
      " 90%|█████████████████████████████████████████████████████████████████████▋       | 6478/7163 [00:47<00:05, 129.25it/s]\u001b[A\n",
      " 91%|█████████████████████████████████████████████████████████████████████▊       | 6492/7163 [00:47<00:05, 130.67it/s]\u001b[A\n",
      " 91%|█████████████████████████████████████████████████████████████████████▉       | 6506/7163 [00:47<00:04, 131.81it/s]\u001b[A\n",
      " 91%|██████████████████████████████████████████████████████████████████████       | 6520/7163 [00:47<00:05, 128.40it/s]\u001b[A\n",
      " 91%|██████████████████████████████████████████████████████████████████████▏      | 6533/7163 [00:47<00:05, 125.42it/s]\u001b[A\n",
      " 91%|██████████████████████████████████████████████████████████████████████▍      | 6550/7163 [00:48<00:04, 134.89it/s]\u001b[A\n",
      " 92%|██████████████████████████████████████████████████████████████████████▌      | 6566/7163 [00:48<00:04, 139.98it/s]\u001b[A\n",
      " 92%|██████████████████████████████████████████████████████████████████████▋      | 6581/7163 [00:48<00:04, 137.68it/s]\u001b[A\n",
      " 92%|██████████████████████████████████████████████████████████████████████▉      | 6595/7163 [00:48<00:04, 136.06it/s]\u001b[A\n",
      " 92%|███████████████████████████████████████████████████████████████████████      | 6610/7163 [00:48<00:03, 138.83it/s]\u001b[A\n",
      " 93%|███████████████████████████████████████████████████████████████████████▏     | 6626/7163 [00:48<00:03, 142.83it/s]\u001b[A\n",
      " 93%|███████████████████████████████████████████████████████████████████████▍     | 6641/7163 [00:48<00:03, 144.65it/s]\u001b[A\n",
      " 93%|███████████████████████████████████████████████████████████████████████▌     | 6656/7163 [00:48<00:03, 144.07it/s]\u001b[A\n",
      " 93%|███████████████████████████████████████████████████████████████████████▋     | 6672/7163 [00:48<00:03, 148.27it/s]\u001b[A\n",
      " 93%|███████████████████████████████████████████████████████████████████████▉     | 6689/7163 [00:48<00:03, 153.75it/s]\u001b[A\n",
      " 94%|████████████████████████████████████████████████████████████████████████     | 6705/7163 [00:49<00:02, 155.13it/s]\u001b[A\n",
      " 94%|████████████████████████████████████████████████████████████████████████▎    | 6722/7163 [00:49<00:02, 156.93it/s]\u001b[A\n",
      " 94%|████████████████████████████████████████████████████████████████████████▍    | 6738/7163 [00:49<00:02, 152.92it/s]\u001b[A\n",
      " 94%|████████████████████████████████████████████████████████████████████████▌    | 6754/7163 [00:49<00:02, 153.02it/s]\u001b[A\n",
      " 95%|████████████████████████████████████████████████████████████████████████▊    | 6771/7163 [00:49<00:02, 156.31it/s]\u001b[A\n",
      " 95%|████████████████████████████████████████████████████████████████████████▉    | 6788/7163 [00:49<00:02, 158.28it/s]\u001b[A\n",
      " 95%|█████████████████████████████████████████████████████████████████████████▏   | 6804/7163 [00:49<00:02, 150.64it/s]\u001b[A\n"
     ]
    },
    {
     "name": "stderr",
     "output_type": "stream",
     "text": [
      " 95%|█████████████████████████████████████████████████████████████████████████▎   | 6820/7163 [00:49<00:02, 147.85it/s]\u001b[A\n",
      " 95%|█████████████████████████████████████████████████████████████████████████▍   | 6835/7163 [00:49<00:02, 147.03it/s]\u001b[A\n",
      " 96%|█████████████████████████████████████████████████████████████████████████▋   | 6851/7163 [00:50<00:02, 150.60it/s]\u001b[A\n",
      " 96%|█████████████████████████████████████████████████████████████████████████▊   | 6867/7163 [00:50<00:01, 151.98it/s]\u001b[A\n",
      " 96%|█████████████████████████████████████████████████████████████████████████▉   | 6883/7163 [00:50<00:01, 145.86it/s]\u001b[A\n",
      " 96%|██████████████████████████████████████████████████████████████████████████▏  | 6899/7163 [00:50<00:01, 149.53it/s]\u001b[A\n",
      " 97%|██████████████████████████████████████████████████████████████████████████▎  | 6915/7163 [00:50<00:01, 151.00it/s]\u001b[A\n",
      " 97%|██████████████████████████████████████████████████████████████████████████▌  | 6931/7163 [00:50<00:01, 147.17it/s]\u001b[A\n",
      " 97%|██████████████████████████████████████████████████████████████████████████▋  | 6947/7163 [00:50<00:01, 149.29it/s]\u001b[A\n",
      " 97%|██████████████████████████████████████████████████████████████████████████▊  | 6962/7163 [00:50<00:01, 142.17it/s]\u001b[A\n",
      " 97%|███████████████████████████████████████████████████████████████████████████  | 6978/7163 [00:50<00:01, 146.24it/s]\u001b[A\n",
      " 98%|███████████████████████████████████████████████████████████████████████████▏ | 6993/7163 [00:51<00:01, 146.88it/s]\u001b[A\n",
      " 98%|███████████████████████████████████████████████████████████████████████████▎ | 7010/7163 [00:51<00:01, 151.36it/s]\u001b[A\n",
      " 98%|███████████████████████████████████████████████████████████████████████████▌ | 7026/7163 [00:51<00:00, 151.67it/s]\u001b[A\n",
      " 98%|███████████████████████████████████████████████████████████████████████████▋ | 7042/7163 [00:51<00:00, 145.78it/s]\u001b[A\n",
      " 99%|███████████████████████████████████████████████████████████████████████████▊ | 7057/7163 [00:51<00:00, 143.76it/s]\u001b[A\n",
      " 99%|████████████████████████████████████████████████████████████████████████████ | 7074/7163 [00:51<00:00, 150.31it/s]\u001b[A\n",
      " 99%|████████████████████████████████████████████████████████████████████████████▏| 7091/7163 [00:51<00:00, 153.56it/s]\u001b[A\n",
      " 99%|████████████████████████████████████████████████████████████████████████████▍| 7107/7163 [00:51<00:00, 150.84it/s]\u001b[A\n",
      " 99%|████████████████████████████████████████████████████████████████████████████▌| 7123/7163 [00:51<00:00, 151.72it/s]\u001b[A\n",
      "100%|████████████████████████████████████████████████████████████████████████████▊| 7140/7163 [00:51<00:00, 155.46it/s]\u001b[A\n",
      "100%|█████████████████████████████████████████████████████████████████████████████| 7163/7163 [00:52<00:00, 137.39it/s]\u001b[A\n"
     ]
    },
    {
     "name": "stdout",
     "output_type": "stream",
     "text": [
      "Test set classification report:\n",
      "              precision    recall  f1-score   support\n",
      "\n",
      "         0.0       0.99      1.00      0.99      2304\n",
      "         1.0       1.00      0.99      1.00      2383\n",
      "         2.0       1.00      1.00      1.00      2476\n",
      "\n",
      "    accuracy                           1.00      7163\n",
      "   macro avg       1.00      1.00      1.00      7163\n",
      "weighted avg       1.00      1.00      1.00      7163\n",
      "\n"
     ]
    },
    {
     "data": {
      "image/png": "[encoded data removed]",
      "text/plain": [
       "<Figure size 1600x900 with 2 Axes>"
      ]
     },
     "metadata": {},
     "output_type": "display_data"
    }
   ],
   "source": [
    "# ----\n",
    "# ### Evaluate the test set\n",
    "\n",
    "# Infer results over validation set\n",
    "num_test_examples = len(test_dataset)\n",
    "y_raw_preds = np.empty((num_test_examples, num_classes))\n",
    "y_preds = np.zeros((num_test_examples,))\n",
    "y_true = np.zeros((num_test_examples,))\n",
    "\n",
    "for i in tqdm(range(0, num_test_examples)):\n",
    "    # Retrieve data\n",
    "    idx = i  # Use index if evaluating over full dataset\n",
    "    data, label = test_dataset[idx]\n",
    "    # Infer\n",
    "    data = torch.from_numpy(np.expand_dims(data, 0)).float().to(device)\n",
    "    pred_tmp = test_model.predict(data)\n",
    "    pred_tmp = pred_tmp.cpu().numpy() if torch.cuda.is_available() else pred_tmp\n",
    "    # Argmax\n",
    "    y_preds[i] = np.argmax(pred_tmp)\n",
    "    # Store label\n",
    "    y_true[i] = label\n",
    "\n",
    "acc = np.sum(np.asarray(y_preds) == np.asarray(y_true)) / len(y_true)\n",
    "plot_confusion_matrix(\n",
    "    y_true,\n",
    "    y_preds,\n",
    "    classes = class_list,\n",
    "    normalize = True,\n",
    "    title=\"Test Set Modulations Confusion Matrix\\nTotal Accuracy: {:.2f}%\".format(\n",
    "        acc * 100\n",
    "    ),\n",
    "    text=False,\n",
    "    rotate_x_text=90,\n",
    "    figsize=(16, 9),\n",
    ")\n",
    "plt.savefig(f\"{checkpoint_dir}/test_result.png\")\n",
    "\n",
    "print(\"Test set classification report:\")\n",
    "print(classification_report(y_true, y_preds))"
   ]
  }
 ],
 "metadata": {
  "kernelspec": {
   "display_name": "pytorch",
   "language": "python",
   "name": "pytorch"
  },
  "language_info": {
   "codemirror_mode": {
    "name": "ipython",
    "version": 3
   },
   "file_extension": ".py",
   "mimetype": "text/x-python",
   "name": "python",
   "nbconvert_exporter": "python",
   "pygments_lexer": "ipython3",
   "version": "3.9.6"
  }
 },
 "nbformat": 4,
 "nbformat_minor": 5
}
